{
 "cells": [
  {
   "cell_type": "markdown",
   "metadata": {
    "id": "5DrvzQ9BsXmX"
   },
   "source": [
    "# Comparando Modelos"
   ]
  },
  {
   "cell_type": "markdown",
   "metadata": {
    "id": "Y2U9lu16sgta"
   },
   "source": [
    "Estamos en la  Clase 02\n",
    "<br> El objetivo de la materia es lograr la mejor predicción para nuestro probleama, para lo que se probarán pipelines con decenas de alternativas, será indispensable comparar varios modelos predictivos entre sí y decidir cual es el mejor\n",
    "<br> La tarea no es tan sencilla"
   ]
  },
  {
   "cell_type": "markdown",
   "metadata": {
    "editable": true,
    "id": "kmLygy1TYPfg",
    "slideshow": {
     "slide_type": ""
    },
    "tags": []
   },
   "source": [
    "## Seteo del ambiente en Google Colab"
   ]
  },
  {
   "cell_type": "markdown",
   "metadata": {
    "id": "OikOm5K2YU3X"
   },
   "source": [
    "Esta parte se debe correr con el runtime en Python3\n",
    "<br>Ir al menu, Runtime -> Change Runtime Tipe -> Runtime type ->  **Python 3**"
   ]
  },
  {
   "cell_type": "markdown",
   "metadata": {
    "id": "4fmV5LyZdFyI"
   },
   "source": [
    "Conectar la virtual machine donde esta corriendo Google Colab con el  Google Drive, para poder tener persistencia de archivos"
   ]
  },
  {
   "cell_type": "code",
   "execution_count": 6,
   "metadata": {
    "id": "ilEZ-bE2VybW"
   },
   "outputs": [
    {
     "ename": "ERROR",
     "evalue": "Error in parse(text = input): <text>:2:6: unexpected symbol\n1: # primero establecer el Runtime de Python 3\n2: from google.colab\n        ^\n",
     "output_type": "error",
     "traceback": [
      "Error in parse(text = input): <text>:2:6: unexpected symbol\n1: # primero establecer el Runtime de Python 3\n2: from google.colab\n        ^\nTraceback:\n"
     ]
    }
   ],
   "source": [
    "# primero establecer el Runtime de Python 3\n",
    "from google.colab import drive\n",
    "drive.mount('/content/.drive')"
   ]
  },
  {
   "cell_type": "markdown",
   "metadata": {
    "id": "ilaKtqWldeWg"
   },
   "source": [
    "Para correr la siguiente celda es fundamental en Arranque en Frio haber copiado el archivo kaggle.json al Google Drive, en la carpeta indicada en el instructivo\n",
    "\n",
    "<br>los siguientes comando estan en shell script de Linux\n",
    "*   Crear las carpetas en el Google Drive\n",
    "*   \"instalar\" el archivo kaggle.json desde el Google Drive a la virtual machine para que pueda ser utilizado por la libreria  kaggle de Python\n",
    "*   Bajar el  **dataset_pequeno**  al  Google Drive  y tambien al disco local de la virtual machine que esta corriendo Google Colab\n",
    "\n"
   ]
  },
  {
   "cell_type": "code",
   "execution_count": 5,
   "metadata": {
    "id": "W8dQFI5QYCFa"
   },
   "outputs": [
    {
     "ename": "ERROR",
     "evalue": "Error in parse(text = input): <text>:1:1: unexpected SPECIAL\n1: %%\n    ^\n",
     "output_type": "error",
     "traceback": [
      "Error in parse(text = input): <text>:1:1: unexpected SPECIAL\n1: %%\n    ^\nTraceback:\n"
     ]
    }
   ],
   "source": [
    "%%shell\n",
    "\n",
    "mkdir -p \"/content/.drive/My Drive/labo1\"\n",
    "mkdir -p \"/content/buckets\"\n",
    "ln -s \"/content/.drive/My Drive/labo1\" /content/buckets/b1\n",
    "\n",
    "mkdir -p ~/.kaggle\n",
    "cp /content/buckets/b1/kaggle/kaggle.json  ~/.kaggle\n",
    "chmod 600 ~/.kaggle/kaggle.json\n",
    "\n",
    "\n",
    "mkdir -p /content/buckets/b1/exp\n",
    "mkdir -p /content/buckets/b1/datasets\n",
    "mkdir -p /content/datasets\n",
    "\n",
    "\n",
    "\n",
    "archivo_origen=\"https://storage.googleapis.com/open-courses/austral2025-af91/dataset_pequeno.csv\"\n",
    "archivo_destino=\"/content/datasets/dataset_pequeno.csv\"\n",
    "archivo_destino_bucket=\"/content/buckets/b1/datasets/dataset_pequeno.csv\"\n",
    "\n",
    "if ! test -f $archivo_destino_bucket; then\n",
    "  wget  $archivo_origen  -O $archivo_destino_bucket\n",
    "fi\n",
    "\n",
    "\n",
    "if ! test -f $archivo_destino; then\n",
    "  cp  $archivo_destino_bucket  $archivo_destino\n",
    "fi\n"
   ]
  },
  {
   "cell_type": "markdown",
   "metadata": {
    "id": "iV32-NeesVp6"
   },
   "source": [
    "# 1  Particion Training/Testing\n",
    "## Clase 02  Experimento 1"
   ]
  },
  {
   "cell_type": "markdown",
   "metadata": {
    "id": "84Pnj9gVwpXB"
   },
   "source": [
    "## 1.1  Objetivos\n",
    "Dado que es el primer experimento de la asignatura, acercar a l@s estudiantes las mejores prácticas de operación del ambiente de Google Cloud, realizando una minuciosa demostración en vivo narrando todas las consideraciones pertinentes para evitar accidentes, daños a terceros y a equipos.\n",
    "Dar soporte en el acto a  l@s estudiantes que necesitan ayuda para terminar de configurar el ambiente Google Cloud .\n",
    "<br>Repaso del concepto de  partición de un dataset al azar, estratificada en la clase\n",
    "<br>Dado que es el primer script que se mostrará en vivo a l@s estudiantes,  realizar una visita guiada del  mismo, su estructura y detalles.\n",
    "<br>Repaso del algoritmo Arbol de Decisión sus hiperparámetros, y la implementación con la librería  rpart.  Funciones  rpart::rpart  y rpart::predict\n",
    "<br>Concepto de replicabilidad de los experimentos mediante las semillas de los generadores de secuencias de números pseudoaleatorios.\n",
    "<br>Finalmente, el principal objetivo de este experimento es lograr que l@s estudiantes dimensionen la enorme variabilidad del error de medición de la ganancia de un árbol de decisión al realizar una partición <training, testing>,  contener la sorpresa de los estudiantes, descartar a la simple particion <training, testing> como método,  y construir en conjunto una solucion natural al problema."
   ]
  },
  {
   "cell_type": "markdown",
   "metadata": {
    "id": "L9Cn0WThw37Y"
   },
   "source": [
    "## 1.2 Introduccion"
   ]
  },
  {
   "cell_type": "markdown",
   "metadata": {
    "id": "ZELZ0R4itUVG"
   },
   "source": [
    "![Particiohn Training/Testing](https://storage.googleapis.com/open-courses/austral2025-af91/labo1r/C2_E1_particion.jpg)"
   ]
  },
  {
   "cell_type": "markdown",
   "metadata": {
    "id": "Wtc1ho58xLk-"
   },
   "source": [
    "![Dos tipos de error](https://storage.googleapis.com/open-courses/austral2025-af91/labo1r/C2_E1_target.jpg)"
   ]
  },
  {
   "cell_type": "markdown",
   "metadata": {
    "id": "oRWtRV34xZRT"
   },
   "source": [
    "## 1.3  Bibliografía\n",
    "\n",
    "Demšar, J. [Statistical comparisons of classifiers over multiple data sets](https://www.jmlr.org/papers/volume7/demsar06a/demsar06a.pdf) J. Mach. Learn. Res. 7, 1–30 (2006).   \n",
    "Starmer, J. [Machine Learning Fundamentals: Cross Validation](https://www.youtube.com/watch?v=fSytzGwwBVw)Machine Learning Fundamentals: Cross Validation, StatQuest with Josh Starmer youtube channel, (2018)\n",
    "Hastie, T.[The elements of statistical learning: data mining, inference, and prediction](https://hastie.su.domains/Papers/ESLII.pdf) , volume 2. Springer, 2009  ( Chapter 7 Model Assessment and Selection )"
   ]
  },
  {
   "cell_type": "markdown",
   "metadata": {
    "id": "VcgTQ2-Pyb8q"
   },
   "source": [
    "## 1.4 Codigo"
   ]
  },
  {
   "cell_type": "markdown",
   "metadata": {
    "id": "SBXPU-_tabMb"
   },
   "source": [
    "Esta parte se debe correr con el runtime en lenguaje **R** Ir al menu, Runtime -> Change Runtime Tipe -> Runtime type -> R"
   ]
  },
  {
   "cell_type": "markdown",
   "metadata": {
    "id": "SE94XRhWsxkX"
   },
   "source": [
    "limpio el ambiente de R"
   ]
  },
  {
   "cell_type": "code",
   "execution_count": 5,
   "metadata": {
    "id": "oZG_4br6szlT"
   },
   "outputs": [
    {
     "data": {
      "text/html": [
       "<table class=\"dataframe\">\n",
       "<caption>A matrix: 2 × 6 of type dbl</caption>\n",
       "<thead>\n",
       "\t<tr><th></th><th scope=col>used</th><th scope=col>(Mb)</th><th scope=col>gc trigger</th><th scope=col>(Mb)</th><th scope=col>max used</th><th scope=col>(Mb)</th></tr>\n",
       "</thead>\n",
       "<tbody>\n",
       "\t<tr><th scope=row>Ncells</th><td> 655312</td><td>35.0</td><td>1439385</td><td>76.9</td><td>1439385</td><td>76.9</td></tr>\n",
       "\t<tr><th scope=row>Vcells</th><td>1221947</td><td> 9.4</td><td>8388608</td><td>64.0</td><td>1924965</td><td>14.7</td></tr>\n",
       "</tbody>\n",
       "</table>\n"
      ],
      "text/latex": [
       "A matrix: 2 × 6 of type dbl\n",
       "\\begin{tabular}{r|llllll}\n",
       "  & used & (Mb) & gc trigger & (Mb) & max used & (Mb)\\\\\n",
       "\\hline\n",
       "\tNcells &  655312 & 35.0 & 1439385 & 76.9 & 1439385 & 76.9\\\\\n",
       "\tVcells & 1221947 &  9.4 & 8388608 & 64.0 & 1924965 & 14.7\\\\\n",
       "\\end{tabular}\n"
      ],
      "text/markdown": [
       "\n",
       "A matrix: 2 × 6 of type dbl\n",
       "\n",
       "| <!--/--> | used | (Mb) | gc trigger | (Mb) | max used | (Mb) |\n",
       "|---|---|---|---|---|---|---|\n",
       "| Ncells |  655312 | 35.0 | 1439385 | 76.9 | 1439385 | 76.9 |\n",
       "| Vcells | 1221947 |  9.4 | 8388608 | 64.0 | 1924965 | 14.7 |\n",
       "\n"
      ],
      "text/plain": [
       "       used    (Mb) gc trigger (Mb) max used (Mb)\n",
       "Ncells  655312 35.0 1439385    76.9 1439385  76.9\n",
       "Vcells 1221947  9.4 8388608    64.0 1924965  14.7"
      ]
     },
     "metadata": {},
     "output_type": "display_data"
    }
   ],
   "source": [
    "# limpio la memoria\n",
    "rm(list=ls(all.names=TRUE)) # remove all objects\n",
    "gc(full=TRUE, verbose=FALSE) # garbage collection"
   ]
  },
  {
   "cell_type": "code",
   "execution_count": 6,
   "metadata": {
    "id": "pJ8SsVA5ssnf"
   },
   "outputs": [
    {
     "data": {
      "text/plain": [
       "[1] \"2025-09-07 22:41:10 UTC\""
      ]
     },
     "metadata": {},
     "output_type": "display_data"
    }
   ],
   "source": [
    "Sys.time()"
   ]
  },
  {
   "cell_type": "markdown",
   "metadata": {
    "id": "3BrrQ47PeEb2"
   },
   "source": [
    "* Instalacion de la libreria  rpart.plot  para dibujar el arbol\n",
    "* invocacion de las librerias  **data.table** y  **rpart**"
   ]
  },
  {
   "cell_type": "code",
   "execution_count": 7,
   "metadata": {
    "id": "SxO-0Ql0khn6"
   },
   "outputs": [
    {
     "name": "stderr",
     "output_type": "stream",
     "text": [
      "Loading required package: data.table\n",
      "\n",
      "Loading required package: rpart\n",
      "\n"
     ]
    }
   ],
   "source": [
    "# cargo las librerias que necesito\n",
    "require(\"data.table\")\n",
    "require(\"rpart\")\n"
   ]
  },
  {
   "cell_type": "markdown",
   "metadata": {
    "id": "ZG9fCnZh3bWV"
   },
   "source": [
    "###  Accion a Realizar\n",
    "PARAM$semilla  debe tener su primer semilla aleatoria"
   ]
  },
  {
   "cell_type": "code",
   "execution_count": 8,
   "metadata": {
    "id": "0nx5_OcE3Y9c"
   },
   "outputs": [],
   "source": [
    "PARAM <- list()\n",
    "PARAM$semilla <- 102191  # aqui debe ir su primer semilla\n",
    "PARAM$training_pct <- 70L  # entre  1L y 99L\n",
    "\n",
    "PARAM$rpart <- list (\n",
    "  \"cp\" = -1, # complejidad minima\n",
    "  \"minsplit\" = 170, # minima cantidad de regs en un nodo para hacer el split\n",
    "  \"minbucket\" = 70, # minima cantidad de regs en una hoja\n",
    "  \"maxdepth\" = 7 # profundidad máxima del arbol\n",
    ")\n"
   ]
  },
  {
   "cell_type": "code",
   "execution_count": 9,
   "metadata": {
    "id": "8HLE9Dx80gjH"
   },
   "outputs": [],
   "source": [
    "# particionar agrega una columna llamada fold a un dataset\n",
    "#  que consiste en una particion estratificada segun agrupa\n",
    "\n",
    "# particionar( data=dataset, division=c(70,30),\n",
    "#  agrupa=clase_ternaria, seed=semilla)   crea una particion 70, 30\n",
    "\n",
    "particionar <- function(\n",
    "    data, division, agrupa = \"\",\n",
    "    campo = \"fold\", start = 1, seed = NA) {\n",
    "  if (!is.na(seed)) set.seed(seed)\n",
    "\n",
    "  bloque <- unlist(mapply(function(x, y) {\n",
    "    rep(y, x)\n",
    "  }, division, seq(from = start, length.out = length(division))))\n",
    "\n",
    "  data[, (campo) := sample(rep(bloque, ceiling(.N / length(bloque))))[1:.N],\n",
    "    by = agrupa\n",
    "  ]\n",
    "}\n"
   ]
  },
  {
   "cell_type": "code",
   "execution_count": 10,
   "metadata": {
    "id": "sC4_nqcm0nUs"
   },
   "outputs": [],
   "source": [
    "# carpeta de trabajo\n",
    "setwd(\"/content/buckets/b1/exp\")\n",
    "experimento <- \"exp201\"\n",
    "dir.create(experimento, showWarnings=FALSE)\n",
    "setwd( paste0(\"/content/buckets/b1/exp/\", experimento ))"
   ]
  },
  {
   "cell_type": "code",
   "execution_count": 11,
   "metadata": {
    "id": "6yIEsZOw07q8"
   },
   "outputs": [],
   "source": [
    "# lectura del dataset\n",
    "dataset <- fread(\"/content/datasets/dataset_pequeno.csv\")\n",
    "\n",
    "# trabajo solo con los datos con clase, es decir 202107\n",
    "dataset <- dataset[clase_ternaria != \"\"]"
   ]
  },
  {
   "cell_type": "code",
   "execution_count": 12,
   "metadata": {
    "id": "FAO1Hhd52b5d"
   },
   "outputs": [],
   "source": [
    "# particiono estratificadamente el dataset 70%, 30%\n",
    "particionar(dataset,\n",
    "  division = c(PARAM$training_pct, 100L -PARAM$training_pct),\n",
    "  agrupa = \"clase_ternaria\",\n",
    "  seed = PARAM$semilla # aqui se usa SU semilla\n",
    ")\n",
    "\n"
   ]
  },
  {
   "cell_type": "code",
   "execution_count": 13,
   "metadata": {
    "id": "s3UnHSLP2gN6"
   },
   "outputs": [],
   "source": [
    "# genero el modelo\n",
    "# quiero predecir clase_ternaria a partir del resto\n",
    "# fold==1  es training,  el 70% de los datos\n",
    "modelo <- rpart(\"clase_ternaria ~ .\",\n",
    "  data = dataset[fold == 1],  # fold==1  es training, el 70% de los datos\n",
    "  xval = 0,\n",
    "  control = PARAM$rpart # aqui van los parametros\n",
    ")\n"
   ]
  },
  {
   "cell_type": "code",
   "execution_count": 14,
   "metadata": {
    "id": "paQphV4A2jGz"
   },
   "outputs": [],
   "source": [
    "# aplico el modelo a los datos de testing\n",
    "prediccion <- predict(modelo, # el modelo que genere recien\n",
    "  dataset[fold == 2], # fold==2  es testing, el 30% de los datos\n",
    "  type = \"prob\"\n",
    ") # type= \"prob\"  es que devuelva la probabilidad\n"
   ]
  },
  {
   "cell_type": "code",
   "execution_count": 15,
   "metadata": {
    "id": "fuLZ75pA29dT"
   },
   "outputs": [],
   "source": [
    "tb_prediccion <- as.data.table(list(\n",
    "  \"clase_ternaria\"=dataset[fold == 2, clase_ternaria],\n",
    "  \"prob\"=prediccion[, \"BAJA+2\"]\n",
    "))"
   ]
  },
  {
   "cell_type": "code",
   "execution_count": 16,
   "metadata": {
    "id": "LuG6ql_t3kOI"
   },
   "outputs": [],
   "source": [
    "# calculo la ganancia de cada registro\n",
    "tb_prediccion[, ganancia := ifelse(clase_ternaria == \"BAJA+2\", 117000, -3000)]"
   ]
  },
  {
   "cell_type": "code",
   "execution_count": 17,
   "metadata": {
    "id": "xJ3WTMez3leO"
   },
   "outputs": [],
   "source": [
    "# calculo la clase\n",
    "tb_prediccion[, Predicted := prob > (1/40) ]"
   ]
  },
  {
   "cell_type": "code",
   "execution_count": 18,
   "metadata": {
    "id": "cFQPacen4Wq6"
   },
   "outputs": [],
   "source": [
    "ganancia_test <-  tb_prediccion[ Predicted==TRUE,  sum(ganancia)]"
   ]
  },
  {
   "cell_type": "code",
   "execution_count": 19,
   "metadata": {
    "id": "dHjz0zhN4-nZ"
   },
   "outputs": [],
   "source": [
    "# normalizo la ganancia\n",
    "ganancia_test_normalizada <- ganancia_test / (( 100 - PARAM$training_pct ) / 100 )"
   ]
  },
  {
   "cell_type": "code",
   "execution_count": 20,
   "metadata": {
    "id": "D7RUdTb95F6B"
   },
   "outputs": [],
   "source": [
    "estimulos <- tb_prediccion[ Predicted==TRUE, .N]\n",
    "aciertos <- tb_prediccion[ Predicted & clase_ternaria == \"BAJA+2\", .N]\n"
   ]
  },
  {
   "cell_type": "code",
   "execution_count": 21,
   "metadata": {
    "id": "Lu1KM6fy5U7h"
   },
   "outputs": [
    {
     "name": "stdout",
     "output_type": "stream",
     "text": [
      "Testing total:  49373 \n",
      "Testing BAJA+2:  377 \n",
      "Estimulos:  3766 \n",
      "Aciertos (BAJA+2):  223 \n",
      "Ganancia en testing (normalizada):  51540000 \n"
     ]
    }
   ],
   "source": [
    "# Resultado Final\n",
    "cat(\"Testing total: \", dataset[fold == 2, .N], \"\\n\")\n",
    "cat(\"Testing BAJA+2: \", dataset[fold == 2 & clase_ternaria == \"BAJA+2\", .N], \"\\n\")\n",
    "\n",
    "cat(\"Estimulos: \", estimulos, \"\\n\")\n",
    "cat(\"Aciertos (BAJA+2): \", aciertos, \"\\n\")\n",
    "\n",
    "cat(\"Ganancia en testing (normalizada): \", ganancia_test_normalizada, \"\\n\")\n"
   ]
  },
  {
   "cell_type": "markdown",
   "metadata": {
    "id": "kHs-YoFB5rUa"
   },
   "source": [
    "### Acciones a realizar\n",
    "* Reportar la  *Ganancia en testing (normalizada)* <br> en la planilla colaborativa hoja  **C2-1sem**\n",
    "* Se discutirá en clase la variabilidad de las ganancias obtenidas de distintos alumnos"
   ]
  },
  {
   "cell_type": "markdown",
   "metadata": {
    "id": "LBl_eIeO7WuM"
   },
   "source": [
    "\n",
    "\n",
    "---\n",
    "\n"
   ]
  },
  {
   "cell_type": "markdown",
   "metadata": {
    "id": "h43UCq9y7UlT"
   },
   "source": [
    "# 2  Medición Monte Carlo Cross Validation\n",
    "## Clase 02  Experimento 2"
   ]
  },
  {
   "cell_type": "markdown",
   "metadata": {
    "id": "wHPchGXK80VU"
   },
   "source": [
    "## 2.1  Objetivos\n",
    "Mostrar el funcionamiento de la Montecarlo Cross Validation y que l@s estudiantes aprecien la disminución de la varianza de dicha metodología.\n",
    "Relación con el Teorema Central del Límite"
   ]
  },
  {
   "cell_type": "markdown",
   "metadata": {
    "id": "g6YzACxl9DzS"
   },
   "source": [
    "## 2.2 Introduccion\n",
    "\n",
    "![Montecarlo](https://storage.googleapis.com/open-courses/austral2025-af91/labo1r/C2_E2_montecarlo.jpg)\n",
    "\n",
    "![Curva normal](https://storage.googleapis.com/open-courses/austral2025-af91/labo1r/C2_E2_normal.jpg)\n",
    "\n",
    "![Teorema Central del Limite](https://storage.googleapis.com/open-courses/austral2025-af91/labo1r/C2_E2_teoremacentralLimite.jpg)\n",
    "\n"
   ]
  },
  {
   "cell_type": "markdown",
   "metadata": {
    "id": "7laod2t4ArsH"
   },
   "source": []
  },
  {
   "cell_type": "markdown",
   "metadata": {
    "id": "lFcJeRAkAr-q"
   },
   "source": [
    "## 2.3  Bibliografía\n",
    "\n",
    "Demšar, J. [Statistical comparisons of classifiers over multiple data sets](https://www.jmlr.org/papers/volume7/demsar06a/demsar06a.pdf) J. Mach. Learn. Res. 7, 1–30 (2006).   \n",
    "Starmer, J. [Machine Learning Fundamentals: Cross Validation](https://www.youtube.com/watch?v=fSytzGwwBVw)Machine Learning Fundamentals: Cross Validation, StatQuest with Josh Starmer youtube channel, (2018)\n",
    "Hastie, T.[The elements of statistical learning: data mining, inference, and prediction](https://hastie.su.domains/Papers/ESLII.pdf) , volume 2. Springer, 2009  ( Chapter 7 Model Assessment and Selection )"
   ]
  },
  {
   "cell_type": "code",
   "execution_count": null,
   "metadata": {
    "id": "KXSuYXQ26cLV"
   },
   "outputs": [],
   "source": []
  },
  {
   "cell_type": "markdown",
   "metadata": {
    "id": "0ztZzYolA2WK"
   },
   "source": [
    "## 2.4 Codigo  Montecarlo"
   ]
  },
  {
   "cell_type": "markdown",
   "metadata": {
    "id": "KLa06ZsiC-Oz"
   },
   "source": [
    "El código de la Montecarlo Cross Validation es notablemente más complejo que el anterior de una simple partición training/testing\n",
    "<br> Se crea la funcion ArbolEstimarGanancia()  que dada una semilla realiza la partición  training/testing, entrena en training, aplica el modelo a testing, y se calculan las ganancias\n",
    "<br> Se utiliza la funcion **mcmapply**  de R para aplicar ArbolEstimarGanancia a todos los elementos del vector de semillas"
   ]
  },
  {
   "cell_type": "markdown",
   "metadata": {
    "id": "ivFiBBOQA2Ws"
   },
   "source": [
    "Esta parte se debe correr con el runtime en lenguaje **R** Ir al menu, Runtime -> Change Runtime Tipe -> Runtime type -> R"
   ]
  },
  {
   "cell_type": "markdown",
   "metadata": {
    "id": "TMSAQDXuA2Ws"
   },
   "source": [
    "limpio el ambiente de R"
   ]
  },
  {
   "cell_type": "code",
   "execution_count": null,
   "metadata": {
    "id": "eakzb8y2A2Wt"
   },
   "outputs": [],
   "source": [
    "# limpio la memoria\n",
    "rm(list=ls(all.names=TRUE)) # remove all objects\n",
    "gc(full=TRUE, verbose=FALSE) # garbage collection"
   ]
  },
  {
   "cell_type": "markdown",
   "metadata": {
    "id": "559RkeYZA2Wv"
   },
   "source": [
    "* Instalacion de la libreria  rpart.plot  para dibujar el arbol\n",
    "* invocacion de las librerias  **data.table** y  **rpart**"
   ]
  },
  {
   "cell_type": "code",
   "execution_count": null,
   "metadata": {
    "id": "yf_S_HlsA2Wv"
   },
   "outputs": [],
   "source": [
    "# cargo las librerias que necesito\n",
    "require(\"data.table\")\n",
    "require(\"rpart\")\n",
    "require(\"parallel\")"
   ]
  },
  {
   "cell_type": "markdown",
   "metadata": {
    "id": "a4oz2ulCA2Ww"
   },
   "source": [
    "###  Accion a Realizar\n",
    "PARAM$semillas  debe tener sus cinco semillas aleatorias"
   ]
  },
  {
   "cell_type": "code",
   "execution_count": null,
   "metadata": {
    "id": "yQ2OAP5AA2Wx"
   },
   "outputs": [],
   "source": [
    "PARAM <- list()\n",
    "PARAM$semillas <- c(102191, 200177, 410551, 552581, 892237)  # aqui debe ir sus CINCO\n",
    "PARAM$training_pct <- 70L  # entre  1L y 99L\n",
    "\n",
    "PARAM$rpart <- list (\n",
    "  \"cp\" = -1, # complejidad minima\n",
    "  \"minsplit\" = 170, # minima cantidad de regs en un nodo para hacer el split\n",
    "  \"minbucket\" = 70, # minima cantidad de regs en una hoja\n",
    "  \"maxdepth\" = 7 # profundidad máxima del arbol\n",
    ")\n"
   ]
  },
  {
   "cell_type": "code",
   "execution_count": null,
   "metadata": {
    "id": "97dMCVJWA2Wy"
   },
   "outputs": [],
   "source": [
    "# particionar agrega una columna llamada fold a un dataset\n",
    "#  que consiste en una particion estratificada segun agrupa\n",
    "\n",
    "# particionar( data=dataset, division=c(70,30),\n",
    "#  agrupa=clase_ternaria, seed=semilla)   crea una particion 70, 30\n",
    "\n",
    "particionar <- function(\n",
    "    data, division, agrupa = \"\",\n",
    "    campo = \"fold\", start = 1, seed = NA) {\n",
    "  if (!is.na(seed)) set.seed(seed)\n",
    "\n",
    "  bloque <- unlist(mapply(function(x, y) {\n",
    "    rep(y, x)\n",
    "  }, division, seq(from = start, length.out = length(division))))\n",
    "\n",
    "  data[, (campo) := sample(rep(bloque, ceiling(.N / length(bloque))))[1:.N],\n",
    "    by = agrupa\n",
    "  ]\n",
    "}\n"
   ]
  },
  {
   "cell_type": "code",
   "execution_count": null,
   "metadata": {
    "id": "GroZSZoVBuZ5"
   },
   "outputs": [],
   "source": [
    "\n",
    "ArbolEstimarGanancia <- function(semilla, param_basicos) {\n",
    "  # particiono estratificadamente el dataset\n",
    "  particionar(dataset,\n",
    "    division = c(param_basicos$training_pct, 100L -param_basicos$training_pct),\n",
    "    agrupa = \"clase_ternaria\",\n",
    "    seed = semilla # aqui se usa SU semilla\n",
    "  )\n",
    "\n",
    "  # genero el modelo\n",
    "  # predecir clase_ternaria a partir del resto\n",
    "  modelo <- rpart(\"clase_ternaria ~ .\",\n",
    "    data = dataset[fold == 1], # fold==1  es training,  el 70% de los datos\n",
    "    xval = 0,\n",
    "    control = param_basicos$rpart\n",
    "  ) # aqui van los parametros del arbol\n",
    "\n",
    "  # aplico el modelo a los datos de testing\n",
    "  prediccion <- predict(modelo, # el modelo que genere recien\n",
    "    dataset[fold == 2], # fold==2  es testing, el 30% de los datos\n",
    "    type = \"prob\"\n",
    "  ) # type= \"prob\"  es que devuelva la probabilidad\n",
    "\n",
    "  # prediccion es una matriz con TRES columnas,\n",
    "  #  llamadas \"BAJA+1\", \"BAJA+2\"  y \"CONTINUA\"\n",
    "  # cada columna es el vector de probabilidades\n",
    "\n",
    "\n",
    "  # calculo la ganancia en testing  qu es fold==2\n",
    "  ganancia_test <- dataset[\n",
    "    fold == 2,\n",
    "    sum(ifelse(prediccion[, \"BAJA+2\"] > 0.025,\n",
    "      ifelse(clase_ternaria == \"BAJA+2\", 117000, -3000),\n",
    "      0\n",
    "    ))\n",
    "  ]\n",
    "\n",
    "  # escalo la ganancia como si fuera todo el dataset\n",
    "  ganancia_test_normalizada <- ganancia_test / (( 100 - PARAM$training_pct ) / 100 )\n",
    "\n",
    "  return(list(\n",
    "    \"semilla\" = semilla,\n",
    "    \"testing\" = dataset[fold == 2, .N],\n",
    "    \"testing_pos\" = dataset[fold == 2 & clase_ternaria == \"BAJA+2\", .N],\n",
    "    \"envios\" = dataset[fold == 2, sum(prediccion[, \"BAJA+2\"] > 0.025)],\n",
    "    \"aciertos\" = dataset[\n",
    "        fold == 2,\n",
    "        sum(prediccion[, \"BAJA+2\"] > 0.025 & clase_ternaria == \"BAJA+2\")\n",
    "    ],\n",
    "    \"ganancia_test\" = ganancia_test_normalizada\n",
    "  ))\n",
    "}\n"
   ]
  },
  {
   "cell_type": "code",
   "execution_count": null,
   "metadata": {
    "id": "dJIBIX6kA2Wy"
   },
   "outputs": [],
   "source": [
    "# carpeta de trabajo\n",
    "setwd(\"/content/buckets/b1/exp\")\n",
    "experimento <- \"exp202\"\n",
    "dir.create(experimento, showWarnings=FALSE)\n",
    "setwd( paste0(\"/content/buckets/b1/exp/\", experimento ))"
   ]
  },
  {
   "cell_type": "code",
   "execution_count": null,
   "metadata": {
    "id": "tKiACdU2A2Wz"
   },
   "outputs": [],
   "source": [
    "# lectura del dataset\n",
    "dataset <- fread(\"/content/datasets/dataset_pequeno.csv\")\n",
    "\n",
    "# trabajo solo con los datos con clase, es decir 202107\n",
    "dataset <- dataset[clase_ternaria != \"\"]"
   ]
  },
  {
   "cell_type": "code",
   "execution_count": null,
   "metadata": {
    "id": "64OdfeyxCMDF"
   },
   "outputs": [],
   "source": [
    "\n",
    "# la funcion mcmapply  llama a la funcion ArbolEstimarGanancia\n",
    "#  tantas veces como valores tenga el vector  PARAM$semillas\n",
    "salidas <- mcmapply(ArbolEstimarGanancia,\n",
    "  PARAM$semillas, # paso el vector de semillas\n",
    "  MoreArgs = list(PARAM), # aqui paso el segundo parametro\n",
    "  SIMPLIFY = FALSE,\n",
    "  mc.cores = detectCores()\n",
    ")\n",
    "\n",
    "# muestro la lista de las salidas en testing\n",
    "#  para la particion realizada con cada semilla\n",
    "salidas\n"
   ]
  },
  {
   "cell_type": "code",
   "execution_count": null,
   "metadata": {
    "id": "tML9VmH2ECFK"
   },
   "outputs": [],
   "source": [
    "# paso la lista a vector\n",
    "tb_salida <- rbindlist(salidas)\n",
    "print( tb_salida)"
   ]
  },
  {
   "cell_type": "code",
   "execution_count": null,
   "metadata": {
    "id": "rbHXPfoVENQB"
   },
   "outputs": [],
   "source": [
    "# finalmente calculo la media (promedio)  de las ganancias\n",
    "cat( \"ganancia promedio: \", tb_salida[, mean(ganancia_test)], \"\\n\" )"
   ]
  },
  {
   "cell_type": "markdown",
   "metadata": {
    "id": "_3xVH6UKA2W6"
   },
   "source": [
    "### Acciones a realizar\n",
    "* Reportar la  *Ganancia Promedio* <br> en la planilla colaborativa hoja  **C2-5sem**\n",
    "* Se discutirá en clase la variabilidad de estos \"ganancia promedio de cinco semillas\""
   ]
  },
  {
   "cell_type": "markdown",
   "metadata": {
    "id": "N29m1XGpA2W7"
   },
   "source": [
    "\n",
    "\n",
    "---\n",
    "\n"
   ]
  },
  {
   "cell_type": "markdown",
   "metadata": {
    "id": "zS7WIJciFGc6"
   },
   "source": [
    "# 3  Generando n semillas en forma automatica\n",
    "## Clase 02  Experimento 3"
   ]
  },
  {
   "cell_type": "markdown",
   "metadata": {
    "id": "VmiFDDDJFUEo"
   },
   "source": [
    "## 3.1  Objetivos\n",
    "Mostrar la creación de nuevas semillas a partir de la librería Primes"
   ]
  },
  {
   "cell_type": "markdown",
   "metadata": {
    "id": "Ehe3VfdfFbvg"
   },
   "source": [
    "3.2  Código\n",
    "\n",
    "Como generar muchas semillas a partir de una"
   ]
  },
  {
   "cell_type": "code",
   "execution_count": null,
   "metadata": {
    "id": "X6_dE42yF2-t"
   },
   "outputs": [],
   "source": [
    "# instalo y cargo la libreria  primes\n",
    "if (!require(\"primes\")) install.packages(\"primes\")\n",
    "require(\"primes\")"
   ]
  },
  {
   "cell_type": "code",
   "execution_count": null,
   "metadata": {
    "id": "yDU9RyV4FNhZ"
   },
   "outputs": [],
   "source": [
    "# genero numeros primos\n",
    "primos <- generate_primes(min = 100000, max = 1000000)\n",
    "\n",
    "\n",
    "set.seed(102191) # inicializo con mi primer semilla\n",
    "\n",
    "# me quedo con por ejemplo 20 primos al azar\n",
    "semillas <- sample(primos, 20 )\n",
    "\n",
    "print( semillas )"
   ]
  },
  {
   "cell_type": "markdown",
   "metadata": {
    "id": "eD_cO5VTGGea"
   },
   "source": [
    "\n",
    "\n",
    "---\n",
    "\n"
   ]
  },
  {
   "cell_type": "code",
   "execution_count": null,
   "metadata": {
    "id": "k-rgoA2ZFll4"
   },
   "outputs": [],
   "source": []
  },
  {
   "cell_type": "markdown",
   "metadata": {
    "id": "cZi29THsGil_"
   },
   "source": [
    "# 4  Medición  50-Monte Carlo Cross Validation\n",
    "## Clase 02  Experimento 4"
   ]
  },
  {
   "cell_type": "markdown",
   "metadata": {
    "id": "qFNq6ntVGimN"
   },
   "source": [
    "## 4.1  Objetivos\n",
    "Calcular la ganancia del modelo utilizando 50 semillas nuevas generadas a partir de mi semilla primigenia."
   ]
  },
  {
   "cell_type": "markdown",
   "metadata": {
    "id": "B6KtuhQCGimP"
   },
   "source": [
    "## 4.4 Codigo  50 Montecarlo"
   ]
  },
  {
   "cell_type": "markdown",
   "metadata": {
    "id": "LgGgjPQuGimP"
   },
   "source": [
    "Esta parte se debe correr con el runtime en lenguaje **R** Ir al menu, Runtime -> Change Runtime Tipe -> Runtime type -> R"
   ]
  },
  {
   "cell_type": "markdown",
   "metadata": {
    "id": "E82ChuO25OYx"
   },
   "source": [
    "Este punto demora en correr 60 minutos en Google Colab, con lo cual para continuar con el punto siguiente deberá abrir un nuevo Colab"
   ]
  },
  {
   "cell_type": "markdown",
   "metadata": {
    "id": "a6AxqLwOGimQ"
   },
   "source": [
    "limpio el ambiente de R"
   ]
  },
  {
   "cell_type": "code",
   "execution_count": 1,
   "metadata": {
    "id": "797Ad0_QGimQ"
   },
   "outputs": [
    {
     "data": {
      "text/html": [
       "<table class=\"dataframe\">\n",
       "<caption>A matrix: 2 × 6 of type dbl</caption>\n",
       "<thead>\n",
       "\t<tr><th></th><th scope=col>used</th><th scope=col>(Mb)</th><th scope=col>gc trigger</th><th scope=col>(Mb)</th><th scope=col>max used</th><th scope=col>(Mb)</th></tr>\n",
       "</thead>\n",
       "<tbody>\n",
       "\t<tr><th scope=row>Ncells</th><td> 653383</td><td>34.9</td><td>1439380</td><td>76.9</td><td>1163248</td><td>62.2</td></tr>\n",
       "\t<tr><th scope=row>Vcells</th><td>1216965</td><td> 9.3</td><td>8388608</td><td>64.0</td><td>1924965</td><td>14.7</td></tr>\n",
       "</tbody>\n",
       "</table>\n"
      ],
      "text/latex": [
       "A matrix: 2 × 6 of type dbl\n",
       "\\begin{tabular}{r|llllll}\n",
       "  & used & (Mb) & gc trigger & (Mb) & max used & (Mb)\\\\\n",
       "\\hline\n",
       "\tNcells &  653383 & 34.9 & 1439380 & 76.9 & 1163248 & 62.2\\\\\n",
       "\tVcells & 1216965 &  9.3 & 8388608 & 64.0 & 1924965 & 14.7\\\\\n",
       "\\end{tabular}\n"
      ],
      "text/markdown": [
       "\n",
       "A matrix: 2 × 6 of type dbl\n",
       "\n",
       "| <!--/--> | used | (Mb) | gc trigger | (Mb) | max used | (Mb) |\n",
       "|---|---|---|---|---|---|---|\n",
       "| Ncells |  653383 | 34.9 | 1439380 | 76.9 | 1163248 | 62.2 |\n",
       "| Vcells | 1216965 |  9.3 | 8388608 | 64.0 | 1924965 | 14.7 |\n",
       "\n"
      ],
      "text/plain": [
       "       used    (Mb) gc trigger (Mb) max used (Mb)\n",
       "Ncells  653383 34.9 1439380    76.9 1163248  62.2\n",
       "Vcells 1216965  9.3 8388608    64.0 1924965  14.7"
      ]
     },
     "metadata": {},
     "output_type": "display_data"
    }
   ],
   "source": [
    "# limpio la memoria\n",
    "rm(list=ls(all.names=TRUE)) # remove all objects\n",
    "gc(full=TRUE, verbose=FALSE) # garbage collection"
   ]
  },
  {
   "cell_type": "markdown",
   "metadata": {
    "id": "v0CepvbjGimQ"
   },
   "source": [
    "* Instalacion de la libreria  rpart.plot  para dibujar el arbol\n",
    "* invocacion de las librerias  **data.table** y  **rpart**"
   ]
  },
  {
   "cell_type": "code",
   "execution_count": 2,
   "metadata": {
    "id": "CRkZ1V2_GimR"
   },
   "outputs": [
    {
     "name": "stderr",
     "output_type": "stream",
     "text": [
      "Loading required package: data.table\n",
      "\n",
      "Loading required package: rpart\n",
      "\n",
      "Loading required package: parallel\n",
      "\n",
      "Loading required package: primes\n",
      "\n"
     ]
    }
   ],
   "source": [
    "# cargo las librerias que necesito\n",
    "require(\"data.table\")\n",
    "require(\"rpart\")\n",
    "require(\"parallel\")\n",
    "\n",
    "if (!require(\"primes\")) install.packages(\"primes\")\n",
    "require(\"primes\")"
   ]
  },
  {
   "cell_type": "markdown",
   "metadata": {
    "id": "PZKJG-nSGimR"
   },
   "source": [
    "###  Accion a Realizar\n",
    "PARAM$semilla_primigenia  debe reemplazarse por SU primer semilla"
   ]
  },
  {
   "cell_type": "code",
   "execution_count": 3,
   "metadata": {
    "id": "4kbkA-2HGimR"
   },
   "outputs": [],
   "source": [
    "PARAM <- list()\n",
    "PARAM$semilla_primigenia <- 390227\n",
    "PARAM$qsemillas <- 50\n",
    "PARAM$training_pct <- 70L  # entre  1L y 99L\n",
    "\n",
    "PARAM$rpart <- list (\n",
    "  \"cp\" = -1, # complejidad minima\n",
    "  \"minsplit\" = 170, # minima cantidad de regs en un nodo para hacer el split\n",
    "  \"minbucket\" = 70, # minima cantidad de regs en una hoja\n",
    "  \"maxdepth\" = 7 # profundidad máxima del arbol\n",
    ")\n"
   ]
  },
  {
   "cell_type": "code",
   "execution_count": 4,
   "metadata": {
    "id": "HME0qUeOGimS"
   },
   "outputs": [],
   "source": [
    "# particionar agrega una columna llamada fold a un dataset\n",
    "#  que consiste en una particion estratificada segun agrupa\n",
    "\n",
    "# particionar( data=dataset, division=c(70,30),\n",
    "#  agrupa=clase_ternaria, seed=semilla)   crea una particion 70, 30\n",
    "\n",
    "particionar <- function(\n",
    "    data, division, agrupa = \"\",\n",
    "    campo = \"fold\", start = 1, seed = NA) {\n",
    "  if (!is.na(seed)) set.seed(seed)\n",
    "\n",
    "  bloque <- unlist(mapply(function(x, y) {\n",
    "    rep(y, x)\n",
    "  }, division, seq(from = start, length.out = length(division))))\n",
    "\n",
    "  data[, (campo) := sample(rep(bloque, ceiling(.N / length(bloque))))[1:.N],\n",
    "    by = agrupa\n",
    "  ]\n",
    "}\n"
   ]
  },
  {
   "cell_type": "code",
   "execution_count": 5,
   "metadata": {
    "id": "ro9Ufoi-GimS"
   },
   "outputs": [],
   "source": [
    "\n",
    "ArbolEstimarGanancia <- function(semilla, param_basicos) {\n",
    "  # particiono estratificadamente el dataset\n",
    "  particionar(dataset,\n",
    "    division = c(param_basicos$training_pct, 100L -param_basicos$training_pct),\n",
    "    agrupa = \"clase_ternaria\",\n",
    "    seed = semilla # aqui se usa SU semilla\n",
    "  )\n",
    "\n",
    "  # genero el modelo\n",
    "  # predecir clase_ternaria a partir del resto\n",
    "  modelo <- rpart(\"clase_ternaria ~ .\",\n",
    "    data = dataset[fold == 1], # fold==1  es training,  el 70% de los datos\n",
    "    xval = 0,\n",
    "    control = param_basicos$rpart\n",
    "  ) # aqui van los parametros del arbol\n",
    "\n",
    "  # aplico el modelo a los datos de testing\n",
    "  prediccion <- predict(modelo, # el modelo que genere recien\n",
    "    dataset[fold == 2], # fold==2  es testing, el 30% de los datos\n",
    "    type = \"prob\"\n",
    "  ) # type= \"prob\"  es que devuelva la probabilidad\n",
    "\n",
    "  # prediccion es una matriz con TRES columnas,\n",
    "  #  llamadas \"BAJA+1\", \"BAJA+2\"  y \"CONTINUA\"\n",
    "  # cada columna es el vector de probabilidades\n",
    "\n",
    "\n",
    "  # calculo la ganancia en testing  qu es fold==2\n",
    "  ganancia_test <- dataset[\n",
    "    fold == 2,\n",
    "    sum(ifelse(prediccion[, \"BAJA+2\"] > 0.025,\n",
    "      ifelse(clase_ternaria == \"BAJA+2\", 117000, -3000),\n",
    "      0\n",
    "    ))\n",
    "  ]\n",
    "\n",
    "  # escalo la ganancia como si fuera todo el dataset\n",
    "  ganancia_test_normalizada <- ganancia_test / (( 100 - PARAM$training_pct ) / 100 )\n",
    "\n",
    "  return(list(\n",
    "    \"semilla\" = semilla,\n",
    "    \"testing\" = dataset[fold == 2, .N],\n",
    "    \"testing_pos\" = dataset[fold == 2 & clase_ternaria == \"BAJA+2\", .N],\n",
    "    \"envios\" = dataset[fold == 2, sum(prediccion[, \"BAJA+2\"] > 0.025)],\n",
    "    \"aciertos\" = dataset[\n",
    "        fold == 2,\n",
    "        sum(prediccion[, \"BAJA+2\"] > 0.025 & clase_ternaria == \"BAJA+2\")\n",
    "    ],\n",
    "    \"ganancia_test\" = ganancia_test_normalizada\n",
    "  ))\n",
    "}\n"
   ]
  },
  {
   "cell_type": "code",
   "execution_count": 6,
   "metadata": {
    "id": "gz7LgltwGimT"
   },
   "outputs": [],
   "source": [
    "# carpeta de trabajo\n",
    "setwd(\"/content/buckets/b1/exp\")\n",
    "experimento <- \"exp204\"\n",
    "dir.create(experimento, showWarnings=FALSE)\n",
    "setwd( paste0(\"/content/buckets/b1/exp/\", experimento ))"
   ]
  },
  {
   "cell_type": "code",
   "execution_count": 7,
   "metadata": {
    "id": "xRXKHeLeGimT"
   },
   "outputs": [],
   "source": [
    "# lectura del dataset\n",
    "dataset <- fread(\"/content/datasets/dataset_pequeno.csv\")\n",
    "\n",
    "# trabajo solo con los datos con clase, es decir 202107\n",
    "dataset <- dataset[clase_ternaria != \"\"]"
   ]
  },
  {
   "cell_type": "code",
   "execution_count": 8,
   "metadata": {
    "id": "MdpZ10qiHSZy"
   },
   "outputs": [],
   "source": [
    "# genero numeros primos\n",
    "primos <- generate_primes(min = 100000, max = 1000000)\n",
    "set.seed(PARAM$semilla_primigenia) # inicializo\n",
    "\n",
    "# me quedo con PARAM$qsemillas   semillas\n",
    "PARAM$semillas <- sample(primos, PARAM$qsemillas )"
   ]
  },
  {
   "cell_type": "code",
   "execution_count": 9,
   "metadata": {
    "id": "r-YaawpgGimU"
   },
   "outputs": [
    {
     "data": {
      "text/html": [
       "<ol>\n",
       "\t<li><dl>\n",
       "\t<dt>$semilla</dt>\n",
       "\t\t<dd>412099</dd>\n",
       "\t<dt>$testing</dt>\n",
       "\t\t<dd>49387</dd>\n",
       "\t<dt>$testing_pos</dt>\n",
       "\t\t<dd>379</dd>\n",
       "\t<dt>$envios</dt>\n",
       "\t\t<dd>3326</dd>\n",
       "\t<dt>$aciertos</dt>\n",
       "\t\t<dd>208</dd>\n",
       "\t<dt>$ganancia_test</dt>\n",
       "\t\t<dd>49940000</dd>\n",
       "</dl>\n",
       "</li>\n",
       "\t<li><dl>\n",
       "\t<dt>$semilla</dt>\n",
       "\t\t<dd>485081</dd>\n",
       "\t<dt>$testing</dt>\n",
       "\t\t<dd>49384</dd>\n",
       "\t<dt>$testing_pos</dt>\n",
       "\t\t<dd>380</dd>\n",
       "\t<dt>$envios</dt>\n",
       "\t\t<dd>3104</dd>\n",
       "\t<dt>$aciertos</dt>\n",
       "\t\t<dd>199</dd>\n",
       "\t<dt>$ganancia_test</dt>\n",
       "\t\t<dd>48560000</dd>\n",
       "</dl>\n",
       "</li>\n",
       "\t<li><dl>\n",
       "\t<dt>$semilla</dt>\n",
       "\t\t<dd>433351</dd>\n",
       "\t<dt>$testing</dt>\n",
       "\t\t<dd>49387</dd>\n",
       "\t<dt>$testing_pos</dt>\n",
       "\t\t<dd>374</dd>\n",
       "\t<dt>$envios</dt>\n",
       "\t\t<dd>3961</dd>\n",
       "\t<dt>$aciertos</dt>\n",
       "\t\t<dd>227</dd>\n",
       "\t<dt>$ganancia_test</dt>\n",
       "\t\t<dd>51190000</dd>\n",
       "</dl>\n",
       "</li>\n",
       "\t<li><dl>\n",
       "\t<dt>$semilla</dt>\n",
       "\t\t<dd>305369</dd>\n",
       "\t<dt>$testing</dt>\n",
       "\t\t<dd>49376</dd>\n",
       "\t<dt>$testing_pos</dt>\n",
       "\t\t<dd>375</dd>\n",
       "\t<dt>$envios</dt>\n",
       "\t\t<dd>3387</dd>\n",
       "\t<dt>$aciertos</dt>\n",
       "\t\t<dd>203</dd>\n",
       "\t<dt>$ganancia_test</dt>\n",
       "\t\t<dd>47330000</dd>\n",
       "</dl>\n",
       "</li>\n",
       "\t<li><dl>\n",
       "\t<dt>$semilla</dt>\n",
       "\t\t<dd>203807</dd>\n",
       "\t<dt>$testing</dt>\n",
       "\t\t<dd>49384</dd>\n",
       "\t<dt>$testing_pos</dt>\n",
       "\t\t<dd>370</dd>\n",
       "\t<dt>$envios</dt>\n",
       "\t\t<dd>2877</dd>\n",
       "\t<dt>$aciertos</dt>\n",
       "\t\t<dd>180</dd>\n",
       "\t<dt>$ganancia_test</dt>\n",
       "\t\t<dd>43230000</dd>\n",
       "</dl>\n",
       "</li>\n",
       "\t<li><dl>\n",
       "\t<dt>$semilla</dt>\n",
       "\t\t<dd>566911</dd>\n",
       "\t<dt>$testing</dt>\n",
       "\t\t<dd>49378</dd>\n",
       "\t<dt>$testing_pos</dt>\n",
       "\t\t<dd>376</dd>\n",
       "\t<dt>$envios</dt>\n",
       "\t\t<dd>4091</dd>\n",
       "\t<dt>$aciertos</dt>\n",
       "\t\t<dd>228</dd>\n",
       "\t<dt>$ganancia_test</dt>\n",
       "\t\t<dd>50290000</dd>\n",
       "</dl>\n",
       "</li>\n",
       "\t<li><dl>\n",
       "\t<dt>$semilla</dt>\n",
       "\t\t<dd>815459</dd>\n",
       "\t<dt>$testing</dt>\n",
       "\t\t<dd>49376</dd>\n",
       "\t<dt>$testing_pos</dt>\n",
       "\t\t<dd>377</dd>\n",
       "\t<dt>$envios</dt>\n",
       "\t\t<dd>3710</dd>\n",
       "\t<dt>$aciertos</dt>\n",
       "\t\t<dd>209</dd>\n",
       "\t<dt>$ganancia_test</dt>\n",
       "\t\t<dd>46500000</dd>\n",
       "</dl>\n",
       "</li>\n",
       "\t<li><dl>\n",
       "\t<dt>$semilla</dt>\n",
       "\t\t<dd>389563</dd>\n",
       "\t<dt>$testing</dt>\n",
       "\t\t<dd>49379</dd>\n",
       "\t<dt>$testing_pos</dt>\n",
       "\t\t<dd>376</dd>\n",
       "\t<dt>$envios</dt>\n",
       "\t\t<dd>2961</dd>\n",
       "\t<dt>$aciertos</dt>\n",
       "\t\t<dd>201</dd>\n",
       "\t<dt>$ganancia_test</dt>\n",
       "\t\t<dd>50790000</dd>\n",
       "</dl>\n",
       "</li>\n",
       "\t<li><dl>\n",
       "\t<dt>$semilla</dt>\n",
       "\t\t<dd>880573</dd>\n",
       "\t<dt>$testing</dt>\n",
       "\t\t<dd>49385</dd>\n",
       "\t<dt>$testing_pos</dt>\n",
       "\t\t<dd>373</dd>\n",
       "\t<dt>$envios</dt>\n",
       "\t\t<dd>3764</dd>\n",
       "\t<dt>$aciertos</dt>\n",
       "\t\t<dd>216</dd>\n",
       "\t<dt>$ganancia_test</dt>\n",
       "\t\t<dd>48760000</dd>\n",
       "</dl>\n",
       "</li>\n",
       "\t<li><dl>\n",
       "\t<dt>$semilla</dt>\n",
       "\t\t<dd>369709</dd>\n",
       "\t<dt>$testing</dt>\n",
       "\t\t<dd>49391</dd>\n",
       "\t<dt>$testing_pos</dt>\n",
       "\t\t<dd>373</dd>\n",
       "\t<dt>$envios</dt>\n",
       "\t\t<dd>3940</dd>\n",
       "\t<dt>$aciertos</dt>\n",
       "\t\t<dd>224</dd>\n",
       "\t<dt>$ganancia_test</dt>\n",
       "\t\t<dd>50200000</dd>\n",
       "</dl>\n",
       "</li>\n",
       "\t<li><dl>\n",
       "\t<dt>$semilla</dt>\n",
       "\t\t<dd>867959</dd>\n",
       "\t<dt>$testing</dt>\n",
       "\t\t<dd>49379</dd>\n",
       "\t<dt>$testing_pos</dt>\n",
       "\t\t<dd>374</dd>\n",
       "\t<dt>$envios</dt>\n",
       "\t\t<dd>3869</dd>\n",
       "\t<dt>$aciertos</dt>\n",
       "\t\t<dd>217</dd>\n",
       "\t<dt>$ganancia_test</dt>\n",
       "\t\t<dd>48110000</dd>\n",
       "</dl>\n",
       "</li>\n",
       "\t<li><dl>\n",
       "\t<dt>$semilla</dt>\n",
       "\t\t<dd>452279</dd>\n",
       "\t<dt>$testing</dt>\n",
       "\t\t<dd>49376</dd>\n",
       "\t<dt>$testing_pos</dt>\n",
       "\t\t<dd>374</dd>\n",
       "\t<dt>$envios</dt>\n",
       "\t\t<dd>3171</dd>\n",
       "\t<dt>$aciertos</dt>\n",
       "\t\t<dd>198</dd>\n",
       "\t<dt>$ganancia_test</dt>\n",
       "\t\t<dd>47490000</dd>\n",
       "</dl>\n",
       "</li>\n",
       "\t<li><dl>\n",
       "\t<dt>$semilla</dt>\n",
       "\t\t<dd>167597</dd>\n",
       "\t<dt>$testing</dt>\n",
       "\t\t<dd>49383</dd>\n",
       "\t<dt>$testing_pos</dt>\n",
       "\t\t<dd>374</dd>\n",
       "\t<dt>$envios</dt>\n",
       "\t\t<dd>4035</dd>\n",
       "\t<dt>$aciertos</dt>\n",
       "\t\t<dd>224</dd>\n",
       "\t<dt>$ganancia_test</dt>\n",
       "\t\t<dd>49250000</dd>\n",
       "</dl>\n",
       "</li>\n",
       "\t<li><dl>\n",
       "\t<dt>$semilla</dt>\n",
       "\t\t<dd>824063</dd>\n",
       "\t<dt>$testing</dt>\n",
       "\t\t<dd>49385</dd>\n",
       "\t<dt>$testing_pos</dt>\n",
       "\t\t<dd>378</dd>\n",
       "\t<dt>$envios</dt>\n",
       "\t\t<dd>4279</dd>\n",
       "\t<dt>$aciertos</dt>\n",
       "\t\t<dd>216</dd>\n",
       "\t<dt>$ganancia_test</dt>\n",
       "\t\t<dd>43610000</dd>\n",
       "</dl>\n",
       "</li>\n",
       "\t<li><dl>\n",
       "\t<dt>$semilla</dt>\n",
       "\t\t<dd>942437</dd>\n",
       "\t<dt>$testing</dt>\n",
       "\t\t<dd>49379</dd>\n",
       "\t<dt>$testing_pos</dt>\n",
       "\t\t<dd>373</dd>\n",
       "\t<dt>$envios</dt>\n",
       "\t\t<dd>3335</dd>\n",
       "\t<dt>$aciertos</dt>\n",
       "\t\t<dd>202</dd>\n",
       "\t<dt>$ganancia_test</dt>\n",
       "\t\t<dd>47450000</dd>\n",
       "</dl>\n",
       "</li>\n",
       "\t<li><dl>\n",
       "\t<dt>$semilla</dt>\n",
       "\t\t<dd>914827</dd>\n",
       "\t<dt>$testing</dt>\n",
       "\t\t<dd>49380</dd>\n",
       "\t<dt>$testing_pos</dt>\n",
       "\t\t<dd>373</dd>\n",
       "\t<dt>$envios</dt>\n",
       "\t\t<dd>3153</dd>\n",
       "\t<dt>$aciertos</dt>\n",
       "\t\t<dd>205</dd>\n",
       "\t<dt>$ganancia_test</dt>\n",
       "\t\t<dd>50470000</dd>\n",
       "</dl>\n",
       "</li>\n",
       "\t<li><dl>\n",
       "\t<dt>$semilla</dt>\n",
       "\t\t<dd>335281</dd>\n",
       "\t<dt>$testing</dt>\n",
       "\t\t<dd>49380</dd>\n",
       "\t<dt>$testing_pos</dt>\n",
       "\t\t<dd>375</dd>\n",
       "\t<dt>$envios</dt>\n",
       "\t\t<dd>3411</dd>\n",
       "\t<dt>$aciertos</dt>\n",
       "\t\t<dd>207</dd>\n",
       "\t<dt>$ganancia_test</dt>\n",
       "\t\t<dd>48690000</dd>\n",
       "</dl>\n",
       "</li>\n",
       "\t<li><dl>\n",
       "\t<dt>$semilla</dt>\n",
       "\t\t<dd>936527</dd>\n",
       "\t<dt>$testing</dt>\n",
       "\t\t<dd>49385</dd>\n",
       "\t<dt>$testing_pos</dt>\n",
       "\t\t<dd>376</dd>\n",
       "\t<dt>$envios</dt>\n",
       "\t\t<dd>3784</dd>\n",
       "\t<dt>$aciertos</dt>\n",
       "\t\t<dd>210</dd>\n",
       "\t<dt>$ganancia_test</dt>\n",
       "\t\t<dd>46160000</dd>\n",
       "</dl>\n",
       "</li>\n",
       "\t<li><dl>\n",
       "\t<dt>$semilla</dt>\n",
       "\t\t<dd>488441</dd>\n",
       "\t<dt>$testing</dt>\n",
       "\t\t<dd>49378</dd>\n",
       "\t<dt>$testing_pos</dt>\n",
       "\t\t<dd>368</dd>\n",
       "\t<dt>$envios</dt>\n",
       "\t\t<dd>3913</dd>\n",
       "\t<dt>$aciertos</dt>\n",
       "\t\t<dd>215</dd>\n",
       "\t<dt>$ganancia_test</dt>\n",
       "\t\t<dd>46870000</dd>\n",
       "</dl>\n",
       "</li>\n",
       "\t<li><dl>\n",
       "\t<dt>$semilla</dt>\n",
       "\t\t<dd>152459</dd>\n",
       "\t<dt>$testing</dt>\n",
       "\t\t<dd>49372</dd>\n",
       "\t<dt>$testing_pos</dt>\n",
       "\t\t<dd>372</dd>\n",
       "\t<dt>$envios</dt>\n",
       "\t\t<dd>2739</dd>\n",
       "\t<dt>$aciertos</dt>\n",
       "\t\t<dd>195</dd>\n",
       "\t<dt>$ganancia_test</dt>\n",
       "\t\t<dd>50610000</dd>\n",
       "</dl>\n",
       "</li>\n",
       "\t<li><dl>\n",
       "\t<dt>$semilla</dt>\n",
       "\t\t<dd>577349</dd>\n",
       "\t<dt>$testing</dt>\n",
       "\t\t<dd>49385</dd>\n",
       "\t<dt>$testing_pos</dt>\n",
       "\t\t<dd>377</dd>\n",
       "\t<dt>$envios</dt>\n",
       "\t\t<dd>3324</dd>\n",
       "\t<dt>$aciertos</dt>\n",
       "\t\t<dd>207</dd>\n",
       "\t<dt>$ganancia_test</dt>\n",
       "\t\t<dd>49560000</dd>\n",
       "</dl>\n",
       "</li>\n",
       "\t<li><dl>\n",
       "\t<dt>$semilla</dt>\n",
       "\t\t<dd>347771</dd>\n",
       "\t<dt>$testing</dt>\n",
       "\t\t<dd>49370</dd>\n",
       "\t<dt>$testing_pos</dt>\n",
       "\t\t<dd>374</dd>\n",
       "\t<dt>$envios</dt>\n",
       "\t\t<dd>2590</dd>\n",
       "\t<dt>$aciertos</dt>\n",
       "\t\t<dd>168</dd>\n",
       "\t<dt>$ganancia_test</dt>\n",
       "\t\t<dd>41300000</dd>\n",
       "</dl>\n",
       "</li>\n",
       "\t<li><dl>\n",
       "\t<dt>$semilla</dt>\n",
       "\t\t<dd>770111</dd>\n",
       "\t<dt>$testing</dt>\n",
       "\t\t<dd>49376</dd>\n",
       "\t<dt>$testing_pos</dt>\n",
       "\t\t<dd>375</dd>\n",
       "\t<dt>$envios</dt>\n",
       "\t\t<dd>3716</dd>\n",
       "\t<dt>$aciertos</dt>\n",
       "\t\t<dd>207</dd>\n",
       "\t<dt>$ganancia_test</dt>\n",
       "\t\t<dd>45640000</dd>\n",
       "</dl>\n",
       "</li>\n",
       "\t<li><dl>\n",
       "\t<dt>$semilla</dt>\n",
       "\t\t<dd>109211</dd>\n",
       "\t<dt>$testing</dt>\n",
       "\t\t<dd>49386</dd>\n",
       "\t<dt>$testing_pos</dt>\n",
       "\t\t<dd>373</dd>\n",
       "\t<dt>$envios</dt>\n",
       "\t\t<dd>2926</dd>\n",
       "\t<dt>$aciertos</dt>\n",
       "\t\t<dd>193</dd>\n",
       "\t<dt>$ganancia_test</dt>\n",
       "\t\t<dd>47940000</dd>\n",
       "</dl>\n",
       "</li>\n",
       "\t<li><dl>\n",
       "\t<dt>$semilla</dt>\n",
       "\t\t<dd>493567</dd>\n",
       "\t<dt>$testing</dt>\n",
       "\t\t<dd>49379</dd>\n",
       "\t<dt>$testing_pos</dt>\n",
       "\t\t<dd>378</dd>\n",
       "\t<dt>$envios</dt>\n",
       "\t\t<dd>3403</dd>\n",
       "\t<dt>$aciertos</dt>\n",
       "\t\t<dd>195</dd>\n",
       "\t<dt>$ganancia_test</dt>\n",
       "\t\t<dd>43970000</dd>\n",
       "</dl>\n",
       "</li>\n",
       "\t<li><dl>\n",
       "\t<dt>$semilla</dt>\n",
       "\t\t<dd>485137</dd>\n",
       "\t<dt>$testing</dt>\n",
       "\t\t<dd>49373</dd>\n",
       "\t<dt>$testing_pos</dt>\n",
       "\t\t<dd>372</dd>\n",
       "\t<dt>$envios</dt>\n",
       "\t\t<dd>3623</dd>\n",
       "\t<dt>$aciertos</dt>\n",
       "\t\t<dd>213</dd>\n",
       "\t<dt>$ganancia_test</dt>\n",
       "\t\t<dd>48970000</dd>\n",
       "</dl>\n",
       "</li>\n",
       "\t<li><dl>\n",
       "\t<dt>$semilla</dt>\n",
       "\t\t<dd>133717</dd>\n",
       "\t<dt>$testing</dt>\n",
       "\t\t<dd>49382</dd>\n",
       "\t<dt>$testing_pos</dt>\n",
       "\t\t<dd>369</dd>\n",
       "\t<dt>$envios</dt>\n",
       "\t\t<dd>4278</dd>\n",
       "\t<dt>$aciertos</dt>\n",
       "\t\t<dd>216</dd>\n",
       "\t<dt>$ganancia_test</dt>\n",
       "\t\t<dd>43620000</dd>\n",
       "</dl>\n",
       "</li>\n",
       "\t<li><dl>\n",
       "\t<dt>$semilla</dt>\n",
       "\t\t<dd>127249</dd>\n",
       "\t<dt>$testing</dt>\n",
       "\t\t<dd>49389</dd>\n",
       "\t<dt>$testing_pos</dt>\n",
       "\t\t<dd>377</dd>\n",
       "\t<dt>$envios</dt>\n",
       "\t\t<dd>3092</dd>\n",
       "\t<dt>$aciertos</dt>\n",
       "\t\t<dd>202</dd>\n",
       "\t<dt>$ganancia_test</dt>\n",
       "\t\t<dd>49880000</dd>\n",
       "</dl>\n",
       "</li>\n",
       "\t<li><dl>\n",
       "\t<dt>$semilla</dt>\n",
       "\t\t<dd>514379</dd>\n",
       "\t<dt>$testing</dt>\n",
       "\t\t<dd>49378</dd>\n",
       "\t<dt>$testing_pos</dt>\n",
       "\t\t<dd>372</dd>\n",
       "\t<dt>$envios</dt>\n",
       "\t\t<dd>3206</dd>\n",
       "\t<dt>$aciertos</dt>\n",
       "\t\t<dd>205</dd>\n",
       "\t<dt>$ganancia_test</dt>\n",
       "\t\t<dd>49940000</dd>\n",
       "</dl>\n",
       "</li>\n",
       "\t<li><dl>\n",
       "\t<dt>$semilla</dt>\n",
       "\t\t<dd>952037</dd>\n",
       "\t<dt>$testing</dt>\n",
       "\t\t<dd>49379</dd>\n",
       "\t<dt>$testing_pos</dt>\n",
       "\t\t<dd>371</dd>\n",
       "\t<dt>$envios</dt>\n",
       "\t\t<dd>3212</dd>\n",
       "\t<dt>$aciertos</dt>\n",
       "\t\t<dd>194</dd>\n",
       "\t<dt>$ganancia_test</dt>\n",
       "\t\t<dd>45480000</dd>\n",
       "</dl>\n",
       "</li>\n",
       "\t<li><dl>\n",
       "\t<dt>$semilla</dt>\n",
       "\t\t<dd>134219</dd>\n",
       "\t<dt>$testing</dt>\n",
       "\t\t<dd>49363</dd>\n",
       "\t<dt>$testing_pos</dt>\n",
       "\t\t<dd>370</dd>\n",
       "\t<dt>$envios</dt>\n",
       "\t\t<dd>3711</dd>\n",
       "\t<dt>$aciertos</dt>\n",
       "\t\t<dd>213</dd>\n",
       "\t<dt>$ganancia_test</dt>\n",
       "\t\t<dd>48090000</dd>\n",
       "</dl>\n",
       "</li>\n",
       "\t<li><dl>\n",
       "\t<dt>$semilla</dt>\n",
       "\t\t<dd>582821</dd>\n",
       "\t<dt>$testing</dt>\n",
       "\t\t<dd>49375</dd>\n",
       "\t<dt>$testing_pos</dt>\n",
       "\t\t<dd>372</dd>\n",
       "\t<dt>$envios</dt>\n",
       "\t\t<dd>3588</dd>\n",
       "\t<dt>$aciertos</dt>\n",
       "\t\t<dd>207</dd>\n",
       "\t<dt>$ganancia_test</dt>\n",
       "\t\t<dd>46920000</dd>\n",
       "</dl>\n",
       "</li>\n",
       "\t<li><dl>\n",
       "\t<dt>$semilla</dt>\n",
       "\t\t<dd>381949</dd>\n",
       "\t<dt>$testing</dt>\n",
       "\t\t<dd>49365</dd>\n",
       "\t<dt>$testing_pos</dt>\n",
       "\t\t<dd>371</dd>\n",
       "\t<dt>$envios</dt>\n",
       "\t\t<dd>3335</dd>\n",
       "\t<dt>$aciertos</dt>\n",
       "\t\t<dd>177</dd>\n",
       "\t<dt>$ganancia_test</dt>\n",
       "\t\t<dd>37450000</dd>\n",
       "</dl>\n",
       "</li>\n",
       "\t<li><dl>\n",
       "\t<dt>$semilla</dt>\n",
       "\t\t<dd>358703</dd>\n",
       "\t<dt>$testing</dt>\n",
       "\t\t<dd>49383</dd>\n",
       "\t<dt>$testing_pos</dt>\n",
       "\t\t<dd>377</dd>\n",
       "\t<dt>$envios</dt>\n",
       "\t\t<dd>3905</dd>\n",
       "\t<dt>$aciertos</dt>\n",
       "\t\t<dd>210</dd>\n",
       "\t<dt>$ganancia_test</dt>\n",
       "\t\t<dd>44950000</dd>\n",
       "</dl>\n",
       "</li>\n",
       "\t<li><dl>\n",
       "\t<dt>$semilla</dt>\n",
       "\t\t<dd>805403</dd>\n",
       "\t<dt>$testing</dt>\n",
       "\t\t<dd>49392</dd>\n",
       "\t<dt>$testing_pos</dt>\n",
       "\t\t<dd>378</dd>\n",
       "\t<dt>$envios</dt>\n",
       "\t\t<dd>3444</dd>\n",
       "\t<dt>$aciertos</dt>\n",
       "\t\t<dd>199</dd>\n",
       "\t<dt>$ganancia_test</dt>\n",
       "\t\t<dd>45160000</dd>\n",
       "</dl>\n",
       "</li>\n",
       "\t<li><dl>\n",
       "\t<dt>$semilla</dt>\n",
       "\t\t<dd>396443</dd>\n",
       "\t<dt>$testing</dt>\n",
       "\t\t<dd>49384</dd>\n",
       "\t<dt>$testing_pos</dt>\n",
       "\t\t<dd>377</dd>\n",
       "\t<dt>$envios</dt>\n",
       "\t\t<dd>3374</dd>\n",
       "\t<dt>$aciertos</dt>\n",
       "\t\t<dd>213</dd>\n",
       "\t<dt>$ganancia_test</dt>\n",
       "\t\t<dd>51460000</dd>\n",
       "</dl>\n",
       "</li>\n",
       "\t<li><dl>\n",
       "\t<dt>$semilla</dt>\n",
       "\t\t<dd>509843</dd>\n",
       "\t<dt>$testing</dt>\n",
       "\t\t<dd>49377</dd>\n",
       "\t<dt>$testing_pos</dt>\n",
       "\t\t<dd>379</dd>\n",
       "\t<dt>$envios</dt>\n",
       "\t\t<dd>3596</dd>\n",
       "\t<dt>$aciertos</dt>\n",
       "\t\t<dd>206</dd>\n",
       "\t<dt>$ganancia_test</dt>\n",
       "\t\t<dd>46440000</dd>\n",
       "</dl>\n",
       "</li>\n",
       "\t<li><dl>\n",
       "\t<dt>$semilla</dt>\n",
       "\t\t<dd>786077</dd>\n",
       "\t<dt>$testing</dt>\n",
       "\t\t<dd>49380</dd>\n",
       "\t<dt>$testing_pos</dt>\n",
       "\t\t<dd>375</dd>\n",
       "\t<dt>$envios</dt>\n",
       "\t\t<dd>4280</dd>\n",
       "\t<dt>$aciertos</dt>\n",
       "\t\t<dd>226</dd>\n",
       "\t<dt>$ganancia_test</dt>\n",
       "\t\t<dd>47600000</dd>\n",
       "</dl>\n",
       "</li>\n",
       "\t<li><dl>\n",
       "\t<dt>$semilla</dt>\n",
       "\t\t<dd>600623</dd>\n",
       "\t<dt>$testing</dt>\n",
       "\t\t<dd>49376</dd>\n",
       "\t<dt>$testing_pos</dt>\n",
       "\t\t<dd>371</dd>\n",
       "\t<dt>$envios</dt>\n",
       "\t\t<dd>3724</dd>\n",
       "\t<dt>$aciertos</dt>\n",
       "\t\t<dd>216</dd>\n",
       "\t<dt>$ganancia_test</dt>\n",
       "\t\t<dd>49160000</dd>\n",
       "</dl>\n",
       "</li>\n",
       "\t<li><dl>\n",
       "\t<dt>$semilla</dt>\n",
       "\t\t<dd>969179</dd>\n",
       "\t<dt>$testing</dt>\n",
       "\t\t<dd>49374</dd>\n",
       "\t<dt>$testing_pos</dt>\n",
       "\t\t<dd>374</dd>\n",
       "\t<dt>$envios</dt>\n",
       "\t\t<dd>3330</dd>\n",
       "\t<dt>$aciertos</dt>\n",
       "\t\t<dd>205</dd>\n",
       "\t<dt>$ganancia_test</dt>\n",
       "\t\t<dd>48700000</dd>\n",
       "</dl>\n",
       "</li>\n",
       "\t<li><dl>\n",
       "\t<dt>$semilla</dt>\n",
       "\t\t<dd>286673</dd>\n",
       "\t<dt>$testing</dt>\n",
       "\t\t<dd>49384</dd>\n",
       "\t<dt>$testing_pos</dt>\n",
       "\t\t<dd>379</dd>\n",
       "\t<dt>$envios</dt>\n",
       "\t\t<dd>3786</dd>\n",
       "\t<dt>$aciertos</dt>\n",
       "\t\t<dd>229</dd>\n",
       "\t<dt>$ganancia_test</dt>\n",
       "\t\t<dd>53740000</dd>\n",
       "</dl>\n",
       "</li>\n",
       "\t<li><dl>\n",
       "\t<dt>$semilla</dt>\n",
       "\t\t<dd>954917</dd>\n",
       "\t<dt>$testing</dt>\n",
       "\t\t<dd>49370</dd>\n",
       "\t<dt>$testing_pos</dt>\n",
       "\t\t<dd>374</dd>\n",
       "\t<dt>$envios</dt>\n",
       "\t\t<dd>3285</dd>\n",
       "\t<dt>$aciertos</dt>\n",
       "\t\t<dd>211</dd>\n",
       "\t<dt>$ganancia_test</dt>\n",
       "\t\t<dd>51550000</dd>\n",
       "</dl>\n",
       "</li>\n",
       "\t<li><dl>\n",
       "\t<dt>$semilla</dt>\n",
       "\t\t<dd>219871</dd>\n",
       "\t<dt>$testing</dt>\n",
       "\t\t<dd>49378</dd>\n",
       "\t<dt>$testing_pos</dt>\n",
       "\t\t<dd>374</dd>\n",
       "\t<dt>$envios</dt>\n",
       "\t\t<dd>3264</dd>\n",
       "\t<dt>$aciertos</dt>\n",
       "\t\t<dd>214</dd>\n",
       "\t<dt>$ganancia_test</dt>\n",
       "\t\t<dd>52960000</dd>\n",
       "</dl>\n",
       "</li>\n",
       "\t<li><dl>\n",
       "\t<dt>$semilla</dt>\n",
       "\t\t<dd>102203</dd>\n",
       "\t<dt>$testing</dt>\n",
       "\t\t<dd>49383</dd>\n",
       "\t<dt>$testing_pos</dt>\n",
       "\t\t<dd>375</dd>\n",
       "\t<dt>$envios</dt>\n",
       "\t\t<dd>3092</dd>\n",
       "\t<dt>$aciertos</dt>\n",
       "\t\t<dd>204</dd>\n",
       "\t<dt>$ganancia_test</dt>\n",
       "\t\t<dd>50680000</dd>\n",
       "</dl>\n",
       "</li>\n",
       "\t<li><dl>\n",
       "\t<dt>$semilla</dt>\n",
       "\t\t<dd>155809</dd>\n",
       "\t<dt>$testing</dt>\n",
       "\t\t<dd>49384</dd>\n",
       "\t<dt>$testing_pos</dt>\n",
       "\t\t<dd>373</dd>\n",
       "\t<dt>$envios</dt>\n",
       "\t\t<dd>3049</dd>\n",
       "\t<dt>$aciertos</dt>\n",
       "\t\t<dd>192</dd>\n",
       "\t<dt>$ganancia_test</dt>\n",
       "\t\t<dd>46310000</dd>\n",
       "</dl>\n",
       "</li>\n",
       "\t<li><dl>\n",
       "\t<dt>$semilla</dt>\n",
       "\t\t<dd>117043</dd>\n",
       "\t<dt>$testing</dt>\n",
       "\t\t<dd>49374</dd>\n",
       "\t<dt>$testing_pos</dt>\n",
       "\t\t<dd>369</dd>\n",
       "\t<dt>$envios</dt>\n",
       "\t\t<dd>4252</dd>\n",
       "\t<dt>$aciertos</dt>\n",
       "\t\t<dd>219</dd>\n",
       "\t<dt>$ganancia_test</dt>\n",
       "\t\t<dd>45080000</dd>\n",
       "</dl>\n",
       "</li>\n",
       "\t<li><dl>\n",
       "\t<dt>$semilla</dt>\n",
       "\t\t<dd>860501</dd>\n",
       "\t<dt>$testing</dt>\n",
       "\t\t<dd>49392</dd>\n",
       "\t<dt>$testing_pos</dt>\n",
       "\t\t<dd>378</dd>\n",
       "\t<dt>$envios</dt>\n",
       "\t\t<dd>3746</dd>\n",
       "\t<dt>$aciertos</dt>\n",
       "\t\t<dd>230</dd>\n",
       "\t<dt>$ganancia_test</dt>\n",
       "\t\t<dd>54540000</dd>\n",
       "</dl>\n",
       "</li>\n",
       "\t<li><dl>\n",
       "\t<dt>$semilla</dt>\n",
       "\t\t<dd>767399</dd>\n",
       "\t<dt>$testing</dt>\n",
       "\t\t<dd>49388</dd>\n",
       "\t<dt>$testing_pos</dt>\n",
       "\t\t<dd>375</dd>\n",
       "\t<dt>$envios</dt>\n",
       "\t\t<dd>2540</dd>\n",
       "\t<dt>$aciertos</dt>\n",
       "\t\t<dd>196</dd>\n",
       "\t<dt>$ganancia_test</dt>\n",
       "\t\t<dd>5.3e+07</dd>\n",
       "</dl>\n",
       "</li>\n",
       "\t<li><dl>\n",
       "\t<dt>$semilla</dt>\n",
       "\t\t<dd>213637</dd>\n",
       "\t<dt>$testing</dt>\n",
       "\t\t<dd>49376</dd>\n",
       "\t<dt>$testing_pos</dt>\n",
       "\t\t<dd>375</dd>\n",
       "\t<dt>$envios</dt>\n",
       "\t\t<dd>3303</dd>\n",
       "\t<dt>$aciertos</dt>\n",
       "\t\t<dd>202</dd>\n",
       "\t<dt>$ganancia_test</dt>\n",
       "\t\t<dd>47770000</dd>\n",
       "</dl>\n",
       "</li>\n",
       "\t<li><dl>\n",
       "\t<dt>$semilla</dt>\n",
       "\t\t<dd>327017</dd>\n",
       "\t<dt>$testing</dt>\n",
       "\t\t<dd>49380</dd>\n",
       "\t<dt>$testing_pos</dt>\n",
       "\t\t<dd>373</dd>\n",
       "\t<dt>$envios</dt>\n",
       "\t\t<dd>2349</dd>\n",
       "\t<dt>$aciertos</dt>\n",
       "\t\t<dd>180</dd>\n",
       "\t<dt>$ganancia_test</dt>\n",
       "\t\t<dd>48510000</dd>\n",
       "</dl>\n",
       "</li>\n",
       "</ol>\n"
      ],
      "text/latex": [
       "\\begin{enumerate}\n",
       "\\item \\begin{description}\n",
       "\\item[\\$semilla] 412099\n",
       "\\item[\\$testing] 49387\n",
       "\\item[\\$testing\\_pos] 379\n",
       "\\item[\\$envios] 3326\n",
       "\\item[\\$aciertos] 208\n",
       "\\item[\\$ganancia\\_test] 49940000\n",
       "\\end{description}\n",
       "\n",
       "\\item \\begin{description}\n",
       "\\item[\\$semilla] 485081\n",
       "\\item[\\$testing] 49384\n",
       "\\item[\\$testing\\_pos] 380\n",
       "\\item[\\$envios] 3104\n",
       "\\item[\\$aciertos] 199\n",
       "\\item[\\$ganancia\\_test] 48560000\n",
       "\\end{description}\n",
       "\n",
       "\\item \\begin{description}\n",
       "\\item[\\$semilla] 433351\n",
       "\\item[\\$testing] 49387\n",
       "\\item[\\$testing\\_pos] 374\n",
       "\\item[\\$envios] 3961\n",
       "\\item[\\$aciertos] 227\n",
       "\\item[\\$ganancia\\_test] 51190000\n",
       "\\end{description}\n",
       "\n",
       "\\item \\begin{description}\n",
       "\\item[\\$semilla] 305369\n",
       "\\item[\\$testing] 49376\n",
       "\\item[\\$testing\\_pos] 375\n",
       "\\item[\\$envios] 3387\n",
       "\\item[\\$aciertos] 203\n",
       "\\item[\\$ganancia\\_test] 47330000\n",
       "\\end{description}\n",
       "\n",
       "\\item \\begin{description}\n",
       "\\item[\\$semilla] 203807\n",
       "\\item[\\$testing] 49384\n",
       "\\item[\\$testing\\_pos] 370\n",
       "\\item[\\$envios] 2877\n",
       "\\item[\\$aciertos] 180\n",
       "\\item[\\$ganancia\\_test] 43230000\n",
       "\\end{description}\n",
       "\n",
       "\\item \\begin{description}\n",
       "\\item[\\$semilla] 566911\n",
       "\\item[\\$testing] 49378\n",
       "\\item[\\$testing\\_pos] 376\n",
       "\\item[\\$envios] 4091\n",
       "\\item[\\$aciertos] 228\n",
       "\\item[\\$ganancia\\_test] 50290000\n",
       "\\end{description}\n",
       "\n",
       "\\item \\begin{description}\n",
       "\\item[\\$semilla] 815459\n",
       "\\item[\\$testing] 49376\n",
       "\\item[\\$testing\\_pos] 377\n",
       "\\item[\\$envios] 3710\n",
       "\\item[\\$aciertos] 209\n",
       "\\item[\\$ganancia\\_test] 46500000\n",
       "\\end{description}\n",
       "\n",
       "\\item \\begin{description}\n",
       "\\item[\\$semilla] 389563\n",
       "\\item[\\$testing] 49379\n",
       "\\item[\\$testing\\_pos] 376\n",
       "\\item[\\$envios] 2961\n",
       "\\item[\\$aciertos] 201\n",
       "\\item[\\$ganancia\\_test] 50790000\n",
       "\\end{description}\n",
       "\n",
       "\\item \\begin{description}\n",
       "\\item[\\$semilla] 880573\n",
       "\\item[\\$testing] 49385\n",
       "\\item[\\$testing\\_pos] 373\n",
       "\\item[\\$envios] 3764\n",
       "\\item[\\$aciertos] 216\n",
       "\\item[\\$ganancia\\_test] 48760000\n",
       "\\end{description}\n",
       "\n",
       "\\item \\begin{description}\n",
       "\\item[\\$semilla] 369709\n",
       "\\item[\\$testing] 49391\n",
       "\\item[\\$testing\\_pos] 373\n",
       "\\item[\\$envios] 3940\n",
       "\\item[\\$aciertos] 224\n",
       "\\item[\\$ganancia\\_test] 50200000\n",
       "\\end{description}\n",
       "\n",
       "\\item \\begin{description}\n",
       "\\item[\\$semilla] 867959\n",
       "\\item[\\$testing] 49379\n",
       "\\item[\\$testing\\_pos] 374\n",
       "\\item[\\$envios] 3869\n",
       "\\item[\\$aciertos] 217\n",
       "\\item[\\$ganancia\\_test] 48110000\n",
       "\\end{description}\n",
       "\n",
       "\\item \\begin{description}\n",
       "\\item[\\$semilla] 452279\n",
       "\\item[\\$testing] 49376\n",
       "\\item[\\$testing\\_pos] 374\n",
       "\\item[\\$envios] 3171\n",
       "\\item[\\$aciertos] 198\n",
       "\\item[\\$ganancia\\_test] 47490000\n",
       "\\end{description}\n",
       "\n",
       "\\item \\begin{description}\n",
       "\\item[\\$semilla] 167597\n",
       "\\item[\\$testing] 49383\n",
       "\\item[\\$testing\\_pos] 374\n",
       "\\item[\\$envios] 4035\n",
       "\\item[\\$aciertos] 224\n",
       "\\item[\\$ganancia\\_test] 49250000\n",
       "\\end{description}\n",
       "\n",
       "\\item \\begin{description}\n",
       "\\item[\\$semilla] 824063\n",
       "\\item[\\$testing] 49385\n",
       "\\item[\\$testing\\_pos] 378\n",
       "\\item[\\$envios] 4279\n",
       "\\item[\\$aciertos] 216\n",
       "\\item[\\$ganancia\\_test] 43610000\n",
       "\\end{description}\n",
       "\n",
       "\\item \\begin{description}\n",
       "\\item[\\$semilla] 942437\n",
       "\\item[\\$testing] 49379\n",
       "\\item[\\$testing\\_pos] 373\n",
       "\\item[\\$envios] 3335\n",
       "\\item[\\$aciertos] 202\n",
       "\\item[\\$ganancia\\_test] 47450000\n",
       "\\end{description}\n",
       "\n",
       "\\item \\begin{description}\n",
       "\\item[\\$semilla] 914827\n",
       "\\item[\\$testing] 49380\n",
       "\\item[\\$testing\\_pos] 373\n",
       "\\item[\\$envios] 3153\n",
       "\\item[\\$aciertos] 205\n",
       "\\item[\\$ganancia\\_test] 50470000\n",
       "\\end{description}\n",
       "\n",
       "\\item \\begin{description}\n",
       "\\item[\\$semilla] 335281\n",
       "\\item[\\$testing] 49380\n",
       "\\item[\\$testing\\_pos] 375\n",
       "\\item[\\$envios] 3411\n",
       "\\item[\\$aciertos] 207\n",
       "\\item[\\$ganancia\\_test] 48690000\n",
       "\\end{description}\n",
       "\n",
       "\\item \\begin{description}\n",
       "\\item[\\$semilla] 936527\n",
       "\\item[\\$testing] 49385\n",
       "\\item[\\$testing\\_pos] 376\n",
       "\\item[\\$envios] 3784\n",
       "\\item[\\$aciertos] 210\n",
       "\\item[\\$ganancia\\_test] 46160000\n",
       "\\end{description}\n",
       "\n",
       "\\item \\begin{description}\n",
       "\\item[\\$semilla] 488441\n",
       "\\item[\\$testing] 49378\n",
       "\\item[\\$testing\\_pos] 368\n",
       "\\item[\\$envios] 3913\n",
       "\\item[\\$aciertos] 215\n",
       "\\item[\\$ganancia\\_test] 46870000\n",
       "\\end{description}\n",
       "\n",
       "\\item \\begin{description}\n",
       "\\item[\\$semilla] 152459\n",
       "\\item[\\$testing] 49372\n",
       "\\item[\\$testing\\_pos] 372\n",
       "\\item[\\$envios] 2739\n",
       "\\item[\\$aciertos] 195\n",
       "\\item[\\$ganancia\\_test] 50610000\n",
       "\\end{description}\n",
       "\n",
       "\\item \\begin{description}\n",
       "\\item[\\$semilla] 577349\n",
       "\\item[\\$testing] 49385\n",
       "\\item[\\$testing\\_pos] 377\n",
       "\\item[\\$envios] 3324\n",
       "\\item[\\$aciertos] 207\n",
       "\\item[\\$ganancia\\_test] 49560000\n",
       "\\end{description}\n",
       "\n",
       "\\item \\begin{description}\n",
       "\\item[\\$semilla] 347771\n",
       "\\item[\\$testing] 49370\n",
       "\\item[\\$testing\\_pos] 374\n",
       "\\item[\\$envios] 2590\n",
       "\\item[\\$aciertos] 168\n",
       "\\item[\\$ganancia\\_test] 41300000\n",
       "\\end{description}\n",
       "\n",
       "\\item \\begin{description}\n",
       "\\item[\\$semilla] 770111\n",
       "\\item[\\$testing] 49376\n",
       "\\item[\\$testing\\_pos] 375\n",
       "\\item[\\$envios] 3716\n",
       "\\item[\\$aciertos] 207\n",
       "\\item[\\$ganancia\\_test] 45640000\n",
       "\\end{description}\n",
       "\n",
       "\\item \\begin{description}\n",
       "\\item[\\$semilla] 109211\n",
       "\\item[\\$testing] 49386\n",
       "\\item[\\$testing\\_pos] 373\n",
       "\\item[\\$envios] 2926\n",
       "\\item[\\$aciertos] 193\n",
       "\\item[\\$ganancia\\_test] 47940000\n",
       "\\end{description}\n",
       "\n",
       "\\item \\begin{description}\n",
       "\\item[\\$semilla] 493567\n",
       "\\item[\\$testing] 49379\n",
       "\\item[\\$testing\\_pos] 378\n",
       "\\item[\\$envios] 3403\n",
       "\\item[\\$aciertos] 195\n",
       "\\item[\\$ganancia\\_test] 43970000\n",
       "\\end{description}\n",
       "\n",
       "\\item \\begin{description}\n",
       "\\item[\\$semilla] 485137\n",
       "\\item[\\$testing] 49373\n",
       "\\item[\\$testing\\_pos] 372\n",
       "\\item[\\$envios] 3623\n",
       "\\item[\\$aciertos] 213\n",
       "\\item[\\$ganancia\\_test] 48970000\n",
       "\\end{description}\n",
       "\n",
       "\\item \\begin{description}\n",
       "\\item[\\$semilla] 133717\n",
       "\\item[\\$testing] 49382\n",
       "\\item[\\$testing\\_pos] 369\n",
       "\\item[\\$envios] 4278\n",
       "\\item[\\$aciertos] 216\n",
       "\\item[\\$ganancia\\_test] 43620000\n",
       "\\end{description}\n",
       "\n",
       "\\item \\begin{description}\n",
       "\\item[\\$semilla] 127249\n",
       "\\item[\\$testing] 49389\n",
       "\\item[\\$testing\\_pos] 377\n",
       "\\item[\\$envios] 3092\n",
       "\\item[\\$aciertos] 202\n",
       "\\item[\\$ganancia\\_test] 49880000\n",
       "\\end{description}\n",
       "\n",
       "\\item \\begin{description}\n",
       "\\item[\\$semilla] 514379\n",
       "\\item[\\$testing] 49378\n",
       "\\item[\\$testing\\_pos] 372\n",
       "\\item[\\$envios] 3206\n",
       "\\item[\\$aciertos] 205\n",
       "\\item[\\$ganancia\\_test] 49940000\n",
       "\\end{description}\n",
       "\n",
       "\\item \\begin{description}\n",
       "\\item[\\$semilla] 952037\n",
       "\\item[\\$testing] 49379\n",
       "\\item[\\$testing\\_pos] 371\n",
       "\\item[\\$envios] 3212\n",
       "\\item[\\$aciertos] 194\n",
       "\\item[\\$ganancia\\_test] 45480000\n",
       "\\end{description}\n",
       "\n",
       "\\item \\begin{description}\n",
       "\\item[\\$semilla] 134219\n",
       "\\item[\\$testing] 49363\n",
       "\\item[\\$testing\\_pos] 370\n",
       "\\item[\\$envios] 3711\n",
       "\\item[\\$aciertos] 213\n",
       "\\item[\\$ganancia\\_test] 48090000\n",
       "\\end{description}\n",
       "\n",
       "\\item \\begin{description}\n",
       "\\item[\\$semilla] 582821\n",
       "\\item[\\$testing] 49375\n",
       "\\item[\\$testing\\_pos] 372\n",
       "\\item[\\$envios] 3588\n",
       "\\item[\\$aciertos] 207\n",
       "\\item[\\$ganancia\\_test] 46920000\n",
       "\\end{description}\n",
       "\n",
       "\\item \\begin{description}\n",
       "\\item[\\$semilla] 381949\n",
       "\\item[\\$testing] 49365\n",
       "\\item[\\$testing\\_pos] 371\n",
       "\\item[\\$envios] 3335\n",
       "\\item[\\$aciertos] 177\n",
       "\\item[\\$ganancia\\_test] 37450000\n",
       "\\end{description}\n",
       "\n",
       "\\item \\begin{description}\n",
       "\\item[\\$semilla] 358703\n",
       "\\item[\\$testing] 49383\n",
       "\\item[\\$testing\\_pos] 377\n",
       "\\item[\\$envios] 3905\n",
       "\\item[\\$aciertos] 210\n",
       "\\item[\\$ganancia\\_test] 44950000\n",
       "\\end{description}\n",
       "\n",
       "\\item \\begin{description}\n",
       "\\item[\\$semilla] 805403\n",
       "\\item[\\$testing] 49392\n",
       "\\item[\\$testing\\_pos] 378\n",
       "\\item[\\$envios] 3444\n",
       "\\item[\\$aciertos] 199\n",
       "\\item[\\$ganancia\\_test] 45160000\n",
       "\\end{description}\n",
       "\n",
       "\\item \\begin{description}\n",
       "\\item[\\$semilla] 396443\n",
       "\\item[\\$testing] 49384\n",
       "\\item[\\$testing\\_pos] 377\n",
       "\\item[\\$envios] 3374\n",
       "\\item[\\$aciertos] 213\n",
       "\\item[\\$ganancia\\_test] 51460000\n",
       "\\end{description}\n",
       "\n",
       "\\item \\begin{description}\n",
       "\\item[\\$semilla] 509843\n",
       "\\item[\\$testing] 49377\n",
       "\\item[\\$testing\\_pos] 379\n",
       "\\item[\\$envios] 3596\n",
       "\\item[\\$aciertos] 206\n",
       "\\item[\\$ganancia\\_test] 46440000\n",
       "\\end{description}\n",
       "\n",
       "\\item \\begin{description}\n",
       "\\item[\\$semilla] 786077\n",
       "\\item[\\$testing] 49380\n",
       "\\item[\\$testing\\_pos] 375\n",
       "\\item[\\$envios] 4280\n",
       "\\item[\\$aciertos] 226\n",
       "\\item[\\$ganancia\\_test] 47600000\n",
       "\\end{description}\n",
       "\n",
       "\\item \\begin{description}\n",
       "\\item[\\$semilla] 600623\n",
       "\\item[\\$testing] 49376\n",
       "\\item[\\$testing\\_pos] 371\n",
       "\\item[\\$envios] 3724\n",
       "\\item[\\$aciertos] 216\n",
       "\\item[\\$ganancia\\_test] 49160000\n",
       "\\end{description}\n",
       "\n",
       "\\item \\begin{description}\n",
       "\\item[\\$semilla] 969179\n",
       "\\item[\\$testing] 49374\n",
       "\\item[\\$testing\\_pos] 374\n",
       "\\item[\\$envios] 3330\n",
       "\\item[\\$aciertos] 205\n",
       "\\item[\\$ganancia\\_test] 48700000\n",
       "\\end{description}\n",
       "\n",
       "\\item \\begin{description}\n",
       "\\item[\\$semilla] 286673\n",
       "\\item[\\$testing] 49384\n",
       "\\item[\\$testing\\_pos] 379\n",
       "\\item[\\$envios] 3786\n",
       "\\item[\\$aciertos] 229\n",
       "\\item[\\$ganancia\\_test] 53740000\n",
       "\\end{description}\n",
       "\n",
       "\\item \\begin{description}\n",
       "\\item[\\$semilla] 954917\n",
       "\\item[\\$testing] 49370\n",
       "\\item[\\$testing\\_pos] 374\n",
       "\\item[\\$envios] 3285\n",
       "\\item[\\$aciertos] 211\n",
       "\\item[\\$ganancia\\_test] 51550000\n",
       "\\end{description}\n",
       "\n",
       "\\item \\begin{description}\n",
       "\\item[\\$semilla] 219871\n",
       "\\item[\\$testing] 49378\n",
       "\\item[\\$testing\\_pos] 374\n",
       "\\item[\\$envios] 3264\n",
       "\\item[\\$aciertos] 214\n",
       "\\item[\\$ganancia\\_test] 52960000\n",
       "\\end{description}\n",
       "\n",
       "\\item \\begin{description}\n",
       "\\item[\\$semilla] 102203\n",
       "\\item[\\$testing] 49383\n",
       "\\item[\\$testing\\_pos] 375\n",
       "\\item[\\$envios] 3092\n",
       "\\item[\\$aciertos] 204\n",
       "\\item[\\$ganancia\\_test] 50680000\n",
       "\\end{description}\n",
       "\n",
       "\\item \\begin{description}\n",
       "\\item[\\$semilla] 155809\n",
       "\\item[\\$testing] 49384\n",
       "\\item[\\$testing\\_pos] 373\n",
       "\\item[\\$envios] 3049\n",
       "\\item[\\$aciertos] 192\n",
       "\\item[\\$ganancia\\_test] 46310000\n",
       "\\end{description}\n",
       "\n",
       "\\item \\begin{description}\n",
       "\\item[\\$semilla] 117043\n",
       "\\item[\\$testing] 49374\n",
       "\\item[\\$testing\\_pos] 369\n",
       "\\item[\\$envios] 4252\n",
       "\\item[\\$aciertos] 219\n",
       "\\item[\\$ganancia\\_test] 45080000\n",
       "\\end{description}\n",
       "\n",
       "\\item \\begin{description}\n",
       "\\item[\\$semilla] 860501\n",
       "\\item[\\$testing] 49392\n",
       "\\item[\\$testing\\_pos] 378\n",
       "\\item[\\$envios] 3746\n",
       "\\item[\\$aciertos] 230\n",
       "\\item[\\$ganancia\\_test] 54540000\n",
       "\\end{description}\n",
       "\n",
       "\\item \\begin{description}\n",
       "\\item[\\$semilla] 767399\n",
       "\\item[\\$testing] 49388\n",
       "\\item[\\$testing\\_pos] 375\n",
       "\\item[\\$envios] 2540\n",
       "\\item[\\$aciertos] 196\n",
       "\\item[\\$ganancia\\_test] 5.3e+07\n",
       "\\end{description}\n",
       "\n",
       "\\item \\begin{description}\n",
       "\\item[\\$semilla] 213637\n",
       "\\item[\\$testing] 49376\n",
       "\\item[\\$testing\\_pos] 375\n",
       "\\item[\\$envios] 3303\n",
       "\\item[\\$aciertos] 202\n",
       "\\item[\\$ganancia\\_test] 47770000\n",
       "\\end{description}\n",
       "\n",
       "\\item \\begin{description}\n",
       "\\item[\\$semilla] 327017\n",
       "\\item[\\$testing] 49380\n",
       "\\item[\\$testing\\_pos] 373\n",
       "\\item[\\$envios] 2349\n",
       "\\item[\\$aciertos] 180\n",
       "\\item[\\$ganancia\\_test] 48510000\n",
       "\\end{description}\n",
       "\n",
       "\\end{enumerate}\n"
      ],
      "text/markdown": [
       "1. $semilla\n",
       ":   412099\n",
       "$testing\n",
       ":   49387\n",
       "$testing_pos\n",
       ":   379\n",
       "$envios\n",
       ":   3326\n",
       "$aciertos\n",
       ":   208\n",
       "$ganancia_test\n",
       ":   49940000\n",
       "\n",
       "\n",
       "\n",
       "2. $semilla\n",
       ":   485081\n",
       "$testing\n",
       ":   49384\n",
       "$testing_pos\n",
       ":   380\n",
       "$envios\n",
       ":   3104\n",
       "$aciertos\n",
       ":   199\n",
       "$ganancia_test\n",
       ":   48560000\n",
       "\n",
       "\n",
       "\n",
       "3. $semilla\n",
       ":   433351\n",
       "$testing\n",
       ":   49387\n",
       "$testing_pos\n",
       ":   374\n",
       "$envios\n",
       ":   3961\n",
       "$aciertos\n",
       ":   227\n",
       "$ganancia_test\n",
       ":   51190000\n",
       "\n",
       "\n",
       "\n",
       "4. $semilla\n",
       ":   305369\n",
       "$testing\n",
       ":   49376\n",
       "$testing_pos\n",
       ":   375\n",
       "$envios\n",
       ":   3387\n",
       "$aciertos\n",
       ":   203\n",
       "$ganancia_test\n",
       ":   47330000\n",
       "\n",
       "\n",
       "\n",
       "5. $semilla\n",
       ":   203807\n",
       "$testing\n",
       ":   49384\n",
       "$testing_pos\n",
       ":   370\n",
       "$envios\n",
       ":   2877\n",
       "$aciertos\n",
       ":   180\n",
       "$ganancia_test\n",
       ":   43230000\n",
       "\n",
       "\n",
       "\n",
       "6. $semilla\n",
       ":   566911\n",
       "$testing\n",
       ":   49378\n",
       "$testing_pos\n",
       ":   376\n",
       "$envios\n",
       ":   4091\n",
       "$aciertos\n",
       ":   228\n",
       "$ganancia_test\n",
       ":   50290000\n",
       "\n",
       "\n",
       "\n",
       "7. $semilla\n",
       ":   815459\n",
       "$testing\n",
       ":   49376\n",
       "$testing_pos\n",
       ":   377\n",
       "$envios\n",
       ":   3710\n",
       "$aciertos\n",
       ":   209\n",
       "$ganancia_test\n",
       ":   46500000\n",
       "\n",
       "\n",
       "\n",
       "8. $semilla\n",
       ":   389563\n",
       "$testing\n",
       ":   49379\n",
       "$testing_pos\n",
       ":   376\n",
       "$envios\n",
       ":   2961\n",
       "$aciertos\n",
       ":   201\n",
       "$ganancia_test\n",
       ":   50790000\n",
       "\n",
       "\n",
       "\n",
       "9. $semilla\n",
       ":   880573\n",
       "$testing\n",
       ":   49385\n",
       "$testing_pos\n",
       ":   373\n",
       "$envios\n",
       ":   3764\n",
       "$aciertos\n",
       ":   216\n",
       "$ganancia_test\n",
       ":   48760000\n",
       "\n",
       "\n",
       "\n",
       "10. $semilla\n",
       ":   369709\n",
       "$testing\n",
       ":   49391\n",
       "$testing_pos\n",
       ":   373\n",
       "$envios\n",
       ":   3940\n",
       "$aciertos\n",
       ":   224\n",
       "$ganancia_test\n",
       ":   50200000\n",
       "\n",
       "\n",
       "\n",
       "11. $semilla\n",
       ":   867959\n",
       "$testing\n",
       ":   49379\n",
       "$testing_pos\n",
       ":   374\n",
       "$envios\n",
       ":   3869\n",
       "$aciertos\n",
       ":   217\n",
       "$ganancia_test\n",
       ":   48110000\n",
       "\n",
       "\n",
       "\n",
       "12. $semilla\n",
       ":   452279\n",
       "$testing\n",
       ":   49376\n",
       "$testing_pos\n",
       ":   374\n",
       "$envios\n",
       ":   3171\n",
       "$aciertos\n",
       ":   198\n",
       "$ganancia_test\n",
       ":   47490000\n",
       "\n",
       "\n",
       "\n",
       "13. $semilla\n",
       ":   167597\n",
       "$testing\n",
       ":   49383\n",
       "$testing_pos\n",
       ":   374\n",
       "$envios\n",
       ":   4035\n",
       "$aciertos\n",
       ":   224\n",
       "$ganancia_test\n",
       ":   49250000\n",
       "\n",
       "\n",
       "\n",
       "14. $semilla\n",
       ":   824063\n",
       "$testing\n",
       ":   49385\n",
       "$testing_pos\n",
       ":   378\n",
       "$envios\n",
       ":   4279\n",
       "$aciertos\n",
       ":   216\n",
       "$ganancia_test\n",
       ":   43610000\n",
       "\n",
       "\n",
       "\n",
       "15. $semilla\n",
       ":   942437\n",
       "$testing\n",
       ":   49379\n",
       "$testing_pos\n",
       ":   373\n",
       "$envios\n",
       ":   3335\n",
       "$aciertos\n",
       ":   202\n",
       "$ganancia_test\n",
       ":   47450000\n",
       "\n",
       "\n",
       "\n",
       "16. $semilla\n",
       ":   914827\n",
       "$testing\n",
       ":   49380\n",
       "$testing_pos\n",
       ":   373\n",
       "$envios\n",
       ":   3153\n",
       "$aciertos\n",
       ":   205\n",
       "$ganancia_test\n",
       ":   50470000\n",
       "\n",
       "\n",
       "\n",
       "17. $semilla\n",
       ":   335281\n",
       "$testing\n",
       ":   49380\n",
       "$testing_pos\n",
       ":   375\n",
       "$envios\n",
       ":   3411\n",
       "$aciertos\n",
       ":   207\n",
       "$ganancia_test\n",
       ":   48690000\n",
       "\n",
       "\n",
       "\n",
       "18. $semilla\n",
       ":   936527\n",
       "$testing\n",
       ":   49385\n",
       "$testing_pos\n",
       ":   376\n",
       "$envios\n",
       ":   3784\n",
       "$aciertos\n",
       ":   210\n",
       "$ganancia_test\n",
       ":   46160000\n",
       "\n",
       "\n",
       "\n",
       "19. $semilla\n",
       ":   488441\n",
       "$testing\n",
       ":   49378\n",
       "$testing_pos\n",
       ":   368\n",
       "$envios\n",
       ":   3913\n",
       "$aciertos\n",
       ":   215\n",
       "$ganancia_test\n",
       ":   46870000\n",
       "\n",
       "\n",
       "\n",
       "20. $semilla\n",
       ":   152459\n",
       "$testing\n",
       ":   49372\n",
       "$testing_pos\n",
       ":   372\n",
       "$envios\n",
       ":   2739\n",
       "$aciertos\n",
       ":   195\n",
       "$ganancia_test\n",
       ":   50610000\n",
       "\n",
       "\n",
       "\n",
       "21. $semilla\n",
       ":   577349\n",
       "$testing\n",
       ":   49385\n",
       "$testing_pos\n",
       ":   377\n",
       "$envios\n",
       ":   3324\n",
       "$aciertos\n",
       ":   207\n",
       "$ganancia_test\n",
       ":   49560000\n",
       "\n",
       "\n",
       "\n",
       "22. $semilla\n",
       ":   347771\n",
       "$testing\n",
       ":   49370\n",
       "$testing_pos\n",
       ":   374\n",
       "$envios\n",
       ":   2590\n",
       "$aciertos\n",
       ":   168\n",
       "$ganancia_test\n",
       ":   41300000\n",
       "\n",
       "\n",
       "\n",
       "23. $semilla\n",
       ":   770111\n",
       "$testing\n",
       ":   49376\n",
       "$testing_pos\n",
       ":   375\n",
       "$envios\n",
       ":   3716\n",
       "$aciertos\n",
       ":   207\n",
       "$ganancia_test\n",
       ":   45640000\n",
       "\n",
       "\n",
       "\n",
       "24. $semilla\n",
       ":   109211\n",
       "$testing\n",
       ":   49386\n",
       "$testing_pos\n",
       ":   373\n",
       "$envios\n",
       ":   2926\n",
       "$aciertos\n",
       ":   193\n",
       "$ganancia_test\n",
       ":   47940000\n",
       "\n",
       "\n",
       "\n",
       "25. $semilla\n",
       ":   493567\n",
       "$testing\n",
       ":   49379\n",
       "$testing_pos\n",
       ":   378\n",
       "$envios\n",
       ":   3403\n",
       "$aciertos\n",
       ":   195\n",
       "$ganancia_test\n",
       ":   43970000\n",
       "\n",
       "\n",
       "\n",
       "26. $semilla\n",
       ":   485137\n",
       "$testing\n",
       ":   49373\n",
       "$testing_pos\n",
       ":   372\n",
       "$envios\n",
       ":   3623\n",
       "$aciertos\n",
       ":   213\n",
       "$ganancia_test\n",
       ":   48970000\n",
       "\n",
       "\n",
       "\n",
       "27. $semilla\n",
       ":   133717\n",
       "$testing\n",
       ":   49382\n",
       "$testing_pos\n",
       ":   369\n",
       "$envios\n",
       ":   4278\n",
       "$aciertos\n",
       ":   216\n",
       "$ganancia_test\n",
       ":   43620000\n",
       "\n",
       "\n",
       "\n",
       "28. $semilla\n",
       ":   127249\n",
       "$testing\n",
       ":   49389\n",
       "$testing_pos\n",
       ":   377\n",
       "$envios\n",
       ":   3092\n",
       "$aciertos\n",
       ":   202\n",
       "$ganancia_test\n",
       ":   49880000\n",
       "\n",
       "\n",
       "\n",
       "29. $semilla\n",
       ":   514379\n",
       "$testing\n",
       ":   49378\n",
       "$testing_pos\n",
       ":   372\n",
       "$envios\n",
       ":   3206\n",
       "$aciertos\n",
       ":   205\n",
       "$ganancia_test\n",
       ":   49940000\n",
       "\n",
       "\n",
       "\n",
       "30. $semilla\n",
       ":   952037\n",
       "$testing\n",
       ":   49379\n",
       "$testing_pos\n",
       ":   371\n",
       "$envios\n",
       ":   3212\n",
       "$aciertos\n",
       ":   194\n",
       "$ganancia_test\n",
       ":   45480000\n",
       "\n",
       "\n",
       "\n",
       "31. $semilla\n",
       ":   134219\n",
       "$testing\n",
       ":   49363\n",
       "$testing_pos\n",
       ":   370\n",
       "$envios\n",
       ":   3711\n",
       "$aciertos\n",
       ":   213\n",
       "$ganancia_test\n",
       ":   48090000\n",
       "\n",
       "\n",
       "\n",
       "32. $semilla\n",
       ":   582821\n",
       "$testing\n",
       ":   49375\n",
       "$testing_pos\n",
       ":   372\n",
       "$envios\n",
       ":   3588\n",
       "$aciertos\n",
       ":   207\n",
       "$ganancia_test\n",
       ":   46920000\n",
       "\n",
       "\n",
       "\n",
       "33. $semilla\n",
       ":   381949\n",
       "$testing\n",
       ":   49365\n",
       "$testing_pos\n",
       ":   371\n",
       "$envios\n",
       ":   3335\n",
       "$aciertos\n",
       ":   177\n",
       "$ganancia_test\n",
       ":   37450000\n",
       "\n",
       "\n",
       "\n",
       "34. $semilla\n",
       ":   358703\n",
       "$testing\n",
       ":   49383\n",
       "$testing_pos\n",
       ":   377\n",
       "$envios\n",
       ":   3905\n",
       "$aciertos\n",
       ":   210\n",
       "$ganancia_test\n",
       ":   44950000\n",
       "\n",
       "\n",
       "\n",
       "35. $semilla\n",
       ":   805403\n",
       "$testing\n",
       ":   49392\n",
       "$testing_pos\n",
       ":   378\n",
       "$envios\n",
       ":   3444\n",
       "$aciertos\n",
       ":   199\n",
       "$ganancia_test\n",
       ":   45160000\n",
       "\n",
       "\n",
       "\n",
       "36. $semilla\n",
       ":   396443\n",
       "$testing\n",
       ":   49384\n",
       "$testing_pos\n",
       ":   377\n",
       "$envios\n",
       ":   3374\n",
       "$aciertos\n",
       ":   213\n",
       "$ganancia_test\n",
       ":   51460000\n",
       "\n",
       "\n",
       "\n",
       "37. $semilla\n",
       ":   509843\n",
       "$testing\n",
       ":   49377\n",
       "$testing_pos\n",
       ":   379\n",
       "$envios\n",
       ":   3596\n",
       "$aciertos\n",
       ":   206\n",
       "$ganancia_test\n",
       ":   46440000\n",
       "\n",
       "\n",
       "\n",
       "38. $semilla\n",
       ":   786077\n",
       "$testing\n",
       ":   49380\n",
       "$testing_pos\n",
       ":   375\n",
       "$envios\n",
       ":   4280\n",
       "$aciertos\n",
       ":   226\n",
       "$ganancia_test\n",
       ":   47600000\n",
       "\n",
       "\n",
       "\n",
       "39. $semilla\n",
       ":   600623\n",
       "$testing\n",
       ":   49376\n",
       "$testing_pos\n",
       ":   371\n",
       "$envios\n",
       ":   3724\n",
       "$aciertos\n",
       ":   216\n",
       "$ganancia_test\n",
       ":   49160000\n",
       "\n",
       "\n",
       "\n",
       "40. $semilla\n",
       ":   969179\n",
       "$testing\n",
       ":   49374\n",
       "$testing_pos\n",
       ":   374\n",
       "$envios\n",
       ":   3330\n",
       "$aciertos\n",
       ":   205\n",
       "$ganancia_test\n",
       ":   48700000\n",
       "\n",
       "\n",
       "\n",
       "41. $semilla\n",
       ":   286673\n",
       "$testing\n",
       ":   49384\n",
       "$testing_pos\n",
       ":   379\n",
       "$envios\n",
       ":   3786\n",
       "$aciertos\n",
       ":   229\n",
       "$ganancia_test\n",
       ":   53740000\n",
       "\n",
       "\n",
       "\n",
       "42. $semilla\n",
       ":   954917\n",
       "$testing\n",
       ":   49370\n",
       "$testing_pos\n",
       ":   374\n",
       "$envios\n",
       ":   3285\n",
       "$aciertos\n",
       ":   211\n",
       "$ganancia_test\n",
       ":   51550000\n",
       "\n",
       "\n",
       "\n",
       "43. $semilla\n",
       ":   219871\n",
       "$testing\n",
       ":   49378\n",
       "$testing_pos\n",
       ":   374\n",
       "$envios\n",
       ":   3264\n",
       "$aciertos\n",
       ":   214\n",
       "$ganancia_test\n",
       ":   52960000\n",
       "\n",
       "\n",
       "\n",
       "44. $semilla\n",
       ":   102203\n",
       "$testing\n",
       ":   49383\n",
       "$testing_pos\n",
       ":   375\n",
       "$envios\n",
       ":   3092\n",
       "$aciertos\n",
       ":   204\n",
       "$ganancia_test\n",
       ":   50680000\n",
       "\n",
       "\n",
       "\n",
       "45. $semilla\n",
       ":   155809\n",
       "$testing\n",
       ":   49384\n",
       "$testing_pos\n",
       ":   373\n",
       "$envios\n",
       ":   3049\n",
       "$aciertos\n",
       ":   192\n",
       "$ganancia_test\n",
       ":   46310000\n",
       "\n",
       "\n",
       "\n",
       "46. $semilla\n",
       ":   117043\n",
       "$testing\n",
       ":   49374\n",
       "$testing_pos\n",
       ":   369\n",
       "$envios\n",
       ":   4252\n",
       "$aciertos\n",
       ":   219\n",
       "$ganancia_test\n",
       ":   45080000\n",
       "\n",
       "\n",
       "\n",
       "47. $semilla\n",
       ":   860501\n",
       "$testing\n",
       ":   49392\n",
       "$testing_pos\n",
       ":   378\n",
       "$envios\n",
       ":   3746\n",
       "$aciertos\n",
       ":   230\n",
       "$ganancia_test\n",
       ":   54540000\n",
       "\n",
       "\n",
       "\n",
       "48. $semilla\n",
       ":   767399\n",
       "$testing\n",
       ":   49388\n",
       "$testing_pos\n",
       ":   375\n",
       "$envios\n",
       ":   2540\n",
       "$aciertos\n",
       ":   196\n",
       "$ganancia_test\n",
       ":   5.3e+07\n",
       "\n",
       "\n",
       "\n",
       "49. $semilla\n",
       ":   213637\n",
       "$testing\n",
       ":   49376\n",
       "$testing_pos\n",
       ":   375\n",
       "$envios\n",
       ":   3303\n",
       "$aciertos\n",
       ":   202\n",
       "$ganancia_test\n",
       ":   47770000\n",
       "\n",
       "\n",
       "\n",
       "50. $semilla\n",
       ":   327017\n",
       "$testing\n",
       ":   49380\n",
       "$testing_pos\n",
       ":   373\n",
       "$envios\n",
       ":   2349\n",
       "$aciertos\n",
       ":   180\n",
       "$ganancia_test\n",
       ":   48510000\n",
       "\n",
       "\n",
       "\n",
       "\n",
       "\n"
      ],
      "text/plain": [
       "[[1]]\n",
       "[[1]]$semilla\n",
       "[1] 412099\n",
       "\n",
       "[[1]]$testing\n",
       "[1] 49387\n",
       "\n",
       "[[1]]$testing_pos\n",
       "[1] 379\n",
       "\n",
       "[[1]]$envios\n",
       "[1] 3326\n",
       "\n",
       "[[1]]$aciertos\n",
       "[1] 208\n",
       "\n",
       "[[1]]$ganancia_test\n",
       "[1] 49940000\n",
       "\n",
       "\n",
       "[[2]]\n",
       "[[2]]$semilla\n",
       "[1] 485081\n",
       "\n",
       "[[2]]$testing\n",
       "[1] 49384\n",
       "\n",
       "[[2]]$testing_pos\n",
       "[1] 380\n",
       "\n",
       "[[2]]$envios\n",
       "[1] 3104\n",
       "\n",
       "[[2]]$aciertos\n",
       "[1] 199\n",
       "\n",
       "[[2]]$ganancia_test\n",
       "[1] 48560000\n",
       "\n",
       "\n",
       "[[3]]\n",
       "[[3]]$semilla\n",
       "[1] 433351\n",
       "\n",
       "[[3]]$testing\n",
       "[1] 49387\n",
       "\n",
       "[[3]]$testing_pos\n",
       "[1] 374\n",
       "\n",
       "[[3]]$envios\n",
       "[1] 3961\n",
       "\n",
       "[[3]]$aciertos\n",
       "[1] 227\n",
       "\n",
       "[[3]]$ganancia_test\n",
       "[1] 51190000\n",
       "\n",
       "\n",
       "[[4]]\n",
       "[[4]]$semilla\n",
       "[1] 305369\n",
       "\n",
       "[[4]]$testing\n",
       "[1] 49376\n",
       "\n",
       "[[4]]$testing_pos\n",
       "[1] 375\n",
       "\n",
       "[[4]]$envios\n",
       "[1] 3387\n",
       "\n",
       "[[4]]$aciertos\n",
       "[1] 203\n",
       "\n",
       "[[4]]$ganancia_test\n",
       "[1] 47330000\n",
       "\n",
       "\n",
       "[[5]]\n",
       "[[5]]$semilla\n",
       "[1] 203807\n",
       "\n",
       "[[5]]$testing\n",
       "[1] 49384\n",
       "\n",
       "[[5]]$testing_pos\n",
       "[1] 370\n",
       "\n",
       "[[5]]$envios\n",
       "[1] 2877\n",
       "\n",
       "[[5]]$aciertos\n",
       "[1] 180\n",
       "\n",
       "[[5]]$ganancia_test\n",
       "[1] 43230000\n",
       "\n",
       "\n",
       "[[6]]\n",
       "[[6]]$semilla\n",
       "[1] 566911\n",
       "\n",
       "[[6]]$testing\n",
       "[1] 49378\n",
       "\n",
       "[[6]]$testing_pos\n",
       "[1] 376\n",
       "\n",
       "[[6]]$envios\n",
       "[1] 4091\n",
       "\n",
       "[[6]]$aciertos\n",
       "[1] 228\n",
       "\n",
       "[[6]]$ganancia_test\n",
       "[1] 50290000\n",
       "\n",
       "\n",
       "[[7]]\n",
       "[[7]]$semilla\n",
       "[1] 815459\n",
       "\n",
       "[[7]]$testing\n",
       "[1] 49376\n",
       "\n",
       "[[7]]$testing_pos\n",
       "[1] 377\n",
       "\n",
       "[[7]]$envios\n",
       "[1] 3710\n",
       "\n",
       "[[7]]$aciertos\n",
       "[1] 209\n",
       "\n",
       "[[7]]$ganancia_test\n",
       "[1] 46500000\n",
       "\n",
       "\n",
       "[[8]]\n",
       "[[8]]$semilla\n",
       "[1] 389563\n",
       "\n",
       "[[8]]$testing\n",
       "[1] 49379\n",
       "\n",
       "[[8]]$testing_pos\n",
       "[1] 376\n",
       "\n",
       "[[8]]$envios\n",
       "[1] 2961\n",
       "\n",
       "[[8]]$aciertos\n",
       "[1] 201\n",
       "\n",
       "[[8]]$ganancia_test\n",
       "[1] 50790000\n",
       "\n",
       "\n",
       "[[9]]\n",
       "[[9]]$semilla\n",
       "[1] 880573\n",
       "\n",
       "[[9]]$testing\n",
       "[1] 49385\n",
       "\n",
       "[[9]]$testing_pos\n",
       "[1] 373\n",
       "\n",
       "[[9]]$envios\n",
       "[1] 3764\n",
       "\n",
       "[[9]]$aciertos\n",
       "[1] 216\n",
       "\n",
       "[[9]]$ganancia_test\n",
       "[1] 48760000\n",
       "\n",
       "\n",
       "[[10]]\n",
       "[[10]]$semilla\n",
       "[1] 369709\n",
       "\n",
       "[[10]]$testing\n",
       "[1] 49391\n",
       "\n",
       "[[10]]$testing_pos\n",
       "[1] 373\n",
       "\n",
       "[[10]]$envios\n",
       "[1] 3940\n",
       "\n",
       "[[10]]$aciertos\n",
       "[1] 224\n",
       "\n",
       "[[10]]$ganancia_test\n",
       "[1] 50200000\n",
       "\n",
       "\n",
       "[[11]]\n",
       "[[11]]$semilla\n",
       "[1] 867959\n",
       "\n",
       "[[11]]$testing\n",
       "[1] 49379\n",
       "\n",
       "[[11]]$testing_pos\n",
       "[1] 374\n",
       "\n",
       "[[11]]$envios\n",
       "[1] 3869\n",
       "\n",
       "[[11]]$aciertos\n",
       "[1] 217\n",
       "\n",
       "[[11]]$ganancia_test\n",
       "[1] 48110000\n",
       "\n",
       "\n",
       "[[12]]\n",
       "[[12]]$semilla\n",
       "[1] 452279\n",
       "\n",
       "[[12]]$testing\n",
       "[1] 49376\n",
       "\n",
       "[[12]]$testing_pos\n",
       "[1] 374\n",
       "\n",
       "[[12]]$envios\n",
       "[1] 3171\n",
       "\n",
       "[[12]]$aciertos\n",
       "[1] 198\n",
       "\n",
       "[[12]]$ganancia_test\n",
       "[1] 47490000\n",
       "\n",
       "\n",
       "[[13]]\n",
       "[[13]]$semilla\n",
       "[1] 167597\n",
       "\n",
       "[[13]]$testing\n",
       "[1] 49383\n",
       "\n",
       "[[13]]$testing_pos\n",
       "[1] 374\n",
       "\n",
       "[[13]]$envios\n",
       "[1] 4035\n",
       "\n",
       "[[13]]$aciertos\n",
       "[1] 224\n",
       "\n",
       "[[13]]$ganancia_test\n",
       "[1] 49250000\n",
       "\n",
       "\n",
       "[[14]]\n",
       "[[14]]$semilla\n",
       "[1] 824063\n",
       "\n",
       "[[14]]$testing\n",
       "[1] 49385\n",
       "\n",
       "[[14]]$testing_pos\n",
       "[1] 378\n",
       "\n",
       "[[14]]$envios\n",
       "[1] 4279\n",
       "\n",
       "[[14]]$aciertos\n",
       "[1] 216\n",
       "\n",
       "[[14]]$ganancia_test\n",
       "[1] 43610000\n",
       "\n",
       "\n",
       "[[15]]\n",
       "[[15]]$semilla\n",
       "[1] 942437\n",
       "\n",
       "[[15]]$testing\n",
       "[1] 49379\n",
       "\n",
       "[[15]]$testing_pos\n",
       "[1] 373\n",
       "\n",
       "[[15]]$envios\n",
       "[1] 3335\n",
       "\n",
       "[[15]]$aciertos\n",
       "[1] 202\n",
       "\n",
       "[[15]]$ganancia_test\n",
       "[1] 47450000\n",
       "\n",
       "\n",
       "[[16]]\n",
       "[[16]]$semilla\n",
       "[1] 914827\n",
       "\n",
       "[[16]]$testing\n",
       "[1] 49380\n",
       "\n",
       "[[16]]$testing_pos\n",
       "[1] 373\n",
       "\n",
       "[[16]]$envios\n",
       "[1] 3153\n",
       "\n",
       "[[16]]$aciertos\n",
       "[1] 205\n",
       "\n",
       "[[16]]$ganancia_test\n",
       "[1] 50470000\n",
       "\n",
       "\n",
       "[[17]]\n",
       "[[17]]$semilla\n",
       "[1] 335281\n",
       "\n",
       "[[17]]$testing\n",
       "[1] 49380\n",
       "\n",
       "[[17]]$testing_pos\n",
       "[1] 375\n",
       "\n",
       "[[17]]$envios\n",
       "[1] 3411\n",
       "\n",
       "[[17]]$aciertos\n",
       "[1] 207\n",
       "\n",
       "[[17]]$ganancia_test\n",
       "[1] 48690000\n",
       "\n",
       "\n",
       "[[18]]\n",
       "[[18]]$semilla\n",
       "[1] 936527\n",
       "\n",
       "[[18]]$testing\n",
       "[1] 49385\n",
       "\n",
       "[[18]]$testing_pos\n",
       "[1] 376\n",
       "\n",
       "[[18]]$envios\n",
       "[1] 3784\n",
       "\n",
       "[[18]]$aciertos\n",
       "[1] 210\n",
       "\n",
       "[[18]]$ganancia_test\n",
       "[1] 46160000\n",
       "\n",
       "\n",
       "[[19]]\n",
       "[[19]]$semilla\n",
       "[1] 488441\n",
       "\n",
       "[[19]]$testing\n",
       "[1] 49378\n",
       "\n",
       "[[19]]$testing_pos\n",
       "[1] 368\n",
       "\n",
       "[[19]]$envios\n",
       "[1] 3913\n",
       "\n",
       "[[19]]$aciertos\n",
       "[1] 215\n",
       "\n",
       "[[19]]$ganancia_test\n",
       "[1] 46870000\n",
       "\n",
       "\n",
       "[[20]]\n",
       "[[20]]$semilla\n",
       "[1] 152459\n",
       "\n",
       "[[20]]$testing\n",
       "[1] 49372\n",
       "\n",
       "[[20]]$testing_pos\n",
       "[1] 372\n",
       "\n",
       "[[20]]$envios\n",
       "[1] 2739\n",
       "\n",
       "[[20]]$aciertos\n",
       "[1] 195\n",
       "\n",
       "[[20]]$ganancia_test\n",
       "[1] 50610000\n",
       "\n",
       "\n",
       "[[21]]\n",
       "[[21]]$semilla\n",
       "[1] 577349\n",
       "\n",
       "[[21]]$testing\n",
       "[1] 49385\n",
       "\n",
       "[[21]]$testing_pos\n",
       "[1] 377\n",
       "\n",
       "[[21]]$envios\n",
       "[1] 3324\n",
       "\n",
       "[[21]]$aciertos\n",
       "[1] 207\n",
       "\n",
       "[[21]]$ganancia_test\n",
       "[1] 49560000\n",
       "\n",
       "\n",
       "[[22]]\n",
       "[[22]]$semilla\n",
       "[1] 347771\n",
       "\n",
       "[[22]]$testing\n",
       "[1] 49370\n",
       "\n",
       "[[22]]$testing_pos\n",
       "[1] 374\n",
       "\n",
       "[[22]]$envios\n",
       "[1] 2590\n",
       "\n",
       "[[22]]$aciertos\n",
       "[1] 168\n",
       "\n",
       "[[22]]$ganancia_test\n",
       "[1] 41300000\n",
       "\n",
       "\n",
       "[[23]]\n",
       "[[23]]$semilla\n",
       "[1] 770111\n",
       "\n",
       "[[23]]$testing\n",
       "[1] 49376\n",
       "\n",
       "[[23]]$testing_pos\n",
       "[1] 375\n",
       "\n",
       "[[23]]$envios\n",
       "[1] 3716\n",
       "\n",
       "[[23]]$aciertos\n",
       "[1] 207\n",
       "\n",
       "[[23]]$ganancia_test\n",
       "[1] 45640000\n",
       "\n",
       "\n",
       "[[24]]\n",
       "[[24]]$semilla\n",
       "[1] 109211\n",
       "\n",
       "[[24]]$testing\n",
       "[1] 49386\n",
       "\n",
       "[[24]]$testing_pos\n",
       "[1] 373\n",
       "\n",
       "[[24]]$envios\n",
       "[1] 2926\n",
       "\n",
       "[[24]]$aciertos\n",
       "[1] 193\n",
       "\n",
       "[[24]]$ganancia_test\n",
       "[1] 47940000\n",
       "\n",
       "\n",
       "[[25]]\n",
       "[[25]]$semilla\n",
       "[1] 493567\n",
       "\n",
       "[[25]]$testing\n",
       "[1] 49379\n",
       "\n",
       "[[25]]$testing_pos\n",
       "[1] 378\n",
       "\n",
       "[[25]]$envios\n",
       "[1] 3403\n",
       "\n",
       "[[25]]$aciertos\n",
       "[1] 195\n",
       "\n",
       "[[25]]$ganancia_test\n",
       "[1] 43970000\n",
       "\n",
       "\n",
       "[[26]]\n",
       "[[26]]$semilla\n",
       "[1] 485137\n",
       "\n",
       "[[26]]$testing\n",
       "[1] 49373\n",
       "\n",
       "[[26]]$testing_pos\n",
       "[1] 372\n",
       "\n",
       "[[26]]$envios\n",
       "[1] 3623\n",
       "\n",
       "[[26]]$aciertos\n",
       "[1] 213\n",
       "\n",
       "[[26]]$ganancia_test\n",
       "[1] 48970000\n",
       "\n",
       "\n",
       "[[27]]\n",
       "[[27]]$semilla\n",
       "[1] 133717\n",
       "\n",
       "[[27]]$testing\n",
       "[1] 49382\n",
       "\n",
       "[[27]]$testing_pos\n",
       "[1] 369\n",
       "\n",
       "[[27]]$envios\n",
       "[1] 4278\n",
       "\n",
       "[[27]]$aciertos\n",
       "[1] 216\n",
       "\n",
       "[[27]]$ganancia_test\n",
       "[1] 43620000\n",
       "\n",
       "\n",
       "[[28]]\n",
       "[[28]]$semilla\n",
       "[1] 127249\n",
       "\n",
       "[[28]]$testing\n",
       "[1] 49389\n",
       "\n",
       "[[28]]$testing_pos\n",
       "[1] 377\n",
       "\n",
       "[[28]]$envios\n",
       "[1] 3092\n",
       "\n",
       "[[28]]$aciertos\n",
       "[1] 202\n",
       "\n",
       "[[28]]$ganancia_test\n",
       "[1] 49880000\n",
       "\n",
       "\n",
       "[[29]]\n",
       "[[29]]$semilla\n",
       "[1] 514379\n",
       "\n",
       "[[29]]$testing\n",
       "[1] 49378\n",
       "\n",
       "[[29]]$testing_pos\n",
       "[1] 372\n",
       "\n",
       "[[29]]$envios\n",
       "[1] 3206\n",
       "\n",
       "[[29]]$aciertos\n",
       "[1] 205\n",
       "\n",
       "[[29]]$ganancia_test\n",
       "[1] 49940000\n",
       "\n",
       "\n",
       "[[30]]\n",
       "[[30]]$semilla\n",
       "[1] 952037\n",
       "\n",
       "[[30]]$testing\n",
       "[1] 49379\n",
       "\n",
       "[[30]]$testing_pos\n",
       "[1] 371\n",
       "\n",
       "[[30]]$envios\n",
       "[1] 3212\n",
       "\n",
       "[[30]]$aciertos\n",
       "[1] 194\n",
       "\n",
       "[[30]]$ganancia_test\n",
       "[1] 45480000\n",
       "\n",
       "\n",
       "[[31]]\n",
       "[[31]]$semilla\n",
       "[1] 134219\n",
       "\n",
       "[[31]]$testing\n",
       "[1] 49363\n",
       "\n",
       "[[31]]$testing_pos\n",
       "[1] 370\n",
       "\n",
       "[[31]]$envios\n",
       "[1] 3711\n",
       "\n",
       "[[31]]$aciertos\n",
       "[1] 213\n",
       "\n",
       "[[31]]$ganancia_test\n",
       "[1] 48090000\n",
       "\n",
       "\n",
       "[[32]]\n",
       "[[32]]$semilla\n",
       "[1] 582821\n",
       "\n",
       "[[32]]$testing\n",
       "[1] 49375\n",
       "\n",
       "[[32]]$testing_pos\n",
       "[1] 372\n",
       "\n",
       "[[32]]$envios\n",
       "[1] 3588\n",
       "\n",
       "[[32]]$aciertos\n",
       "[1] 207\n",
       "\n",
       "[[32]]$ganancia_test\n",
       "[1] 46920000\n",
       "\n",
       "\n",
       "[[33]]\n",
       "[[33]]$semilla\n",
       "[1] 381949\n",
       "\n",
       "[[33]]$testing\n",
       "[1] 49365\n",
       "\n",
       "[[33]]$testing_pos\n",
       "[1] 371\n",
       "\n",
       "[[33]]$envios\n",
       "[1] 3335\n",
       "\n",
       "[[33]]$aciertos\n",
       "[1] 177\n",
       "\n",
       "[[33]]$ganancia_test\n",
       "[1] 37450000\n",
       "\n",
       "\n",
       "[[34]]\n",
       "[[34]]$semilla\n",
       "[1] 358703\n",
       "\n",
       "[[34]]$testing\n",
       "[1] 49383\n",
       "\n",
       "[[34]]$testing_pos\n",
       "[1] 377\n",
       "\n",
       "[[34]]$envios\n",
       "[1] 3905\n",
       "\n",
       "[[34]]$aciertos\n",
       "[1] 210\n",
       "\n",
       "[[34]]$ganancia_test\n",
       "[1] 44950000\n",
       "\n",
       "\n",
       "[[35]]\n",
       "[[35]]$semilla\n",
       "[1] 805403\n",
       "\n",
       "[[35]]$testing\n",
       "[1] 49392\n",
       "\n",
       "[[35]]$testing_pos\n",
       "[1] 378\n",
       "\n",
       "[[35]]$envios\n",
       "[1] 3444\n",
       "\n",
       "[[35]]$aciertos\n",
       "[1] 199\n",
       "\n",
       "[[35]]$ganancia_test\n",
       "[1] 45160000\n",
       "\n",
       "\n",
       "[[36]]\n",
       "[[36]]$semilla\n",
       "[1] 396443\n",
       "\n",
       "[[36]]$testing\n",
       "[1] 49384\n",
       "\n",
       "[[36]]$testing_pos\n",
       "[1] 377\n",
       "\n",
       "[[36]]$envios\n",
       "[1] 3374\n",
       "\n",
       "[[36]]$aciertos\n",
       "[1] 213\n",
       "\n",
       "[[36]]$ganancia_test\n",
       "[1] 51460000\n",
       "\n",
       "\n",
       "[[37]]\n",
       "[[37]]$semilla\n",
       "[1] 509843\n",
       "\n",
       "[[37]]$testing\n",
       "[1] 49377\n",
       "\n",
       "[[37]]$testing_pos\n",
       "[1] 379\n",
       "\n",
       "[[37]]$envios\n",
       "[1] 3596\n",
       "\n",
       "[[37]]$aciertos\n",
       "[1] 206\n",
       "\n",
       "[[37]]$ganancia_test\n",
       "[1] 46440000\n",
       "\n",
       "\n",
       "[[38]]\n",
       "[[38]]$semilla\n",
       "[1] 786077\n",
       "\n",
       "[[38]]$testing\n",
       "[1] 49380\n",
       "\n",
       "[[38]]$testing_pos\n",
       "[1] 375\n",
       "\n",
       "[[38]]$envios\n",
       "[1] 4280\n",
       "\n",
       "[[38]]$aciertos\n",
       "[1] 226\n",
       "\n",
       "[[38]]$ganancia_test\n",
       "[1] 47600000\n",
       "\n",
       "\n",
       "[[39]]\n",
       "[[39]]$semilla\n",
       "[1] 600623\n",
       "\n",
       "[[39]]$testing\n",
       "[1] 49376\n",
       "\n",
       "[[39]]$testing_pos\n",
       "[1] 371\n",
       "\n",
       "[[39]]$envios\n",
       "[1] 3724\n",
       "\n",
       "[[39]]$aciertos\n",
       "[1] 216\n",
       "\n",
       "[[39]]$ganancia_test\n",
       "[1] 49160000\n",
       "\n",
       "\n",
       "[[40]]\n",
       "[[40]]$semilla\n",
       "[1] 969179\n",
       "\n",
       "[[40]]$testing\n",
       "[1] 49374\n",
       "\n",
       "[[40]]$testing_pos\n",
       "[1] 374\n",
       "\n",
       "[[40]]$envios\n",
       "[1] 3330\n",
       "\n",
       "[[40]]$aciertos\n",
       "[1] 205\n",
       "\n",
       "[[40]]$ganancia_test\n",
       "[1] 48700000\n",
       "\n",
       "\n",
       "[[41]]\n",
       "[[41]]$semilla\n",
       "[1] 286673\n",
       "\n",
       "[[41]]$testing\n",
       "[1] 49384\n",
       "\n",
       "[[41]]$testing_pos\n",
       "[1] 379\n",
       "\n",
       "[[41]]$envios\n",
       "[1] 3786\n",
       "\n",
       "[[41]]$aciertos\n",
       "[1] 229\n",
       "\n",
       "[[41]]$ganancia_test\n",
       "[1] 53740000\n",
       "\n",
       "\n",
       "[[42]]\n",
       "[[42]]$semilla\n",
       "[1] 954917\n",
       "\n",
       "[[42]]$testing\n",
       "[1] 49370\n",
       "\n",
       "[[42]]$testing_pos\n",
       "[1] 374\n",
       "\n",
       "[[42]]$envios\n",
       "[1] 3285\n",
       "\n",
       "[[42]]$aciertos\n",
       "[1] 211\n",
       "\n",
       "[[42]]$ganancia_test\n",
       "[1] 51550000\n",
       "\n",
       "\n",
       "[[43]]\n",
       "[[43]]$semilla\n",
       "[1] 219871\n",
       "\n",
       "[[43]]$testing\n",
       "[1] 49378\n",
       "\n",
       "[[43]]$testing_pos\n",
       "[1] 374\n",
       "\n",
       "[[43]]$envios\n",
       "[1] 3264\n",
       "\n",
       "[[43]]$aciertos\n",
       "[1] 214\n",
       "\n",
       "[[43]]$ganancia_test\n",
       "[1] 52960000\n",
       "\n",
       "\n",
       "[[44]]\n",
       "[[44]]$semilla\n",
       "[1] 102203\n",
       "\n",
       "[[44]]$testing\n",
       "[1] 49383\n",
       "\n",
       "[[44]]$testing_pos\n",
       "[1] 375\n",
       "\n",
       "[[44]]$envios\n",
       "[1] 3092\n",
       "\n",
       "[[44]]$aciertos\n",
       "[1] 204\n",
       "\n",
       "[[44]]$ganancia_test\n",
       "[1] 50680000\n",
       "\n",
       "\n",
       "[[45]]\n",
       "[[45]]$semilla\n",
       "[1] 155809\n",
       "\n",
       "[[45]]$testing\n",
       "[1] 49384\n",
       "\n",
       "[[45]]$testing_pos\n",
       "[1] 373\n",
       "\n",
       "[[45]]$envios\n",
       "[1] 3049\n",
       "\n",
       "[[45]]$aciertos\n",
       "[1] 192\n",
       "\n",
       "[[45]]$ganancia_test\n",
       "[1] 46310000\n",
       "\n",
       "\n",
       "[[46]]\n",
       "[[46]]$semilla\n",
       "[1] 117043\n",
       "\n",
       "[[46]]$testing\n",
       "[1] 49374\n",
       "\n",
       "[[46]]$testing_pos\n",
       "[1] 369\n",
       "\n",
       "[[46]]$envios\n",
       "[1] 4252\n",
       "\n",
       "[[46]]$aciertos\n",
       "[1] 219\n",
       "\n",
       "[[46]]$ganancia_test\n",
       "[1] 45080000\n",
       "\n",
       "\n",
       "[[47]]\n",
       "[[47]]$semilla\n",
       "[1] 860501\n",
       "\n",
       "[[47]]$testing\n",
       "[1] 49392\n",
       "\n",
       "[[47]]$testing_pos\n",
       "[1] 378\n",
       "\n",
       "[[47]]$envios\n",
       "[1] 3746\n",
       "\n",
       "[[47]]$aciertos\n",
       "[1] 230\n",
       "\n",
       "[[47]]$ganancia_test\n",
       "[1] 54540000\n",
       "\n",
       "\n",
       "[[48]]\n",
       "[[48]]$semilla\n",
       "[1] 767399\n",
       "\n",
       "[[48]]$testing\n",
       "[1] 49388\n",
       "\n",
       "[[48]]$testing_pos\n",
       "[1] 375\n",
       "\n",
       "[[48]]$envios\n",
       "[1] 2540\n",
       "\n",
       "[[48]]$aciertos\n",
       "[1] 196\n",
       "\n",
       "[[48]]$ganancia_test\n",
       "[1] 5.3e+07\n",
       "\n",
       "\n",
       "[[49]]\n",
       "[[49]]$semilla\n",
       "[1] 213637\n",
       "\n",
       "[[49]]$testing\n",
       "[1] 49376\n",
       "\n",
       "[[49]]$testing_pos\n",
       "[1] 375\n",
       "\n",
       "[[49]]$envios\n",
       "[1] 3303\n",
       "\n",
       "[[49]]$aciertos\n",
       "[1] 202\n",
       "\n",
       "[[49]]$ganancia_test\n",
       "[1] 47770000\n",
       "\n",
       "\n",
       "[[50]]\n",
       "[[50]]$semilla\n",
       "[1] 327017\n",
       "\n",
       "[[50]]$testing\n",
       "[1] 49380\n",
       "\n",
       "[[50]]$testing_pos\n",
       "[1] 373\n",
       "\n",
       "[[50]]$envios\n",
       "[1] 2349\n",
       "\n",
       "[[50]]$aciertos\n",
       "[1] 180\n",
       "\n",
       "[[50]]$ganancia_test\n",
       "[1] 48510000\n",
       "\n"
      ]
     },
     "metadata": {},
     "output_type": "display_data"
    }
   ],
   "source": [
    "\n",
    "# la funcion mcmapply  llama a la funcion ArbolEstimarGanancia\n",
    "#  tantas veces como valores tenga el vector  PARAM$semillas\n",
    "salidas <- mcmapply(ArbolEstimarGanancia,\n",
    "  PARAM$semillas, # paso el vector de semillas\n",
    "  MoreArgs = list(PARAM), # aqui paso el segundo parametro\n",
    "  SIMPLIFY = FALSE,\n",
    "  mc.cores = detectCores()\n",
    ")\n",
    "\n",
    "# muestro la lista de las salidas en testing\n",
    "#  para la particion realizada con cada semilla\n",
    "salidas\n"
   ]
  },
  {
   "cell_type": "code",
   "execution_count": 10,
   "metadata": {
    "id": "unGWiKRMGimU"
   },
   "outputs": [
    {
     "name": "stdout",
     "output_type": "stream",
     "text": [
      "    semilla testing testing_pos envios aciertos ganancia_test\n",
      "      <int>   <int>       <int>  <int>    <int>         <num>\n",
      " 1:  412099   49387         379   3326      208      49940000\n",
      " 2:  485081   49384         380   3104      199      48560000\n",
      " 3:  433351   49387         374   3961      227      51190000\n",
      " 4:  305369   49376         375   3387      203      47330000\n",
      " 5:  203807   49384         370   2877      180      43230000\n",
      " 6:  566911   49378         376   4091      228      50290000\n",
      " 7:  815459   49376         377   3710      209      46500000\n",
      " 8:  389563   49379         376   2961      201      50790000\n",
      " 9:  880573   49385         373   3764      216      48760000\n",
      "10:  369709   49391         373   3940      224      50200000\n",
      "11:  867959   49379         374   3869      217      48110000\n",
      "12:  452279   49376         374   3171      198      47490000\n",
      "13:  167597   49383         374   4035      224      49250000\n",
      "14:  824063   49385         378   4279      216      43610000\n",
      "15:  942437   49379         373   3335      202      47450000\n",
      "16:  914827   49380         373   3153      205      50470000\n",
      "17:  335281   49380         375   3411      207      48690000\n",
      "18:  936527   49385         376   3784      210      46160000\n",
      "19:  488441   49378         368   3913      215      46870000\n",
      "20:  152459   49372         372   2739      195      50610000\n",
      "21:  577349   49385         377   3324      207      49560000\n",
      "22:  347771   49370         374   2590      168      41300000\n",
      "23:  770111   49376         375   3716      207      45640000\n",
      "24:  109211   49386         373   2926      193      47940000\n",
      "25:  493567   49379         378   3403      195      43970000\n",
      "26:  485137   49373         372   3623      213      48970000\n",
      "27:  133717   49382         369   4278      216      43620000\n",
      "28:  127249   49389         377   3092      202      49880000\n",
      "29:  514379   49378         372   3206      205      49940000\n",
      "30:  952037   49379         371   3212      194      45480000\n",
      "31:  134219   49363         370   3711      213      48090000\n",
      "32:  582821   49375         372   3588      207      46920000\n",
      "33:  381949   49365         371   3335      177      37450000\n",
      "34:  358703   49383         377   3905      210      44950000\n",
      "35:  805403   49392         378   3444      199      45160000\n",
      "36:  396443   49384         377   3374      213      51460000\n",
      "37:  509843   49377         379   3596      206      46440000\n",
      "38:  786077   49380         375   4280      226      47600000\n",
      "39:  600623   49376         371   3724      216      49160000\n",
      "40:  969179   49374         374   3330      205      48700000\n",
      "41:  286673   49384         379   3786      229      53740000\n",
      "42:  954917   49370         374   3285      211      51550000\n",
      "43:  219871   49378         374   3264      214      52960000\n",
      "44:  102203   49383         375   3092      204      50680000\n",
      "45:  155809   49384         373   3049      192      46310000\n",
      "46:  117043   49374         369   4252      219      45080000\n",
      "47:  860501   49392         378   3746      230      54540000\n",
      "48:  767399   49388         375   2540      196      53000000\n",
      "49:  213637   49376         375   3303      202      47770000\n",
      "50:  327017   49380         373   2349      180      48510000\n",
      "    semilla testing testing_pos envios aciertos ganancia_test\n"
     ]
    }
   ],
   "source": [
    "# paso la lista a vector\n",
    "tb_salida <- rbindlist(salidas)\n",
    "print( tb_salida)"
   ]
  },
  {
   "cell_type": "code",
   "execution_count": 11,
   "metadata": {
    "id": "oGoadhBKGimV"
   },
   "outputs": [
    {
     "name": "stdout",
     "output_type": "stream",
     "text": [
      "10 \t 48679000 \n",
      "20 \t 48275000 \n",
      "30 \t 47726667 \n",
      "40 \t 47443250 \n",
      "50 \t 48037400 \n"
     ]
    }
   ],
   "source": [
    "# calulo la salida\n",
    "for( i in seq(10, 50, 10) )\n",
    "{\n",
    "  cat( i, \"\\t\", tb_salida[ 1:i, mean(ganancia_test)], \"\\n\" )\n",
    "}\n"
   ]
  },
  {
   "cell_type": "markdown",
   "metadata": {
    "id": "dO9yQKt7GimV"
   },
   "source": [
    "### Acciones a realizar\n",
    "* Reportar la  los resultados en la planilla colaborativa hoja  **C2-nsem**\n",
    "* Se discutirá en clase la variabilidad de las distintas cantidades de semillas"
   ]
  },
  {
   "cell_type": "markdown",
   "metadata": {
    "id": "ziFKwIlBGimW"
   },
   "source": [
    "\n",
    "\n",
    "---\n",
    "\n"
   ]
  },
  {
   "cell_type": "markdown",
   "metadata": {
    "id": "2jncHe-KJLUg"
   },
   "source": [
    "# 5  DiezMil -Monte Carlo Cross Validation\n",
    "## Clase 02  Experimento 5"
   ]
  },
  {
   "cell_type": "markdown",
   "metadata": {
    "id": "vUzSGZGOJZq8"
   },
   "source": [
    "Mostrar a los estudiantes el resultado de un experimento en donde se ha corrido una Monte Carlo Cross Validation utilizando diez mil semillas y relacionar la cantidad de semillas con el resultado del Teorema Central del Límite\n",
    "<br>Los resultados se muestran en esta misma guia y se comentan en clase,Bajo ningún concepto se solicitará a l@s estudiantes hacer este experimento en clase ya que lleva varias horas en correr.\n"
   ]
  },
  {
   "cell_type": "markdown",
   "metadata": {
    "id": "G0YGjTMxuTSg"
   },
   "source": [
    "Aqui usted NO debe correr absolutamente nada, el experimento ya fue corrido por la cátedra y le muestra los resultados."
   ]
  },
  {
   "cell_type": "markdown",
   "metadata": {
    "id": "7NRUb3WtJikc"
   },
   "source": [
    "## 5.1\n",
    "Estos resultados han sido corridos por la cátedra.\n",
    "\n",
    "![Distribucion de las ganancias](https://storage.googleapis.com/open-courses/austral2025-af91/labo1r/C2_E5_distribucion.jpg)"
   ]
  },
  {
   "cell_type": "markdown",
   "metadata": {
    "id": "tZ4X8wdSKc7G"
   },
   "source": [
    "![salida](https://storage.googleapis.com/open-courses/austral2025-af91/labo1r/C2_E5_salida.jpg)"
   ]
  },
  {
   "cell_type": "markdown",
   "metadata": {
    "id": "EsL5ukNWKS71"
   },
   "source": [
    "![tabla](https://storage.googleapis.com/open-courses/austral2025-af91/labo1r/C2_E5_tabla.jpg)\n",
    "\n",
    " 2    ~    1,96  =  3605406.2 / 1836264.3\n",
    "\n",
    "Por el teorema central del límite, un aumento de 4 veces de la cantidad de registros que se promedian el desvio estandar disminuye 2 veces ,  raiz(4 ) = 2"
   ]
  },
  {
   "cell_type": "markdown",
   "metadata": {
    "id": "OTLq8TC4LR0c"
   },
   "source": [
    "\n",
    "\n",
    "---\n",
    "\n"
   ]
  },
  {
   "cell_type": "markdown",
   "metadata": {
    "id": "sAS1bfL8LmBv"
   },
   "source": [
    "# 6 Comparando dos distintos  modelos\n",
    "## Clase 02  Experimento 6"
   ]
  },
  {
   "cell_type": "markdown",
   "metadata": {
    "id": "KzwdMJDZLmB9"
   },
   "source": [
    "## 6.1  Objetivos\n",
    "Presentar a los alumnos la dificultad que se presenta ante la comparación de dos modelos, uno posee un poder predictivo claramente mayor al otro.\n",
    "Comparación simple de media de ganancias, versus probabilidad que un modelo sea superior a otro."
   ]
  },
  {
   "cell_type": "markdown",
   "metadata": {
    "id": "DDyFNmJ9L_CW"
   },
   "source": [
    "## 6.2 Introduccion\n",
    "Estos son los dos arboles de muy distinta profundidad.\n",
    "<br>¿Cuál de ellos es mejor? ¿Cuál elijo?\n",
    "\n",
    "| Hiperparámetro | Arbol 1 | Arbol 2 |\n",
    "| --- | --: |  ---: |\n",
    "| cp | -1 | -1 |\n",
    "|minsplit | 170 | 250 |\n",
    "|minbucket | 70 | 125 |\n",
    "|maxdepth | 7 | 20 |\n",
    "\n"
   ]
  },
  {
   "cell_type": "markdown",
   "metadata": {
    "id": "bQfwNsVzNrtI"
   },
   "source": [
    "## 6.3 Codigo dos distintos modelos"
   ]
  },
  {
   "cell_type": "markdown",
   "metadata": {
    "id": "Ku7qQgKjNruJ"
   },
   "source": [
    "Esta parte se debe correr con el runtime en lenguaje **R** Ir al menu, Runtime -> Change Runtime Tipe -> Runtime type -> R"
   ]
  },
  {
   "cell_type": "markdown",
   "metadata": {
    "id": "6jCdS3NMuKei"
   },
   "source": [
    "El tiempo de corrida es de alrededor de 40 minutos"
   ]
  },
  {
   "cell_type": "markdown",
   "metadata": {
    "id": "Z1EUBeHyNruK"
   },
   "source": [
    "limpio el ambiente de R"
   ]
  },
  {
   "cell_type": "code",
   "execution_count": 12,
   "metadata": {
    "id": "GxbC4V3zNruM"
   },
   "outputs": [
    {
     "data": {
      "text/html": [
       "<table class=\"dataframe\">\n",
       "<caption>A matrix: 2 × 6 of type dbl</caption>\n",
       "<thead>\n",
       "\t<tr><th></th><th scope=col>used</th><th scope=col>(Mb)</th><th scope=col>gc trigger</th><th scope=col>(Mb)</th><th scope=col>max used</th><th scope=col>(Mb)</th></tr>\n",
       "</thead>\n",
       "<tbody>\n",
       "\t<tr><th scope=row>Ncells</th><td> 784731</td><td>42.0</td><td> 1439380</td><td> 76.9</td><td> 1439380</td><td> 76.9</td></tr>\n",
       "\t<tr><th scope=row>Vcells</th><td>1466342</td><td>11.2</td><td>58940004</td><td>449.7</td><td>71173399</td><td>543.1</td></tr>\n",
       "</tbody>\n",
       "</table>\n"
      ],
      "text/latex": [
       "A matrix: 2 × 6 of type dbl\n",
       "\\begin{tabular}{r|llllll}\n",
       "  & used & (Mb) & gc trigger & (Mb) & max used & (Mb)\\\\\n",
       "\\hline\n",
       "\tNcells &  784731 & 42.0 &  1439380 &  76.9 &  1439380 &  76.9\\\\\n",
       "\tVcells & 1466342 & 11.2 & 58940004 & 449.7 & 71173399 & 543.1\\\\\n",
       "\\end{tabular}\n"
      ],
      "text/markdown": [
       "\n",
       "A matrix: 2 × 6 of type dbl\n",
       "\n",
       "| <!--/--> | used | (Mb) | gc trigger | (Mb) | max used | (Mb) |\n",
       "|---|---|---|---|---|---|---|\n",
       "| Ncells |  784731 | 42.0 |  1439380 |  76.9 |  1439380 |  76.9 |\n",
       "| Vcells | 1466342 | 11.2 | 58940004 | 449.7 | 71173399 | 543.1 |\n",
       "\n"
      ],
      "text/plain": [
       "       used    (Mb) gc trigger (Mb)  max used (Mb) \n",
       "Ncells  784731 42.0  1439380    76.9  1439380  76.9\n",
       "Vcells 1466342 11.2 58940004   449.7 71173399 543.1"
      ]
     },
     "metadata": {},
     "output_type": "display_data"
    }
   ],
   "source": [
    "# limpio la memoria\n",
    "rm(list=ls(all.names=TRUE)) # remove all objects\n",
    "gc(full=TRUE, verbose=FALSE) # garbage collection"
   ]
  },
  {
   "cell_type": "markdown",
   "metadata": {
    "id": "i2WkSCIhNruQ"
   },
   "source": [
    "* Instalacion de la libreria  rpart.plot  para dibujar el arbol\n",
    "* invocacion de las librerias  **data.table** y  **rpart**"
   ]
  },
  {
   "cell_type": "code",
   "execution_count": 13,
   "metadata": {
    "id": "3bMsgZJWNruR"
   },
   "outputs": [
    {
     "name": "stderr",
     "output_type": "stream",
     "text": [
      "Loading required package: ggplot2\n",
      "\n"
     ]
    }
   ],
   "source": [
    "# cargo las librerias que necesito\n",
    "require(\"data.table\")\n",
    "require(\"rpart\")\n",
    "require(\"parallel\")\n",
    "\n",
    "if (!require(\"primes\")) install.packages(\"primes\")\n",
    "require(\"primes\")\n",
    "\n",
    "require(\"ggplot2\")"
   ]
  },
  {
   "cell_type": "markdown",
   "metadata": {
    "id": "t1lTXrKaNruT"
   },
   "source": [
    "###  Accion a Realizar\n",
    "PARAM$semilla_primigenia  debe reemplazarse por SU primer semilla"
   ]
  },
  {
   "cell_type": "code",
   "execution_count": 17,
   "metadata": {
    "id": "QFbPtTCMNruV"
   },
   "outputs": [],
   "source": [
    "PARAM <- list()\n",
    "PARAM$semilla_primigenia <- 390227\n",
    "PARAM$qsemillas <- 20\n",
    "PARAM$training_pct <- 70L     # entre 1 y 100\n"
   ]
  },
  {
   "cell_type": "code",
   "execution_count": 18,
   "metadata": {
    "id": "GiBGk7WKQv2V"
   },
   "outputs": [],
   "source": [
    "# los dos arboles\n",
    "PARAM$rpart1 <- list (\n",
    "  \"cp\" = -1,\n",
    "  \"minsplit\" = 170,\n",
    "  \"minbucket\" = 70,\n",
    "  \"maxdepth\" = 7\n",
    ")\n",
    "\n",
    "\n",
    "PARAM$rpart2 <- list (\n",
    "  \"cp\" = -1,\n",
    "  \"minsplit\" = 250,\n",
    "  \"minbucket\" = 125,\n",
    "  \"maxdepth\" = 20\n",
    ")"
   ]
  },
  {
   "cell_type": "code",
   "execution_count": 19,
   "metadata": {
    "id": "2BabfKg7NruX"
   },
   "outputs": [],
   "source": [
    "# particionar agrega una columna llamada fold a un dataset\n",
    "#  que consiste en una particion estratificada segun agrupa\n",
    "\n",
    "# particionar( data=dataset, division=c(70,30),\n",
    "#  agrupa=clase_ternaria, seed=semilla)   crea una particion 70, 30\n",
    "\n",
    "particionar <- function(\n",
    "    data, division, agrupa = \"\",\n",
    "    campo = \"fold\", start = 1, seed = NA) {\n",
    "  if (!is.na(seed)) set.seed(seed)\n",
    "\n",
    "  bloque <- unlist(mapply(function(x, y) {\n",
    "    rep(y, x)\n",
    "  }, division, seq(from = start, length.out = length(division))))\n",
    "\n",
    "  data[, (campo) := sample(rep(bloque, ceiling(.N / length(bloque))))[1:.N],\n",
    "    by = agrupa\n",
    "  ]\n",
    "}\n"
   ]
  },
  {
   "cell_type": "code",
   "execution_count": 20,
   "metadata": {
    "id": "YrGJgj4UNruZ"
   },
   "outputs": [],
   "source": [
    "DosArbolesEstimarGanancia <- function(semilla, training_pct, param_rpart1, param_rpart2) {\n",
    "\n",
    "  # fuerzo impresion\n",
    "  print( paste( semilla, Sys.time()) )\n",
    "  flush.console()\n",
    "\n",
    "  # particiono estratificadamente el dataset\n",
    "  particionar(dataset,\n",
    "    division = c(training_pct, 100L -training_pct),\n",
    "    agrupa = \"clase_ternaria\",\n",
    "    seed = semilla # aqui se usa SU semilla\n",
    "  )\n",
    "\n",
    "  # genero el modelo\n",
    "  # predecir clase_ternaria a partir del resto\n",
    "  modelo1 <- rpart(\"clase_ternaria ~ .\",\n",
    "    data = dataset[fold == 1], # fold==1  es training,  el 70% de los datos\n",
    "    xval = 0,\n",
    "    control = param_rpart1\n",
    "  ) # aqui van los parametros del arbol\n",
    "\n",
    "  # aplico el modelo a los datos de testing\n",
    "  prediccion1 <- predict(modelo1, # el modelo que genere recien\n",
    "    dataset[fold == 2], # fold==2  es testing, el 30% de los datos\n",
    "    type = \"prob\"\n",
    "  ) # type= \"prob\"  es que devuelva la probabilidad\n",
    "\n",
    "\n",
    "  # calculo la ganancia en testing  qu es fold==2\n",
    "  ganancia_test1 <- dataset[\n",
    "    fold == 2,\n",
    "    sum(ifelse(prediccion1[, \"BAJA+2\"] > 0.025,\n",
    "      ifelse(clase_ternaria == \"BAJA+2\", 117000, -3000),\n",
    "      0\n",
    "    ))\n",
    "  ]\n",
    "\n",
    "  # escalo la ganancia como si fuera todo el dataset\n",
    "  ganancia_test_normalizada1 <- ganancia_test1 / (( 100 - training_pct ) / 100 )\n",
    "\n",
    "  modelo2 <- rpart(\"clase_ternaria ~ .\",\n",
    "    data = dataset[fold == 1], # fold==1  es training,  el 70% de los datos\n",
    "    xval = 0,\n",
    "    control = param_rpart2\n",
    "  ) # aqui van los parametros del arbol\n",
    "\n",
    "  # aplico el modelo a los datos de testing\n",
    "  prediccion2 <- predict(modelo2, # el modelo que genere recien\n",
    "    dataset[fold == 2], # fold==2  es testing, el 30% de los datos\n",
    "    type = \"prob\"\n",
    "  ) # type= \"prob\"  es que devuelva la probabilidad\n",
    "\n",
    "\n",
    "  # calculo la ganancia en testing  qu es fold==2\n",
    "  ganancia_test2 <- dataset[\n",
    "    fold == 2,\n",
    "    sum(ifelse(prediccion2[, \"BAJA+2\"] > 0.025,\n",
    "      ifelse(clase_ternaria == \"BAJA+2\", 117000, -3000),\n",
    "      0\n",
    "    ))\n",
    "  ]\n",
    "\n",
    "  # escalo la ganancia como si fuera todo el dataset\n",
    "  ganancia_test_normalizada2 <- ganancia_test2 / (( 100 - training_pct ) / 100 )\n",
    "\n",
    "  return(list(\n",
    "    \"semilla\" = semilla,\n",
    "    \"ganancia1\" = ganancia_test_normalizada1,\n",
    "    \"ganancia2\" = ganancia_test_normalizada2\n",
    "  ))\n",
    "}"
   ]
  },
  {
   "cell_type": "code",
   "execution_count": 21,
   "metadata": {
    "id": "2C2yjgQVNrud"
   },
   "outputs": [],
   "source": [
    "# carpeta de trabajo\n",
    "setwd(\"/content/buckets/b1/exp\")\n",
    "experimento <- \"exp206\"\n",
    "dir.create(experimento, showWarnings=FALSE)\n",
    "setwd( paste0(\"/content/buckets/b1/exp/\", experimento ))"
   ]
  },
  {
   "cell_type": "code",
   "execution_count": 22,
   "metadata": {
    "id": "oQeGcBnPNrug"
   },
   "outputs": [],
   "source": [
    "# lectura del dataset\n",
    "dataset <- fread(\"/content/datasets/dataset_pequeno.csv\")\n",
    "\n",
    "# trabajo solo con los datos con clase, es decir 202107\n",
    "dataset <- dataset[clase_ternaria != \"\"]"
   ]
  },
  {
   "cell_type": "code",
   "execution_count": 23,
   "metadata": {
    "id": "gXKI2eXO9Osx"
   },
   "outputs": [
    {
     "data": {
      "text/html": [
       "8"
      ],
      "text/latex": [
       "8"
      ],
      "text/markdown": [
       "8"
      ],
      "text/plain": [
       "[1] 8"
      ]
     },
     "metadata": {},
     "output_type": "display_data"
    }
   ],
   "source": [
    "detectCores()"
   ]
  },
  {
   "cell_type": "code",
   "execution_count": 24,
   "metadata": {
    "id": "tU8S7_5ANrui"
   },
   "outputs": [],
   "source": [
    "# genero numeros primos\n",
    "primos <- generate_primes(min = 100000, max = 1000000)\n",
    "set.seed(PARAM$semilla_primigenia) # inicializo\n",
    "\n",
    "# me quedo con PARAM$qsemillas   semillas\n",
    "PARAM$semillas <- sample(primos, PARAM$qsemillas )"
   ]
  },
  {
   "cell_type": "code",
   "execution_count": 25,
   "metadata": {
    "id": "mlF66CgxcHF3"
   },
   "outputs": [
    {
     "data": {
      "text/plain": [
       "[1] \"2025-09-07 23:16:50 UTC\""
      ]
     },
     "metadata": {},
     "output_type": "display_data"
    },
    {
     "data": {
      "text/plain": [
       "[1] \"2025-09-07 23:30:09 UTC\""
      ]
     },
     "metadata": {},
     "output_type": "display_data"
    }
   ],
   "source": [
    "# demora interminables 60 minutos en correr en Google Colab\n",
    "Sys.time()\n",
    "\n",
    "salidas <- mcmapply( DosArbolesEstimarGanancia,\n",
    "  PARAM$semillas, # paso el vector de semillas\n",
    "  MoreArgs = list(PARAM$training_pct, PARAM$rpart1, PARAM$rpart2), # aqui paso el segundo parametro\n",
    "  SIMPLIFY = FALSE,\n",
    "  mc.cores = detectCores()\n",
    ")\n",
    "\n",
    "Sys.time()"
   ]
  },
  {
   "cell_type": "code",
   "execution_count": 26,
   "metadata": {
    "id": "_g-_kccdNrum"
   },
   "outputs": [
    {
     "data": {
      "text/html": [
       "<table class=\"dataframe\">\n",
       "<caption>A data.table: 20 × 3</caption>\n",
       "<thead>\n",
       "\t<tr><th scope=col>semilla</th><th scope=col>ganancia1</th><th scope=col>ganancia2</th></tr>\n",
       "\t<tr><th scope=col>&lt;int&gt;</th><th scope=col>&lt;dbl&gt;</th><th scope=col>&lt;dbl&gt;</th></tr>\n",
       "</thead>\n",
       "<tbody>\n",
       "\t<tr><td>412099</td><td>49940000</td><td>46590000</td></tr>\n",
       "\t<tr><td>485081</td><td>48560000</td><td>41580000</td></tr>\n",
       "\t<tr><td>433351</td><td>51190000</td><td>42240000</td></tr>\n",
       "\t<tr><td>305369</td><td>47330000</td><td>37020000</td></tr>\n",
       "\t<tr><td>203807</td><td>43230000</td><td>41500000</td></tr>\n",
       "\t<tr><td>566911</td><td>50290000</td><td>45120000</td></tr>\n",
       "\t<tr><td>815459</td><td>46500000</td><td>41900000</td></tr>\n",
       "\t<tr><td>389563</td><td>50790000</td><td>44450000</td></tr>\n",
       "\t<tr><td>880573</td><td>48760000</td><td>40600000</td></tr>\n",
       "\t<tr><td>369709</td><td>50200000</td><td>39410000</td></tr>\n",
       "\t<tr><td>867959</td><td>48110000</td><td>42880000</td></tr>\n",
       "\t<tr><td>452279</td><td>47490000</td><td>43080000</td></tr>\n",
       "\t<tr><td>167597</td><td>49250000</td><td>40200000</td></tr>\n",
       "\t<tr><td>824063</td><td>43610000</td><td>40950000</td></tr>\n",
       "\t<tr><td>942437</td><td>47450000</td><td>37910000</td></tr>\n",
       "\t<tr><td>914827</td><td>50470000</td><td>41160000</td></tr>\n",
       "\t<tr><td>335281</td><td>48690000</td><td>40560000</td></tr>\n",
       "\t<tr><td>936527</td><td>46160000</td><td>42340000</td></tr>\n",
       "\t<tr><td>488441</td><td>46870000</td><td>40590000</td></tr>\n",
       "\t<tr><td>152459</td><td>50610000</td><td>46270000</td></tr>\n",
       "</tbody>\n",
       "</table>\n"
      ],
      "text/latex": [
       "A data.table: 20 × 3\n",
       "\\begin{tabular}{lll}\n",
       " semilla & ganancia1 & ganancia2\\\\\n",
       " <int> & <dbl> & <dbl>\\\\\n",
       "\\hline\n",
       "\t 412099 & 49940000 & 46590000\\\\\n",
       "\t 485081 & 48560000 & 41580000\\\\\n",
       "\t 433351 & 51190000 & 42240000\\\\\n",
       "\t 305369 & 47330000 & 37020000\\\\\n",
       "\t 203807 & 43230000 & 41500000\\\\\n",
       "\t 566911 & 50290000 & 45120000\\\\\n",
       "\t 815459 & 46500000 & 41900000\\\\\n",
       "\t 389563 & 50790000 & 44450000\\\\\n",
       "\t 880573 & 48760000 & 40600000\\\\\n",
       "\t 369709 & 50200000 & 39410000\\\\\n",
       "\t 867959 & 48110000 & 42880000\\\\\n",
       "\t 452279 & 47490000 & 43080000\\\\\n",
       "\t 167597 & 49250000 & 40200000\\\\\n",
       "\t 824063 & 43610000 & 40950000\\\\\n",
       "\t 942437 & 47450000 & 37910000\\\\\n",
       "\t 914827 & 50470000 & 41160000\\\\\n",
       "\t 335281 & 48690000 & 40560000\\\\\n",
       "\t 936527 & 46160000 & 42340000\\\\\n",
       "\t 488441 & 46870000 & 40590000\\\\\n",
       "\t 152459 & 50610000 & 46270000\\\\\n",
       "\\end{tabular}\n"
      ],
      "text/markdown": [
       "\n",
       "A data.table: 20 × 3\n",
       "\n",
       "| semilla &lt;int&gt; | ganancia1 &lt;dbl&gt; | ganancia2 &lt;dbl&gt; |\n",
       "|---|---|---|\n",
       "| 412099 | 49940000 | 46590000 |\n",
       "| 485081 | 48560000 | 41580000 |\n",
       "| 433351 | 51190000 | 42240000 |\n",
       "| 305369 | 47330000 | 37020000 |\n",
       "| 203807 | 43230000 | 41500000 |\n",
       "| 566911 | 50290000 | 45120000 |\n",
       "| 815459 | 46500000 | 41900000 |\n",
       "| 389563 | 50790000 | 44450000 |\n",
       "| 880573 | 48760000 | 40600000 |\n",
       "| 369709 | 50200000 | 39410000 |\n",
       "| 867959 | 48110000 | 42880000 |\n",
       "| 452279 | 47490000 | 43080000 |\n",
       "| 167597 | 49250000 | 40200000 |\n",
       "| 824063 | 43610000 | 40950000 |\n",
       "| 942437 | 47450000 | 37910000 |\n",
       "| 914827 | 50470000 | 41160000 |\n",
       "| 335281 | 48690000 | 40560000 |\n",
       "| 936527 | 46160000 | 42340000 |\n",
       "| 488441 | 46870000 | 40590000 |\n",
       "| 152459 | 50610000 | 46270000 |\n",
       "\n"
      ],
      "text/plain": [
       "   semilla ganancia1 ganancia2\n",
       "1  412099  49940000  46590000 \n",
       "2  485081  48560000  41580000 \n",
       "3  433351  51190000  42240000 \n",
       "4  305369  47330000  37020000 \n",
       "5  203807  43230000  41500000 \n",
       "6  566911  50290000  45120000 \n",
       "7  815459  46500000  41900000 \n",
       "8  389563  50790000  44450000 \n",
       "9  880573  48760000  40600000 \n",
       "10 369709  50200000  39410000 \n",
       "11 867959  48110000  42880000 \n",
       "12 452279  47490000  43080000 \n",
       "13 167597  49250000  40200000 \n",
       "14 824063  43610000  40950000 \n",
       "15 942437  47450000  37910000 \n",
       "16 914827  50470000  41160000 \n",
       "17 335281  48690000  40560000 \n",
       "18 936527  46160000  42340000 \n",
       "19 488441  46870000  40590000 \n",
       "20 152459  50610000  46270000 "
      ]
     },
     "metadata": {},
     "output_type": "display_data"
    }
   ],
   "source": [
    "# paso la lista a vector\n",
    "tb_salida <- rbindlist(salidas)\n",
    "tb_salida"
   ]
  },
  {
   "cell_type": "code",
   "execution_count": 27,
   "metadata": {
    "id": "-O0rg6btNrun"
   },
   "outputs": [
    {
     "data": {
      "image/png": "[encoded data removed]",
      "text/plain": [
       "plot without title"
      ]
     },
     "metadata": {
      "image/png": {
       "height": 420,
       "width": 420
      }
     },
     "output_type": "display_data"
    }
   ],
   "source": [
    "grafico <- ggplot( tb_salida, aes(x=ganancia1)) + geom_density(alpha=0.25, fill=\"green\", color=\"green\")  +\n",
    "             geom_density(data=tb_salida, aes(x=ganancia2), fill=\"purple\", color=\"purple\",  alpha=0.10)\n",
    "\n",
    "print(grafico)"
   ]
  },
  {
   "cell_type": "code",
   "execution_count": 28,
   "metadata": {
    "id": "uSqrazOyU_LC"
   },
   "outputs": [
    {
     "data": {
      "text/html": [
       "<strong>pdf:</strong> 2"
      ],
      "text/latex": [
       "\\textbf{pdf:} 2"
      ],
      "text/markdown": [
       "**pdf:** 2"
      ],
      "text/plain": [
       "pdf \n",
       "  2 "
      ]
     },
     "metadata": {},
     "output_type": "display_data"
    }
   ],
   "source": [
    "# imprimo en un .pdf  que va a la carpeta del experimento\n",
    "pdf(\"densidad_dos.pdf\")\n",
    "print(grafico)\n",
    "dev.off()"
   ]
  },
  {
   "cell_type": "code",
   "execution_count": 29,
   "metadata": {
    "id": "LGv0LB_4R7US"
   },
   "outputs": [
    {
     "name": "stdout",
     "output_type": "stream",
     "text": [
      "     arbol1   arbol2\n",
      "      <num>    <num>\n",
      "1: 48275000 41817500\n",
      "   prob( m1 > m2)\n",
      "            <num>\n",
      "1:              1\n"
     ]
    }
   ],
   "source": [
    "print( tb_salida[ , list( \"arbol1\" = mean( ganancia1),  \"arbol2\" = mean(ganancia2) ) ] )\n",
    "\n",
    "print( tb_salida[ , list( \"prob( m1 > m2)\" = sum(ganancia1 > ganancia2 )/ .N ) ]  )"
   ]
  },
  {
   "cell_type": "markdown",
   "metadata": {
    "id": "F6lFJf1VTi8b"
   },
   "source": [
    "### Acciones a realizar\n",
    "* Reportar la  los resultados en la planilla colaborativa hoja  **C2-dosModelos**\n",
    "* ¿Todos los alumnos hubieran elegido el mismo modelo aun con 20 semillas?"
   ]
  },
  {
   "cell_type": "markdown",
   "metadata": {
    "id": "aOpy-XBKTi8n"
   },
   "source": [
    "\n",
    "\n",
    "---\n",
    "\n"
   ]
  },
  {
   "cell_type": "markdown",
   "metadata": {
    "id": "EdzjiJf-dsEK"
   },
   "source": [
    "# 7 Comparando dos buenos  modelos\n",
    "## Clase 02  Experimento 7"
   ]
  },
  {
   "cell_type": "markdown",
   "metadata": {
    "id": "FcBjp5XxdsEt"
   },
   "source": [
    "## 7.1  Objetivos\n",
    "Presentar a los alumnos la dificultad que surge en la comparación de dos muy distintos, pero ambos buenos, modelos predictivos, y el costo computacional asociado a esa comparación\n",
    "<br>Comparación simple de media de ganancias, versus probabilidad que un modelo sea superior a otro.\n",
    "<br>Limitaciones de la MonteCarlo Cross Validation\n",
    "<br>Existencia del Test de Wilcoxon"
   ]
  },
  {
   "cell_type": "markdown",
   "metadata": {
    "id": "tYcOIcwCdsEu"
   },
   "source": [
    "## 7.2 Introduccion\n",
    "Estos son los dos arboles de muy distinta profundidad.\n",
    "<br>¿Cuál de ellos es mejor? ¿Cuál elijo?\n",
    "\n",
    "| Hiperparámetro | Arbol 1 | Arbol 2 |\n",
    "| --- | --: |  ---: |\n",
    "| cp | -1 | -1 |\n",
    "|minsplit | 170 | 1900 |\n",
    "|minbucket | 70 | 800 |\n",
    "|maxdepth | 7 | 3 |\n",
    "\n"
   ]
  },
  {
   "cell_type": "markdown",
   "metadata": {
    "id": "r0NDA7GgdsEu"
   },
   "source": [
    "## 7.3 Dos buenos modelos"
   ]
  },
  {
   "cell_type": "markdown",
   "metadata": {
    "id": "21SJmGd7dsEv"
   },
   "source": [
    "Esta parte se debe correr con el runtime en lenguaje **R** Ir al menu, Runtime -> Change Runtime Tipe -> Runtime type -> R"
   ]
  },
  {
   "cell_type": "markdown",
   "metadata": {
    "id": "Ne0e08KUt87w"
   },
   "source": [
    "El tiempo de corrida es de alrededor de 50 minutos"
   ]
  },
  {
   "cell_type": "markdown",
   "metadata": {
    "id": "q02SEGNwdsEv"
   },
   "source": [
    "limpio el ambiente de R"
   ]
  },
  {
   "cell_type": "code",
   "execution_count": 35,
   "metadata": {
    "id": "6c2ZJstWdsEw"
   },
   "outputs": [
    {
     "data": {
      "text/html": [
       "<table class=\"dataframe\">\n",
       "<caption>A matrix: 2 × 6 of type dbl</caption>\n",
       "<thead>\n",
       "\t<tr><th></th><th scope=col>used</th><th scope=col>(Mb)</th><th scope=col>gc trigger</th><th scope=col>(Mb)</th><th scope=col>max used</th><th scope=col>(Mb)</th></tr>\n",
       "</thead>\n",
       "<tbody>\n",
       "\t<tr><th scope=row>Ncells</th><td>1029435</td><td>55.0</td><td> 2029721</td><td>108.4</td><td> 2029721</td><td>108.4</td></tr>\n",
       "\t<tr><th scope=row>Vcells</th><td>1889260</td><td>14.5</td><td>46670973</td><td>356.1</td><td>71870099</td><td>548.4</td></tr>\n",
       "</tbody>\n",
       "</table>\n"
      ],
      "text/latex": [
       "A matrix: 2 × 6 of type dbl\n",
       "\\begin{tabular}{r|llllll}\n",
       "  & used & (Mb) & gc trigger & (Mb) & max used & (Mb)\\\\\n",
       "\\hline\n",
       "\tNcells & 1029435 & 55.0 &  2029721 & 108.4 &  2029721 & 108.4\\\\\n",
       "\tVcells & 1889260 & 14.5 & 46670973 & 356.1 & 71870099 & 548.4\\\\\n",
       "\\end{tabular}\n"
      ],
      "text/markdown": [
       "\n",
       "A matrix: 2 × 6 of type dbl\n",
       "\n",
       "| <!--/--> | used | (Mb) | gc trigger | (Mb) | max used | (Mb) |\n",
       "|---|---|---|---|---|---|---|\n",
       "| Ncells | 1029435 | 55.0 |  2029721 | 108.4 |  2029721 | 108.4 |\n",
       "| Vcells | 1889260 | 14.5 | 46670973 | 356.1 | 71870099 | 548.4 |\n",
       "\n"
      ],
      "text/plain": [
       "       used    (Mb) gc trigger (Mb)  max used (Mb) \n",
       "Ncells 1029435 55.0  2029721   108.4  2029721 108.4\n",
       "Vcells 1889260 14.5 46670973   356.1 71870099 548.4"
      ]
     },
     "metadata": {},
     "output_type": "display_data"
    }
   ],
   "source": [
    "# limpio la memoria\n",
    "rm(list=ls(all.names=TRUE)) # remove all objects\n",
    "gc(full=TRUE, verbose=FALSE) # garbage collection"
   ]
  },
  {
   "cell_type": "markdown",
   "metadata": {
    "id": "62MIW0r1dsEx"
   },
   "source": [
    "* Instalacion de la libreria  rpart.plot  para dibujar el arbol\n",
    "* invocacion de las librerias  **data.table** y  **rpart**"
   ]
  },
  {
   "cell_type": "code",
   "execution_count": 36,
   "metadata": {
    "id": "2Ke4n-N8dsEy"
   },
   "outputs": [],
   "source": [
    "# cargo las librerias que necesito\n",
    "require(\"data.table\")\n",
    "require(\"rpart\")\n",
    "require(\"parallel\")\n",
    "\n",
    "if (!require(\"primes\")) install.packages(\"primes\")\n",
    "require(\"primes\")\n",
    "\n",
    "require(\"ggplot2\")"
   ]
  },
  {
   "cell_type": "markdown",
   "metadata": {
    "id": "UHSoeqi4dsEz"
   },
   "source": [
    "###  Accion a Realizar\n",
    "PARAM$semilla_primigenia  debe reemplazarse por SU primer semilla"
   ]
  },
  {
   "cell_type": "code",
   "execution_count": 37,
   "metadata": {
    "id": "f08_sqfAdsEz"
   },
   "outputs": [],
   "source": [
    "PARAM <- list()\n",
    "PARAM$semilla_primigenia <- 390227 \n",
    "PARAM$qsemillas <- 50\n",
    "PARAM$training_pct <- 70L     # entre 1 y 100\n"
   ]
  },
  {
   "cell_type": "code",
   "execution_count": 38,
   "metadata": {
    "id": "L735D9rydsE0"
   },
   "outputs": [],
   "source": [
    "# los dos arboles\n",
    "PARAM$rpart1 <- list (\n",
    "  \"cp\" = -1,\n",
    "  \"minsplit\" = 170,\n",
    "  \"minbucket\" = 70,\n",
    "  \"maxdepth\" = 7\n",
    ")\n",
    "\n",
    "\n",
    "PARAM$rpart2 <- list (\n",
    "  \"cp\" = -1,\n",
    "  \"minsplit\" = 1900,\n",
    "  \"minbucket\" = 800,\n",
    "  \"maxdepth\" = 3\n",
    ")\n"
   ]
  },
  {
   "cell_type": "code",
   "execution_count": 39,
   "metadata": {
    "id": "O56epLUGdsE1"
   },
   "outputs": [],
   "source": [
    "# particionar agrega una columna llamada fold a un dataset\n",
    "#  que consiste en una particion estratificada segun agrupa\n",
    "\n",
    "# particionar( data=dataset, division=c(70,30),\n",
    "#  agrupa=clase_ternaria, seed=semilla)   crea una particion 70, 30\n",
    "\n",
    "particionar <- function(\n",
    "    data, division, agrupa = \"\",\n",
    "    campo = \"fold\", start = 1, seed = NA) {\n",
    "  if (!is.na(seed)) set.seed(seed)\n",
    "\n",
    "  bloque <- unlist(mapply(function(x, y) {\n",
    "    rep(y, x)\n",
    "  }, division, seq(from = start, length.out = length(division))))\n",
    "\n",
    "  data[, (campo) := sample(rep(bloque, ceiling(.N / length(bloque))))[1:.N],\n",
    "    by = agrupa\n",
    "  ]\n",
    "}\n"
   ]
  },
  {
   "cell_type": "code",
   "execution_count": 40,
   "metadata": {
    "id": "Bv_NorLhdsE1"
   },
   "outputs": [],
   "source": [
    "DosArbolesEstimarGanancia <- function(semilla, training_pct, param_rpart1, param_rpart2) {\n",
    "  # fuerzo impresion\n",
    "  print( paste( semilla, Sys.time()) )\n",
    "  flush.console()\n",
    "\n",
    "  # particiono estratificadamente el dataset\n",
    "  particionar(dataset,\n",
    "    division = c(training_pct, 100L -training_pct),\n",
    "    agrupa = \"clase_ternaria\",\n",
    "    seed = semilla # aqui se usa SU semilla\n",
    "  )\n",
    "\n",
    "  # genero el modelo\n",
    "  # predecir clase_ternaria a partir del resto\n",
    "  modelo1 <- rpart(\"clase_ternaria ~ .\",\n",
    "    data = dataset[fold == 1], # fold==1  es training,  el 70% de los datos\n",
    "    xval = 0,\n",
    "    control = param_rpart1\n",
    "  ) # aqui van los parametros del arbol\n",
    "\n",
    "  # aplico el modelo a los datos de testing\n",
    "  prediccion1 <- predict(modelo1, # el modelo que genere recien\n",
    "    dataset[fold == 2], # fold==2  es testing, el 30% de los datos\n",
    "    type = \"prob\"\n",
    "  ) # type= \"prob\"  es que devuelva la probabilidad\n",
    "\n",
    "\n",
    "  # calculo la ganancia en testing  qu es fold==2\n",
    "  ganancia_test1 <- dataset[\n",
    "    fold == 2,\n",
    "    sum(ifelse(prediccion1[, \"BAJA+2\"] > 0.025,\n",
    "      ifelse(clase_ternaria == \"BAJA+2\", 117000, -3000),\n",
    "      0\n",
    "    ))\n",
    "  ]\n",
    "\n",
    "  # escalo la ganancia como si fuera todo el dataset\n",
    "  ganancia_test_normalizada1 <- ganancia_test1 / (( 100 - training_pct ) / 100 )\n",
    "\n",
    "  modelo2 <- rpart(\"clase_ternaria ~ .\",\n",
    "    data = dataset[fold == 1], # fold==1  es training,  el 70% de los datos\n",
    "    xval = 0,\n",
    "    control = param_rpart2\n",
    "  ) # aqui van los parametros del arbol\n",
    "\n",
    "  # aplico el modelo a los datos de testing\n",
    "  prediccion2 <- predict(modelo2, # el modelo que genere recien\n",
    "    dataset[fold == 2], # fold==2  es testing, el 30% de los datos\n",
    "    type = \"prob\"\n",
    "  ) # type= \"prob\"  es que devuelva la probabilidad\n",
    "\n",
    "\n",
    "  # calculo la ganancia en testing  qu es fold==2\n",
    "  ganancia_test2 <- dataset[\n",
    "    fold == 2,\n",
    "    sum(ifelse(prediccion2[, \"BAJA+2\"] > 0.025,\n",
    "      ifelse(clase_ternaria == \"BAJA+2\", 117000, -3000),\n",
    "      0\n",
    "    ))\n",
    "  ]\n",
    "\n",
    "  # escalo la ganancia como si fuera todo el dataset\n",
    "  ganancia_test_normalizada2 <- ganancia_test2 / (( 100 - training_pct ) / 100 )\n",
    "\n",
    "  return(list(\n",
    "    \"semilla\" = semilla,\n",
    "    \"ganancia1\" = ganancia_test_normalizada1,\n",
    "    \"ganancia2\" = ganancia_test_normalizada2\n",
    "  ))\n",
    "}"
   ]
  },
  {
   "cell_type": "code",
   "execution_count": 41,
   "metadata": {
    "id": "N9GarblIdsE3"
   },
   "outputs": [],
   "source": [
    "# carpeta de trabajo\n",
    "setwd(\"/content/buckets/b1/exp\")\n",
    "experimento <- \"exp206\"\n",
    "dir.create(experimento, showWarnings=FALSE)\n",
    "setwd( paste0(\"/content/buckets/b1/exp/\", experimento ))"
   ]
  },
  {
   "cell_type": "code",
   "execution_count": 42,
   "metadata": {
    "id": "Z05r3wdTdsE3"
   },
   "outputs": [],
   "source": [
    "# lectura del dataset\n",
    "dataset <- fread(\"/content/datasets/dataset_pequeno.csv\")\n",
    "\n",
    "# trabajo solo con los datos con clase, es decir 202107\n",
    "dataset <- dataset[clase_ternaria != \"\"]"
   ]
  },
  {
   "cell_type": "code",
   "execution_count": 43,
   "metadata": {
    "id": "m8ODrVrndsE4"
   },
   "outputs": [],
   "source": [
    "# genero numeros primos\n",
    "primos <- generate_primes(min = 100000, max = 1000000)\n",
    "set.seed(PARAM$semilla_primigenia) # inicializo\n",
    "\n",
    "# me quedo con PARAM$qsemillas   semillas\n",
    "PARAM$semillas <- sample(primos, PARAM$qsemillas )"
   ]
  },
  {
   "cell_type": "code",
   "execution_count": 44,
   "metadata": {
    "id": "KQBhUXxJdsE5"
   },
   "outputs": [
    {
     "data": {
      "text/plain": [
       "[1] \"2025-09-08 00:01:35 UTC\""
      ]
     },
     "metadata": {},
     "output_type": "display_data"
    },
    {
     "data": {
      "text/plain": [
       "[1] \"2025-09-08 00:16:42 UTC\""
      ]
     },
     "metadata": {},
     "output_type": "display_data"
    }
   ],
   "source": [
    "# la funcion mcmapply  llama a la funcion DosArbolesEstimarGanancia\n",
    "#  tantas veces como valores tenga el vector  PARAM$semillas\n",
    "Sys.time()\n",
    "\n",
    "salidas <- mcmapply( DosArbolesEstimarGanancia,\n",
    "  PARAM$semillas, # paso el vector de semillas\n",
    "  MoreArgs = list(PARAM$training_pct, PARAM$rpart1, PARAM$rpart2), # aqui paso el segundo parametro\n",
    "  SIMPLIFY = FALSE,\n",
    "  mc.cores = detectCores()\n",
    ")\n",
    "\n",
    "Sys.time()"
   ]
  },
  {
   "cell_type": "code",
   "execution_count": 45,
   "metadata": {
    "id": "N0eS1CFFdsE5"
   },
   "outputs": [
    {
     "data": {
      "text/html": [
       "<table class=\"dataframe\">\n",
       "<caption>A data.table: 50 × 3</caption>\n",
       "<thead>\n",
       "\t<tr><th scope=col>semilla</th><th scope=col>ganancia1</th><th scope=col>ganancia2</th></tr>\n",
       "\t<tr><th scope=col>&lt;int&gt;</th><th scope=col>&lt;dbl&gt;</th><th scope=col>&lt;dbl&gt;</th></tr>\n",
       "</thead>\n",
       "<tbody>\n",
       "\t<tr><td>412099</td><td>49940000</td><td>44790000</td></tr>\n",
       "\t<tr><td>485081</td><td>48560000</td><td>43930000</td></tr>\n",
       "\t<tr><td>433351</td><td>51190000</td><td>48600000</td></tr>\n",
       "\t<tr><td>305369</td><td>47330000</td><td>46300000</td></tr>\n",
       "\t<tr><td>203807</td><td>43230000</td><td>44350000</td></tr>\n",
       "\t<tr><td>566911</td><td>50290000</td><td>48920000</td></tr>\n",
       "\t<tr><td>815459</td><td>46500000</td><td>47060000</td></tr>\n",
       "\t<tr><td>389563</td><td>50790000</td><td>45870000</td></tr>\n",
       "\t<tr><td>880573</td><td>48760000</td><td>49190000</td></tr>\n",
       "\t<tr><td>369709</td><td>50200000</td><td>51300000</td></tr>\n",
       "\t<tr><td>867959</td><td>48110000</td><td>46760000</td></tr>\n",
       "\t<tr><td>452279</td><td>47490000</td><td>49010000</td></tr>\n",
       "\t<tr><td>167597</td><td>49250000</td><td>48720000</td></tr>\n",
       "\t<tr><td>824063</td><td>43610000</td><td>46170000</td></tr>\n",
       "\t<tr><td>942437</td><td>47450000</td><td>46050000</td></tr>\n",
       "\t<tr><td>914827</td><td>50470000</td><td>49850000</td></tr>\n",
       "\t<tr><td>335281</td><td>48690000</td><td>45580000</td></tr>\n",
       "\t<tr><td>936527</td><td>46160000</td><td>50590000</td></tr>\n",
       "\t<tr><td>488441</td><td>46870000</td><td>46970000</td></tr>\n",
       "\t<tr><td>152459</td><td>50610000</td><td>50350000</td></tr>\n",
       "\t<tr><td>577349</td><td>49560000</td><td>54080000</td></tr>\n",
       "\t<tr><td>347771</td><td>41300000</td><td>42250000</td></tr>\n",
       "\t<tr><td>770111</td><td>45640000</td><td>41930000</td></tr>\n",
       "\t<tr><td>109211</td><td>47940000</td><td>45270000</td></tr>\n",
       "\t<tr><td>493567</td><td>43970000</td><td>38100000</td></tr>\n",
       "\t<tr><td>485137</td><td>48970000</td><td>49060000</td></tr>\n",
       "\t<tr><td>133717</td><td>43620000</td><td>42110000</td></tr>\n",
       "\t<tr><td>127249</td><td>49880000</td><td>48190000</td></tr>\n",
       "\t<tr><td>514379</td><td>49940000</td><td>50550000</td></tr>\n",
       "\t<tr><td>952037</td><td>45480000</td><td>45910000</td></tr>\n",
       "\t<tr><td>134219</td><td>48090000</td><td>47830000</td></tr>\n",
       "\t<tr><td>582821</td><td>46920000</td><td>47470000</td></tr>\n",
       "\t<tr><td>381949</td><td>37450000</td><td>40430000</td></tr>\n",
       "\t<tr><td>358703</td><td>44950000</td><td>45270000</td></tr>\n",
       "\t<tr><td>805403</td><td>45160000</td><td>48690000</td></tr>\n",
       "\t<tr><td>396443</td><td>51460000</td><td>50680000</td></tr>\n",
       "\t<tr><td>509843</td><td>46440000</td><td>49470000</td></tr>\n",
       "\t<tr><td>786077</td><td>47600000</td><td>50600000</td></tr>\n",
       "\t<tr><td>600623</td><td>49160000</td><td>48210000</td></tr>\n",
       "\t<tr><td>969179</td><td>48700000</td><td>49990000</td></tr>\n",
       "\t<tr><td>286673</td><td>53740000</td><td>51890000</td></tr>\n",
       "\t<tr><td>954917</td><td>51550000</td><td>45150000</td></tr>\n",
       "\t<tr><td>219871</td><td>52960000</td><td>44930000</td></tr>\n",
       "\t<tr><td>102203</td><td>50680000</td><td>50680000</td></tr>\n",
       "\t<tr><td>155809</td><td>46310000</td><td>43990000</td></tr>\n",
       "\t<tr><td>117043</td><td>45080000</td><td>44990000</td></tr>\n",
       "\t<tr><td>860501</td><td>54540000</td><td>52700000</td></tr>\n",
       "\t<tr><td>767399</td><td>53000000</td><td>50220000</td></tr>\n",
       "\t<tr><td>213637</td><td>47770000</td><td>46970000</td></tr>\n",
       "\t<tr><td>327017</td><td>48510000</td><td>49610000</td></tr>\n",
       "</tbody>\n",
       "</table>\n"
      ],
      "text/latex": [
       "A data.table: 50 × 3\n",
       "\\begin{tabular}{lll}\n",
       " semilla & ganancia1 & ganancia2\\\\\n",
       " <int> & <dbl> & <dbl>\\\\\n",
       "\\hline\n",
       "\t 412099 & 49940000 & 44790000\\\\\n",
       "\t 485081 & 48560000 & 43930000\\\\\n",
       "\t 433351 & 51190000 & 48600000\\\\\n",
       "\t 305369 & 47330000 & 46300000\\\\\n",
       "\t 203807 & 43230000 & 44350000\\\\\n",
       "\t 566911 & 50290000 & 48920000\\\\\n",
       "\t 815459 & 46500000 & 47060000\\\\\n",
       "\t 389563 & 50790000 & 45870000\\\\\n",
       "\t 880573 & 48760000 & 49190000\\\\\n",
       "\t 369709 & 50200000 & 51300000\\\\\n",
       "\t 867959 & 48110000 & 46760000\\\\\n",
       "\t 452279 & 47490000 & 49010000\\\\\n",
       "\t 167597 & 49250000 & 48720000\\\\\n",
       "\t 824063 & 43610000 & 46170000\\\\\n",
       "\t 942437 & 47450000 & 46050000\\\\\n",
       "\t 914827 & 50470000 & 49850000\\\\\n",
       "\t 335281 & 48690000 & 45580000\\\\\n",
       "\t 936527 & 46160000 & 50590000\\\\\n",
       "\t 488441 & 46870000 & 46970000\\\\\n",
       "\t 152459 & 50610000 & 50350000\\\\\n",
       "\t 577349 & 49560000 & 54080000\\\\\n",
       "\t 347771 & 41300000 & 42250000\\\\\n",
       "\t 770111 & 45640000 & 41930000\\\\\n",
       "\t 109211 & 47940000 & 45270000\\\\\n",
       "\t 493567 & 43970000 & 38100000\\\\\n",
       "\t 485137 & 48970000 & 49060000\\\\\n",
       "\t 133717 & 43620000 & 42110000\\\\\n",
       "\t 127249 & 49880000 & 48190000\\\\\n",
       "\t 514379 & 49940000 & 50550000\\\\\n",
       "\t 952037 & 45480000 & 45910000\\\\\n",
       "\t 134219 & 48090000 & 47830000\\\\\n",
       "\t 582821 & 46920000 & 47470000\\\\\n",
       "\t 381949 & 37450000 & 40430000\\\\\n",
       "\t 358703 & 44950000 & 45270000\\\\\n",
       "\t 805403 & 45160000 & 48690000\\\\\n",
       "\t 396443 & 51460000 & 50680000\\\\\n",
       "\t 509843 & 46440000 & 49470000\\\\\n",
       "\t 786077 & 47600000 & 50600000\\\\\n",
       "\t 600623 & 49160000 & 48210000\\\\\n",
       "\t 969179 & 48700000 & 49990000\\\\\n",
       "\t 286673 & 53740000 & 51890000\\\\\n",
       "\t 954917 & 51550000 & 45150000\\\\\n",
       "\t 219871 & 52960000 & 44930000\\\\\n",
       "\t 102203 & 50680000 & 50680000\\\\\n",
       "\t 155809 & 46310000 & 43990000\\\\\n",
       "\t 117043 & 45080000 & 44990000\\\\\n",
       "\t 860501 & 54540000 & 52700000\\\\\n",
       "\t 767399 & 53000000 & 50220000\\\\\n",
       "\t 213637 & 47770000 & 46970000\\\\\n",
       "\t 327017 & 48510000 & 49610000\\\\\n",
       "\\end{tabular}\n"
      ],
      "text/markdown": [
       "\n",
       "A data.table: 50 × 3\n",
       "\n",
       "| semilla &lt;int&gt; | ganancia1 &lt;dbl&gt; | ganancia2 &lt;dbl&gt; |\n",
       "|---|---|---|\n",
       "| 412099 | 49940000 | 44790000 |\n",
       "| 485081 | 48560000 | 43930000 |\n",
       "| 433351 | 51190000 | 48600000 |\n",
       "| 305369 | 47330000 | 46300000 |\n",
       "| 203807 | 43230000 | 44350000 |\n",
       "| 566911 | 50290000 | 48920000 |\n",
       "| 815459 | 46500000 | 47060000 |\n",
       "| 389563 | 50790000 | 45870000 |\n",
       "| 880573 | 48760000 | 49190000 |\n",
       "| 369709 | 50200000 | 51300000 |\n",
       "| 867959 | 48110000 | 46760000 |\n",
       "| 452279 | 47490000 | 49010000 |\n",
       "| 167597 | 49250000 | 48720000 |\n",
       "| 824063 | 43610000 | 46170000 |\n",
       "| 942437 | 47450000 | 46050000 |\n",
       "| 914827 | 50470000 | 49850000 |\n",
       "| 335281 | 48690000 | 45580000 |\n",
       "| 936527 | 46160000 | 50590000 |\n",
       "| 488441 | 46870000 | 46970000 |\n",
       "| 152459 | 50610000 | 50350000 |\n",
       "| 577349 | 49560000 | 54080000 |\n",
       "| 347771 | 41300000 | 42250000 |\n",
       "| 770111 | 45640000 | 41930000 |\n",
       "| 109211 | 47940000 | 45270000 |\n",
       "| 493567 | 43970000 | 38100000 |\n",
       "| 485137 | 48970000 | 49060000 |\n",
       "| 133717 | 43620000 | 42110000 |\n",
       "| 127249 | 49880000 | 48190000 |\n",
       "| 514379 | 49940000 | 50550000 |\n",
       "| 952037 | 45480000 | 45910000 |\n",
       "| 134219 | 48090000 | 47830000 |\n",
       "| 582821 | 46920000 | 47470000 |\n",
       "| 381949 | 37450000 | 40430000 |\n",
       "| 358703 | 44950000 | 45270000 |\n",
       "| 805403 | 45160000 | 48690000 |\n",
       "| 396443 | 51460000 | 50680000 |\n",
       "| 509843 | 46440000 | 49470000 |\n",
       "| 786077 | 47600000 | 50600000 |\n",
       "| 600623 | 49160000 | 48210000 |\n",
       "| 969179 | 48700000 | 49990000 |\n",
       "| 286673 | 53740000 | 51890000 |\n",
       "| 954917 | 51550000 | 45150000 |\n",
       "| 219871 | 52960000 | 44930000 |\n",
       "| 102203 | 50680000 | 50680000 |\n",
       "| 155809 | 46310000 | 43990000 |\n",
       "| 117043 | 45080000 | 44990000 |\n",
       "| 860501 | 54540000 | 52700000 |\n",
       "| 767399 | 53000000 | 50220000 |\n",
       "| 213637 | 47770000 | 46970000 |\n",
       "| 327017 | 48510000 | 49610000 |\n",
       "\n"
      ],
      "text/plain": [
       "   semilla ganancia1 ganancia2\n",
       "1  412099  49940000  44790000 \n",
       "2  485081  48560000  43930000 \n",
       "3  433351  51190000  48600000 \n",
       "4  305369  47330000  46300000 \n",
       "5  203807  43230000  44350000 \n",
       "6  566911  50290000  48920000 \n",
       "7  815459  46500000  47060000 \n",
       "8  389563  50790000  45870000 \n",
       "9  880573  48760000  49190000 \n",
       "10 369709  50200000  51300000 \n",
       "11 867959  48110000  46760000 \n",
       "12 452279  47490000  49010000 \n",
       "13 167597  49250000  48720000 \n",
       "14 824063  43610000  46170000 \n",
       "15 942437  47450000  46050000 \n",
       "16 914827  50470000  49850000 \n",
       "17 335281  48690000  45580000 \n",
       "18 936527  46160000  50590000 \n",
       "19 488441  46870000  46970000 \n",
       "20 152459  50610000  50350000 \n",
       "21 577349  49560000  54080000 \n",
       "22 347771  41300000  42250000 \n",
       "23 770111  45640000  41930000 \n",
       "24 109211  47940000  45270000 \n",
       "25 493567  43970000  38100000 \n",
       "26 485137  48970000  49060000 \n",
       "27 133717  43620000  42110000 \n",
       "28 127249  49880000  48190000 \n",
       "29 514379  49940000  50550000 \n",
       "30 952037  45480000  45910000 \n",
       "31 134219  48090000  47830000 \n",
       "32 582821  46920000  47470000 \n",
       "33 381949  37450000  40430000 \n",
       "34 358703  44950000  45270000 \n",
       "35 805403  45160000  48690000 \n",
       "36 396443  51460000  50680000 \n",
       "37 509843  46440000  49470000 \n",
       "38 786077  47600000  50600000 \n",
       "39 600623  49160000  48210000 \n",
       "40 969179  48700000  49990000 \n",
       "41 286673  53740000  51890000 \n",
       "42 954917  51550000  45150000 \n",
       "43 219871  52960000  44930000 \n",
       "44 102203  50680000  50680000 \n",
       "45 155809  46310000  43990000 \n",
       "46 117043  45080000  44990000 \n",
       "47 860501  54540000  52700000 \n",
       "48 767399  53000000  50220000 \n",
       "49 213637  47770000  46970000 \n",
       "50 327017  48510000  49610000 "
      ]
     },
     "metadata": {},
     "output_type": "display_data"
    }
   ],
   "source": [
    "# paso la lista a vector\n",
    "tb_salida <- rbindlist(salidas)\n",
    "tb_salida"
   ]
  },
  {
   "cell_type": "code",
   "execution_count": 46,
   "metadata": {
    "id": "6vf28ujAdsE6"
   },
   "outputs": [
    {
     "data": {
      "image/png": "[encoded data removed]",
      "text/plain": [
       "plot without title"
      ]
     },
     "metadata": {
      "image/png": {
       "height": 420,
       "width": 420
      }
     },
     "output_type": "display_data"
    }
   ],
   "source": [
    "grafico <- ggplot( tb_salida, aes(x=ganancia1), fill=\"green\", color=\"green\") + geom_density(alpha=0.25)  +\n",
    "             geom_density(data=tb_salida, aes(x=ganancia2), fill=\"purple\", color=\"purple\",  alpha=0.10)\n",
    "\n",
    "print(grafico)"
   ]
  },
  {
   "cell_type": "code",
   "execution_count": 47,
   "metadata": {
    "id": "TA9lLa6-dsE6"
   },
   "outputs": [
    {
     "data": {
      "text/html": [
       "<strong>pdf:</strong> 2"
      ],
      "text/latex": [
       "\\textbf{pdf:} 2"
      ],
      "text/markdown": [
       "**pdf:** 2"
      ],
      "text/plain": [
       "pdf \n",
       "  2 "
      ]
     },
     "metadata": {},
     "output_type": "display_data"
    }
   ],
   "source": [
    "# imprimo en un .pdf  que va a la carpeta del experimento\n",
    "pdf(\"densidad_dos.pdf\")\n",
    "print(grafico)\n",
    "dev.off()"
   ]
  },
  {
   "cell_type": "code",
   "execution_count": 48,
   "metadata": {
    "id": "xAOpyZTqdsE7"
   },
   "outputs": [
    {
     "name": "stdout",
     "output_type": "stream",
     "text": [
      "     arbol1   arbol2\n",
      "      <num>    <num>\n",
      "1: 48037400 47351600\n"
     ]
    }
   ],
   "source": [
    "# medias de las ganancias\n",
    "print( tb_salida[ , list( \"arbol1\" = mean( ganancia1),  \"arbol2\" = mean(ganancia2) ) ] )\n"
   ]
  },
  {
   "cell_type": "code",
   "execution_count": 49,
   "metadata": {
    "id": "8rdPIcfzgob7"
   },
   "outputs": [
    {
     "name": "stdout",
     "output_type": "stream",
     "text": [
      "   prob( m1 > m2)\n",
      "            <num>\n",
      "1:           0.56\n"
     ]
    }
   ],
   "source": [
    "# probabilidad que m1 sea mayor a m2\n",
    "print( tb_salida[ , list( \"prob( m1 > m2)\" = sum(ganancia1 > ganancia2 )/ .N ) ]  )"
   ]
  },
  {
   "cell_type": "markdown",
   "metadata": {
    "id": "nNNJWYRadsE7"
   },
   "source": [
    "### Acciones a realizar\n",
    "* Reportar la  los resultados en la planilla colaborativa hoja  **C2-dosBuenos**\n"
   ]
  },
  {
   "cell_type": "markdown",
   "metadata": {
    "id": "LTBEq6SEdsE8"
   },
   "source": [
    "\n",
    "\n",
    "---\n",
    "\n"
   ]
  },
  {
   "cell_type": "markdown",
   "metadata": {
    "id": "ebcTZX7Sg1Le"
   },
   "source": []
  },
  {
   "cell_type": "markdown",
   "metadata": {
    "id": "RAtn4x6Bg1u1"
   },
   "source": [
    "# 8 Test de Wilcoxon\n",
    "## Clase 02  Experimento 8"
   ]
  },
  {
   "cell_type": "markdown",
   "metadata": {
    "id": "RWxjnSsVg_ol"
   },
   "source": []
  },
  {
   "cell_type": "markdown",
   "metadata": {
    "id": "Gf0LF3ywhAEU"
   },
   "source": [
    "## 8.1  Objetivos\n",
    "\n",
    "¿Como calcular la cantidad mínima de semillas que hacen falta para tener cierta certeza que un modelo es superior a otro?"
   ]
  },
  {
   "cell_type": "markdown",
   "metadata": {
    "id": "k4PJGTDViZne"
   },
   "source": [
    "## 8.2  Introduccion\n",
    "\n",
    "| Hiperparámetro | Arbol 1 | Arbol 2 |\n",
    "| --- | --: |  ---: |\n",
    "| cp | -1 | -1 |\n",
    "|minsplit | 170 | 250 |\n",
    "|minbucket | 70 | 125 |\n",
    "|maxdepth | 7 | 20 |\n",
    "\n",
    "<br>\n",
    "<br>\n",
    "\n",
    "\n",
    "| ordinal | semilla | ganancia1 | ganancia2 | p-value |\n",
    "| --- | --- |  --- |  --- |  --- |\n",
    "| 1 |378821 | 41,470,000 | 37,790,000 | 1.000 |\n",
    "| 2 | 964333  | 48,480,000  | 43,660,000 | 0.500 |\n",
    "| 3 | 187049 | 50,610,000 | 47,840,000 | 0.250 |\n",
    "| 4 | 205151 | 45,580,000 | 44,490,000 | 0.125 |\n",
    "| 5 | 813697 | 52,780,000 | 46,750,000 |  0.063 |\n",
    "| 6 | 344719 | 49,970,000 | 44,300,000 | 0.031 |\n",
    "|7 |127217  |52,810,000 | 42,840,000 |0.016 |\n",
    "| 8 | 464371 | 43,060,000 | 37,300,000 | 0.008 |\n",
    "| 9 | 645137 | 49,660,000 |43,730,000 | 0.004|\n",
    "\n",
    "\n"
   ]
  },
  {
   "cell_type": "markdown",
   "metadata": {
    "id": "gAeSRdWRhg61"
   },
   "source": [
    "## 8.3 Codigo Test de Wilcoxon"
   ]
  },
  {
   "cell_type": "code",
   "execution_count": 1,
   "metadata": {
    "id": "6r5M0J0HdsE8"
   },
   "outputs": [
    {
     "data": {
      "text/plain": [
       "\n",
       "\tWilcoxon signed rank exact test\n",
       "\n",
       "data:  c(41470000) and c(37790000)\n",
       "V = 1, p-value = 1\n",
       "alternative hypothesis: true location shift is not equal to 0\n"
      ]
     },
     "metadata": {},
     "output_type": "display_data"
    }
   ],
   "source": [
    "# 1 sola ganancia\n",
    "wilcox.test(\n",
    "  c(41470000),\n",
    "  c(37790000),\n",
    "  paired = TRUE\n",
    ")\n"
   ]
  },
  {
   "cell_type": "code",
   "execution_count": 2,
   "metadata": {
    "id": "1pscqL9vLzYE"
   },
   "outputs": [
    {
     "data": {
      "text/plain": [
       "\n",
       "\tWilcoxon signed rank exact test\n",
       "\n",
       "data:  c(41470000, 48480000) and c(37790000, 43660000)\n",
       "V = 3, p-value = 0.5\n",
       "alternative hypothesis: true location shift is not equal to 0\n"
      ]
     },
     "metadata": {},
     "output_type": "display_data"
    }
   ],
   "source": [
    "# 2 ganancias\n",
    "wilcox.test(\n",
    "  c(41470000, 48480000),\n",
    "  c(37790000, 43660000),\n",
    "  paired = TRUE\n",
    ")\n"
   ]
  },
  {
   "cell_type": "code",
   "execution_count": 3,
   "metadata": {
    "id": "p3f_mtKwhSHA"
   },
   "outputs": [
    {
     "data": {
      "text/plain": [
       "\n",
       "\tWilcoxon signed rank exact test\n",
       "\n",
       "data:  c(41470000, 48480000, 50610000) and c(37790000, 43660000, 47840000)\n",
       "V = 6, p-value = 0.25\n",
       "alternative hypothesis: true location shift is not equal to 0\n"
      ]
     },
     "metadata": {},
     "output_type": "display_data"
    }
   ],
   "source": [
    "# 3 ganancias\n",
    "wilcox.test(\n",
    "  c(41470000, 48480000, 50610000),\n",
    "  c(37790000, 43660000, 47840000),\n",
    "  paired = TRUE\n",
    ")"
   ]
  },
  {
   "cell_type": "code",
   "execution_count": 4,
   "metadata": {
    "id": "-ijX69r9hT6Z"
   },
   "outputs": [
    {
     "data": {
      "text/plain": [
       "\n",
       "\tWilcoxon signed rank exact test\n",
       "\n",
       "data:  c(41470000, 48480000, 50610000, 45580000) and c(37790000, 43660000, 47840000, 44490000)\n",
       "V = 10, p-value = 0.125\n",
       "alternative hypothesis: true location shift is not equal to 0\n"
      ]
     },
     "metadata": {},
     "output_type": "display_data"
    }
   ],
   "source": [
    "# 4 ganancias\n",
    "wilcox.test(\n",
    "  c(41470000, 48480000, 50610000, 45580000),\n",
    "  c(37790000, 43660000, 47840000, 44490000),\n",
    "  paired = TRUE\n",
    ")\n"
   ]
  },
  {
   "cell_type": "code",
   "execution_count": 5,
   "metadata": {
    "id": "X9J_CHGehVfr"
   },
   "outputs": [
    {
     "data": {
      "text/plain": [
       "\n",
       "\tWilcoxon signed rank exact test\n",
       "\n",
       "data:  c(41470000, 48480000, 50610000, 45580000, 52780000) and c(37790000, 43660000, 47840000, 44490000, 46750000)\n",
       "V = 15, p-value = 0.0625\n",
       "alternative hypothesis: true location shift is not equal to 0\n"
      ]
     },
     "metadata": {},
     "output_type": "display_data"
    }
   ],
   "source": [
    "# 5 ganancias\n",
    "wilcox.test(\n",
    "  c(41470000, 48480000, 50610000, 45580000, 52780000),\n",
    "  c(37790000, 43660000, 47840000, 44490000, 46750000),\n",
    "  paired = TRUE\n",
    ")"
   ]
  },
  {
   "cell_type": "code",
   "execution_count": 6,
   "metadata": {
    "id": "H3CNNonOhXp0"
   },
   "outputs": [
    {
     "data": {
      "text/plain": [
       "\n",
       "\tWilcoxon signed rank exact test\n",
       "\n",
       "data:  c(41470000, 48480000, 50610000, 45580000, 52780000, 49970000) and c(37790000, 43660000, 47840000, 44490000, 46750000, 44300000)\n",
       "V = 21, p-value = 0.03125\n",
       "alternative hypothesis: true location shift is not equal to 0\n"
      ]
     },
     "metadata": {},
     "output_type": "display_data"
    }
   ],
   "source": [
    "# 6 ganancias\n",
    "wilcox.test(\n",
    "  c(41470000, 48480000, 50610000, 45580000, 52780000, 49970000),\n",
    "  c(37790000, 43660000, 47840000, 44490000, 46750000, 44300000),\n",
    "  paired = TRUE\n",
    ")"
   ]
  },
  {
   "cell_type": "code",
   "execution_count": 7,
   "metadata": {
    "id": "NTW8kwY8hamz"
   },
   "outputs": [
    {
     "data": {
      "text/plain": [
       "\n",
       "\tWilcoxon signed rank exact test\n",
       "\n",
       "data:  c(41470000, 48480000, 50610000, 45580000, 52780000, 49970000, 52810000) and c(37790000, 43660000, 47840000, 44490000, 46750000, 44300000, 42840000)\n",
       "V = 28, p-value = 0.01563\n",
       "alternative hypothesis: true location shift is not equal to 0\n"
      ]
     },
     "metadata": {},
     "output_type": "display_data"
    }
   ],
   "source": [
    "# Finalmente el p-value es  0.03125  < 0.05\n",
    "# hicieron falta  SEIS semillas, seis ganancias, para\n",
    "#   afirmar que el modelo 1 es superior al modelo 2\n",
    "\n",
    "# 7 ganancias\n",
    "wilcox.test(\n",
    "  c(41470000, 48480000, 50610000, 45580000, 52780000, 49970000, 52810000),\n",
    "  c(37790000, 43660000, 47840000, 44490000, 46750000, 44300000, 42840000),\n",
    "  paired = TRUE\n",
    ")\n"
   ]
  },
  {
   "cell_type": "code",
   "execution_count": 8,
   "metadata": {
    "id": "Xks918w8hcgC"
   },
   "outputs": [
    {
     "data": {
      "text/plain": [
       "\n",
       "\tWilcoxon signed rank exact test\n",
       "\n",
       "data:  c(41470000, 48480000, 50610000, 45580000, 52780000, 49970000, 52810000, 43060000) and c(37790000, 43660000, 47840000, 44490000, 46750000, 44300000, 42840000, 37300000)\n",
       "V = 36, p-value = 0.007813\n",
       "alternative hypothesis: true location shift is not equal to 0\n"
      ]
     },
     "metadata": {},
     "output_type": "display_data"
    }
   ],
   "source": [
    "# 8 ganancias\n",
    "wilcox.test(\n",
    "  c(41470000, 48480000, 50610000, 45580000, 52780000, 49970000, 52810000, 43060000),\n",
    "  c(37790000, 43660000, 47840000, 44490000, 46750000, 44300000, 42840000, 37300000),\n",
    "  paired = TRUE\n",
    ")\n"
   ]
  },
  {
   "cell_type": "code",
   "execution_count": 9,
   "metadata": {
    "id": "5x8L1PMGhdJR"
   },
   "outputs": [
    {
     "data": {
      "text/plain": [
       "\n",
       "\tWilcoxon signed rank exact test\n",
       "\n",
       "data:  c(41470000, 48480000, 50610000, 45580000, 52780000, 49970000, 52810000, 43060000, 49660000) and c(37790000, 43660000, 47840000, 44490000, 46750000, 44300000, 42840000, 37300000, 43730000)\n",
       "V = 45, p-value = 0.003906\n",
       "alternative hypothesis: true location shift is not equal to 0\n"
      ]
     },
     "metadata": {},
     "output_type": "display_data"
    }
   ],
   "source": [
    "# 9 ganancias\n",
    "wilcox.test(\n",
    "  c(41470000, 48480000, 50610000, 45580000, 52780000, 49970000, 52810000, 43060000, 49660000),\n",
    "  c(37790000, 43660000, 47840000, 44490000, 46750000, 44300000, 42840000, 37300000, 43730000),\n",
    "  paired = TRUE\n",
    ")"
   ]
  },
  {
   "cell_type": "markdown",
   "metadata": {
    "id": "Qjay2WBIkhNm"
   },
   "source": [
    "\n",
    "\n",
    "---\n",
    "\n"
   ]
  },
  {
   "cell_type": "markdown",
   "metadata": {
    "id": "g2aqxlCIk3fk"
   },
   "source": [
    "# 9 Comparando automaticamente modelos con test de Wilcoxon\n",
    "## Clase 02  Experimento 9"
   ]
  },
  {
   "cell_type": "markdown",
   "metadata": {
    "id": "FhCY4sH8k3fw"
   },
   "source": []
  },
  {
   "cell_type": "markdown",
   "metadata": {
    "id": "a_ZVBKBHk3fx"
   },
   "source": [
    "## 9.1  Objetivos\n",
    "\n",
    "Proveer un script que permita comparar dos arboles de decisión con la librería rpart utilizando la menor cantidad de cómputo que permita el Test de Wilxcoxon"
   ]
  },
  {
   "cell_type": "markdown",
   "metadata": {
    "id": "qCd56L0Ik3fx"
   },
   "source": [
    "## 9.2  Introduccion\n",
    "\n",
    "| Hiperparámetro | Arbol 1 | Arbol 2 |\n",
    "| --- | --- |  --- |\n",
    "| cp | -1 | -1 |\n",
    "|minsplit | 1050 | 650 |\n",
    "|minbucket | 550 | 300 |\n",
    "|maxdepth |67 | 6 |\n",
    "\n",
    "\n"
   ]
  },
  {
   "cell_type": "markdown",
   "metadata": {
    "id": "NBtQsG3vk3fx"
   },
   "source": [
    "## 9.3 Codigo comparacion automatica Wilcoxon"
   ]
  },
  {
   "cell_type": "markdown",
   "metadata": {
    "id": "-ARzDPORlpG6"
   },
   "source": [
    "Esta parte se debe correr con el runtime en lenguaje **R** Ir al menu, Runtime -> Change Runtime Tipe -> Runtime type -> R"
   ]
  },
  {
   "cell_type": "markdown",
   "metadata": {
    "id": "-Sy-sLMXlpHI"
   },
   "source": [
    "limpio el ambiente de R"
   ]
  },
  {
   "cell_type": "code",
   "execution_count": 10,
   "metadata": {
    "id": "ZpST7lcHlpHI"
   },
   "outputs": [
    {
     "data": {
      "text/html": [
       "<table class=\"dataframe\">\n",
       "<caption>A matrix: 2 × 6 of type dbl</caption>\n",
       "<thead>\n",
       "\t<tr><th></th><th scope=col>used</th><th scope=col>(Mb)</th><th scope=col>gc trigger</th><th scope=col>(Mb)</th><th scope=col>max used</th><th scope=col>(Mb)</th></tr>\n",
       "</thead>\n",
       "<tbody>\n",
       "\t<tr><th scope=row>Ncells</th><td> 664509</td><td>35.5</td><td>1439382</td><td>76.9</td><td>1439382</td><td>76.9</td></tr>\n",
       "\t<tr><th scope=row>Vcells</th><td>1241958</td><td> 9.5</td><td>8388608</td><td>64.0</td><td>1924965</td><td>14.7</td></tr>\n",
       "</tbody>\n",
       "</table>\n"
      ],
      "text/latex": [
       "A matrix: 2 × 6 of type dbl\n",
       "\\begin{tabular}{r|llllll}\n",
       "  & used & (Mb) & gc trigger & (Mb) & max used & (Mb)\\\\\n",
       "\\hline\n",
       "\tNcells &  664509 & 35.5 & 1439382 & 76.9 & 1439382 & 76.9\\\\\n",
       "\tVcells & 1241958 &  9.5 & 8388608 & 64.0 & 1924965 & 14.7\\\\\n",
       "\\end{tabular}\n"
      ],
      "text/markdown": [
       "\n",
       "A matrix: 2 × 6 of type dbl\n",
       "\n",
       "| <!--/--> | used | (Mb) | gc trigger | (Mb) | max used | (Mb) |\n",
       "|---|---|---|---|---|---|---|\n",
       "| Ncells |  664509 | 35.5 | 1439382 | 76.9 | 1439382 | 76.9 |\n",
       "| Vcells | 1241958 |  9.5 | 8388608 | 64.0 | 1924965 | 14.7 |\n",
       "\n"
      ],
      "text/plain": [
       "       used    (Mb) gc trigger (Mb) max used (Mb)\n",
       "Ncells  664509 35.5 1439382    76.9 1439382  76.9\n",
       "Vcells 1241958  9.5 8388608    64.0 1924965  14.7"
      ]
     },
     "metadata": {},
     "output_type": "display_data"
    }
   ],
   "source": [
    "# limpio la memoria\n",
    "rm(list=ls(all.names=TRUE)) # remove all objects\n",
    "gc(full=TRUE, verbose=FALSE) # garbage collection"
   ]
  },
  {
   "cell_type": "markdown",
   "metadata": {
    "id": "jHhAx3cvlpHJ"
   },
   "source": [
    "* Instalacion de la libreria  rpart.plot  para dibujar el arbol\n",
    "* invocacion de las librerias  **data.table** y  **rpart**"
   ]
  },
  {
   "cell_type": "code",
   "execution_count": 11,
   "metadata": {
    "id": "cbPnXeeqlpHJ"
   },
   "outputs": [
    {
     "name": "stderr",
     "output_type": "stream",
     "text": [
      "Loading required package: data.table\n",
      "\n",
      "Loading required package: rpart\n",
      "\n",
      "Loading required package: parallel\n",
      "\n",
      "Loading required package: primes\n",
      "\n",
      "Loading required package: ggplot2\n",
      "\n"
     ]
    }
   ],
   "source": [
    "# cargo las librerias que necesito\n",
    "require(\"data.table\")\n",
    "require(\"rpart\")\n",
    "require(\"parallel\")\n",
    "\n",
    "if (!require(\"primes\")) install.packages(\"primes\")\n",
    "require(\"primes\")\n",
    "\n",
    "require(\"ggplot2\")"
   ]
  },
  {
   "cell_type": "markdown",
   "metadata": {
    "id": "_GQk_NEUlpHK"
   },
   "source": [
    "###  Accion a Realizar\n",
    "PARAM$semilla_primigenia  debe reemplazarse por SU primer semilla"
   ]
  },
  {
   "cell_type": "code",
   "execution_count": 12,
   "metadata": {
    "id": "Do801PIHlpHK"
   },
   "outputs": [],
   "source": [
    "PARAM <- list()\n",
    "PARAM$semilla_primigenia <- 390227\n",
    "PARAM$qsemillas_tope <- 50\n",
    "PARAM$training_pct <- 70L     # entre 1 y 100\n"
   ]
  },
  {
   "cell_type": "code",
   "execution_count": 13,
   "metadata": {
    "id": "KlC7gTc7lpHK"
   },
   "outputs": [],
   "source": [
    "# los dos arboles\n",
    "PARAM$rpart1 <- list (\n",
    "  \"cp\" = -1,\n",
    "  \"minsplit\" = 800,\n",
    "  \"minbucket\" = 400,\n",
    "  \"maxdepth\" = 7\n",
    ")\n",
    "\n",
    "\n",
    "PARAM$rpart2 <- list (\n",
    "  \"cp\" = -1,\n",
    "  \"minsplit\" = 650,\n",
    "  \"minbucket\" = 300,\n",
    "  \"maxdepth\" = 6\n",
    ")\n"
   ]
  },
  {
   "cell_type": "code",
   "execution_count": 14,
   "metadata": {
    "id": "I7hOkZrxlpHL"
   },
   "outputs": [],
   "source": [
    "# particionar agrega una columna llamada fold a un dataset\n",
    "#  que consiste en una particion estratificada segun agrupa\n",
    "\n",
    "# particionar( data=dataset, division=c(70,30),\n",
    "#  agrupa=clase_ternaria, seed=semilla)   crea una particion 70, 30\n",
    "\n",
    "particionar <- function(\n",
    "    data, division, agrupa = \"\",\n",
    "    campo = \"fold\", start = 1, seed = NA) {\n",
    "  if (!is.na(seed)) set.seed(seed)\n",
    "\n",
    "  bloque <- unlist(mapply(function(x, y) {\n",
    "    rep(y, x)\n",
    "  }, division, seq(from = start, length.out = length(division))))\n",
    "\n",
    "  data[, (campo) := sample(rep(bloque, ceiling(.N / length(bloque))))[1:.N],\n",
    "    by = agrupa\n",
    "  ]\n",
    "}\n"
   ]
  },
  {
   "cell_type": "code",
   "execution_count": 15,
   "metadata": {
    "id": "vFpBSFBYlpHL"
   },
   "outputs": [],
   "source": [
    "DosArbolesEstimarGanancia <- function(semilla, training_pct, param_rpart1, param_rpart2) {\n",
    "  # particiono estratificadamente el dataset\n",
    "  particionar(dataset,\n",
    "    division = c(training_pct, 100L -training_pct),\n",
    "    agrupa = \"clase_ternaria\",\n",
    "    seed = semilla # aqui se usa SU semilla\n",
    "  )\n",
    "\n",
    "  # genero el modelo\n",
    "  # predecir clase_ternaria a partir del resto\n",
    "  modelo1 <- rpart(\"clase_ternaria ~ .\",\n",
    "    data = dataset[fold == 1], # fold==1  es training,  el 70% de los datos\n",
    "    xval = 0,\n",
    "    control = param_rpart1\n",
    "  ) # aqui van los parametros del arbol\n",
    "\n",
    "  # aplico el modelo a los datos de testing\n",
    "  prediccion1 <- predict(modelo1, # el modelo que genere recien\n",
    "    dataset[fold == 2], # fold==2  es testing, el 30% de los datos\n",
    "    type = \"prob\"\n",
    "  ) # type= \"prob\"  es que devuelva la probabilidad\n",
    "\n",
    "\n",
    "  # calculo la ganancia en testing  qu es fold==2\n",
    "  ganancia_test1 <- dataset[\n",
    "    fold == 2,\n",
    "    sum(ifelse(prediccion1[, \"BAJA+2\"] > 0.025,\n",
    "      ifelse(clase_ternaria == \"BAJA+2\", 117000, -3000),\n",
    "      0\n",
    "    ))\n",
    "  ]\n",
    "\n",
    "  # escalo la ganancia como si fuera todo el dataset\n",
    "  ganancia_test_normalizada1 <- ganancia_test1 / (( 100 - training_pct ) / 100 )\n",
    "\n",
    "  modelo2 <- rpart(\"clase_ternaria ~ .\",\n",
    "    data = dataset[fold == 1], # fold==1  es training,  el 70% de los datos\n",
    "    xval = 0,\n",
    "    control = param_rpart2\n",
    "  ) # aqui van los parametros del arbol\n",
    "\n",
    "  # aplico el modelo a los datos de testing\n",
    "  prediccion2 <- predict(modelo2, # el modelo que genere recien\n",
    "    dataset[fold == 2], # fold==2  es testing, el 30% de los datos\n",
    "    type = \"prob\"\n",
    "  ) # type= \"prob\"  es que devuelva la probabilidad\n",
    "\n",
    "\n",
    "  # calculo la ganancia en testing  qu es fold==2\n",
    "  ganancia_test2 <- dataset[\n",
    "    fold == 2,\n",
    "    sum(ifelse(prediccion2[, \"BAJA+2\"] > 0.025,\n",
    "      ifelse(clase_ternaria == \"BAJA+2\", 117000, -3000),\n",
    "      0\n",
    "    ))\n",
    "  ]\n",
    "\n",
    "  # escalo la ganancia como si fuera todo el dataset\n",
    "  ganancia_test_normalizada2 <- ganancia_test2 / (( 100 - training_pct ) / 100 )\n",
    "\n",
    "  return(list(\n",
    "    \"semilla\" = semilla,\n",
    "    \"ganancia1\" = ganancia_test_normalizada1,\n",
    "    \"ganancia2\" = ganancia_test_normalizada2\n",
    "  ))\n",
    "}"
   ]
  },
  {
   "cell_type": "code",
   "execution_count": 16,
   "metadata": {
    "id": "Cp8RnA_NmE8g"
   },
   "outputs": [],
   "source": [
    "# 1  ->  el modelo 1 es mejor\n",
    "# 2  ->  el modelo 2 es mejor\n",
    "# 0  ->  No se pudo determinar con el tope de qsemillas_tope\n",
    "\n",
    "\n",
    "MejorArbol <- function( qsemillas_tope, training_pct, param_rpart1, param_rpart2) {\n",
    "\n",
    "  # genero numeros primos\n",
    "  primos <- generate_primes(min = 100000, max = 1000000)\n",
    "  set.seed(PARAM$semilla_primigenia) # inicializo\n",
    "  # me quedo con PARAM$qsemillas   semillas\n",
    "  semillas <- sample(primos, qsemillas_tope )\n",
    "\n",
    "  pvalue <- 1.0\n",
    "  isem <- 1\n",
    "  vgan1 <- c() # almaceno ganancias del modelo1\n",
    "  vgan2 <- c() # almaceno ganancias del modelo2\n",
    "\n",
    "  while( (isem <= qsemillas_tope)  & (pvalue > 0.05) ) {\n",
    "\n",
    "    res <- DosArbolesEstimarGanancia(\n",
    "       semillas[ isem ],\n",
    "       training_pct,\n",
    "       param_rpart1,\n",
    "       param_rpart2\n",
    "    )\n",
    "\n",
    "    vgan1 <- c( vgan1, res$ganancia1 )\n",
    "    vgan2 <- c( vgan2, res$ganancia2 )\n",
    "\n",
    "    wt <- wilcox.test( vgan1, vgan2, paired=TRUE )\n",
    "    pvalue <- wt$p.value\n",
    "\n",
    "    cat( isem, res$ganancia1, res$ganancia2, pvalue, \"\\n\" )\n",
    "    flush.console()\n",
    "    isem <- isem + 1\n",
    "  }\n",
    "\n",
    "  out <- 0\n",
    "\n",
    "  if( pvalue < 0.05 & mean(vgan1) > mean(vgan2)  )  out <- 1\n",
    "  if( pvalue < 0.05 & mean(vgan1) < mean(vgan2)  )  out <- 2\n",
    "\n",
    "\n",
    "  return( list( \"out\" = out,\n",
    "    \"qsemillas\" = length(vgan1),\n",
    "    \"m1\" = mean( vgan1 ),\n",
    "    \"m2\" = mean( vgan2 )\n",
    "   ) )\n",
    "}\n"
   ]
  },
  {
   "cell_type": "code",
   "execution_count": 17,
   "metadata": {
    "id": "r1motpfOlpHM"
   },
   "outputs": [],
   "source": [
    "# carpeta de trabajo\n",
    "setwd(\"/content/buckets/b1/exp\")\n",
    "experimento <- \"exp209\"\n",
    "dir.create(experimento, showWarnings=FALSE)\n",
    "setwd( paste0(\"/content/buckets/b1/exp/\", experimento ))"
   ]
  },
  {
   "cell_type": "code",
   "execution_count": 18,
   "metadata": {
    "id": "hT0LaKWumTSu"
   },
   "outputs": [],
   "source": [
    "# lectura del dataset\n",
    "dataset <- fread(\"/content/datasets/dataset_pequeno.csv\")\n",
    "\n",
    "# trabajo solo con los datos con clase, es decir 202107\n",
    "dataset <- dataset[clase_ternaria != \"\"]"
   ]
  },
  {
   "cell_type": "code",
   "execution_count": 19,
   "metadata": {
    "id": "wsk0F77ambVW"
   },
   "outputs": [
    {
     "data": {
      "text/plain": [
       "[1] \"2025-09-12 16:13:00 UTC\""
      ]
     },
     "metadata": {},
     "output_type": "display_data"
    },
    {
     "name": "stdout",
     "output_type": "stream",
     "text": [
      "1 48450000 50050000 1 \n",
      "2 50490000 51130000 0.5 \n",
      "3 50380000 50910000 0.25 \n",
      "4 40660000 44110000 0.125 \n",
      "5 44180000 45550000 0.0625 \n",
      "6 50500000 53030000 0.03125 \n",
      "$out\n",
      "[1] 2\n",
      "\n",
      "$qsemillas\n",
      "[1] 6\n",
      "\n",
      "$m1\n",
      "[1] 47443333\n",
      "\n",
      "$m2\n",
      "[1] 49130000\n",
      "\n"
     ]
    },
    {
     "data": {
      "text/plain": [
       "[1] \"2025-09-12 16:24:39 UTC\""
      ]
     },
     "metadata": {},
     "output_type": "display_data"
    }
   ],
   "source": [
    "Sys.time()\n",
    "\n",
    "comparacion <- MejorArbol(\n",
    "   PARAM$qsemillas_tope,\n",
    "   PARAM$training_pct,\n",
    "   PARAM$rpart1,\n",
    "   PARAM$rpart2\n",
    " )\n",
    "\n",
    "\n",
    "print( comparacion )\n",
    "\n",
    "Sys.time()"
   ]
  },
  {
   "cell_type": "markdown",
   "metadata": {
    "id": "d2br1bgJlpHQ"
   },
   "source": [
    "### Acciones a realizar\n",
    "* Reportar la  los resultados en la planilla colaborativa hoja  **C2-Wilcox**\n"
   ]
  },
  {
   "cell_type": "markdown",
   "metadata": {
    "id": "x7SebtV2lpHQ"
   },
   "source": [
    "\n",
    "\n",
    "---\n",
    "\n"
   ]
  }
 ],
 "metadata": {
  "colab": {
   "provenance": []
  },
  "kernelspec": {
   "display_name": "R",
   "language": "R",
   "name": "ir"
  },
  "language_info": {
   "codemirror_mode": "r",
   "file_extension": ".r",
   "mimetype": "text/x-r-source",
   "name": "R",
   "pygments_lexer": "r",
   "version": "4.4.3"
  }
 },
 "nbformat": 4,
 "nbformat_minor": 4
}
