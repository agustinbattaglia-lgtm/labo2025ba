{
 "cells": [
  {
   "cell_type": "markdown",
   "metadata": {
    "id": "F3r8aa3pBigj"
   },
   "source": [
    "# Tarea para el Hogar 02"
   ]
  },
  {
   "cell_type": "markdown",
   "metadata": {
    "id": "nBm4ktHUBmZt"
   },
   "source": [
    "Esta Tarea para el Hogar 02 se entrega el final de la segunda clase\n",
    "<br> se espera de usted que intente avanzar con los desafios propuestos y que los traiga terminados para la Clase 03, ya que se analizarán los resultados"
   ]
  },
  {
   "cell_type": "markdown",
   "metadata": {
    "id": "TK-M04ElCESC"
   },
   "source": [
    "##  1. Ensembles de Modelos"
   ]
  },
  {
   "cell_type": "markdown",
   "metadata": {
    "id": "biPYxgobCOSS"
   },
   "source": [
    "Vea el siguiente video [BBC - The Code - The Wisdom of the Crowd](https://www.youtube.com/watch?v=iOucwX7Z1HU)    ( 5 min)\n"
   ]
  },
  {
   "cell_type": "markdown",
   "metadata": {
    "id": "FBszBRyNCcjp"
   },
   "source": [
    "Lea los siguientes artículos\n",
    "\n",
    "\n",
    "*   [The Wisdom of Crowds (Vox Populi) by Francis Galton](https://www.all-about-psychology.com/the-wisdom-of-crowds.html)  (10 min)\n",
    "*   [A Gentle Introduction to Ensemble Learning](https://machinelearningmastery.com/what-is-ensemble-learning/)  (10 min)\n",
    "\n"
   ]
  },
  {
   "cell_type": "markdown",
   "metadata": {
    "id": "x7SebtV2lpHQ"
   },
   "source": [
    "\n",
    "\n",
    "---\n",
    "\n"
   ]
  },
  {
   "cell_type": "markdown",
   "metadata": {
    "id": "NQcY8u2MDSLT"
   },
   "source": [
    "##  2.  Zero2Hero   primera parte\n",
    "Se han lanzado los primeros fascículos coleccionables llamados \"from Zero to Hero\" que muy detalladamente, paso a paso enseñan todo lo necesario de R para entender los scripts oficiales de la asignatura.\n",
    "Están en el repositorio oficial de la asignatura, carpeta  **src/zero2hero**"
   ]
  },
  {
   "cell_type": "markdown",
   "metadata": {
    "id": "GcO0OSiIEAGy"
   },
   "source": [
    "\n",
    "\n",
    "---\n",
    "\n"
   ]
  },
  {
   "cell_type": "markdown",
   "metadata": {
    "id": "6MStcyn0EBdT"
   },
   "source": [
    "## 3.  Grid Search"
   ]
  },
  {
   "cell_type": "markdown",
   "metadata": {
    "id": "gM8RKXDgEIY0"
   },
   "source": [
    "Busque en internet el precido significado de los hiperparámetros de la librería **rpart**  que está implementando el algoritmo **CART**  Classification and Regression Trees  propuesto en el año 1984 por Leo Brieman:\n",
    "\n",
    "*   cp\n",
    "*   maxdepth\n",
    "*   minsplit\n",
    "*   minbucket\n",
    "\n",
    "Entienda que valores es razonable tome cada hiperparámetro,  en particular profundice en el hiperparámetro  **cp**  y la posibilidad que tome valores negativos.  Es válido consultar a su amigo de *capacidades especiales*  ChatGPT\n"
   ]
  },
  {
   "cell_type": "markdown",
   "metadata": {
    "id": "_k7eT3HIFy9y"
   },
   "source": [
    "En las siguientes celdas a un notebook incompleto, un esqueleto de codigo brindado a modo de facilitarle la tarea de codeo y permitir que su valiosa cognición se concentre temas conceptuales de Ciencia de Datos\n",
    "\n",
    "Modifiquelo agregando loops para que recorra TODOS los hiperparámetros de rpart  < cp, maxdepth, minsplit, minbucket >, y luego póngalo a correr. Recuerde cambiar por SU semilla\n",
    "Tenga muy presente la granularidad que eligirá para cada hiperparámetro."
   ]
  },
  {
   "cell_type": "markdown",
   "metadata": {
    "id": "kmLygy1TYPfg"
   },
   "source": [
    "### Seteo del ambiente en Google Colab"
   ]
  },
  {
   "cell_type": "markdown",
   "metadata": {
    "id": "OikOm5K2YU3X"
   },
   "source": [
    "Esta parte se debe correr con el runtime en Python3\n",
    "<br>Ir al menu, Runtime -> Change Runtime Tipe -> Runtime type ->  **Python 3**"
   ]
  },
  {
   "cell_type": "markdown",
   "metadata": {
    "id": "4fmV5LyZdFyI"
   },
   "source": [
    "Conectar la virtual machine donde esta corriendo Google Colab con el  Google Drive, para poder tener persistencia de archivos"
   ]
  },
  {
   "cell_type": "code",
   "execution_count": 56,
   "metadata": {
    "id": "ilEZ-bE2VybW"
   },
   "outputs": [
    {
     "ename": "ERROR",
     "evalue": "Error in parse(text = input): <text>:2:6: unexpected symbol\n1: # primero establecer el Runtime de Python 3\n2: from google.colab\n        ^\n",
     "output_type": "error",
     "traceback": [
      "Error in parse(text = input): <text>:2:6: unexpected symbol\n1: # primero establecer el Runtime de Python 3\n2: from google.colab\n        ^\nTraceback:\n"
     ]
    }
   ],
   "source": [
    "# primero establecer el Runtime de Python 3\n",
    "from google.colab import drive\n",
    "drive.mount('/content/.drive')"
   ]
  },
  {
   "cell_type": "markdown",
   "metadata": {
    "id": "ilaKtqWldeWg"
   },
   "source": [
    "Para correr la siguiente celda es fundamental en Arranque en Frio haber copiado el archivo kaggle.json al Google Drive, en la carpeta indicada en el instructivo\n",
    "\n",
    "<br>los siguientes comando estan en shell script de Linux\n",
    "*   Crear las carpetas en el Google Drive\n",
    "*   \"instalar\" el archivo kaggle.json desde el Google Drive a la virtual machine para que pueda ser utilizado por la libreria  kaggle de Python\n",
    "*   Bajar el  **dataset_pequeno**  al  Google Drive  y tambien al disco local de la virtual machine que esta corriendo Google Colab\n",
    "\n"
   ]
  },
  {
   "cell_type": "code",
   "execution_count": null,
   "metadata": {
    "id": "W8dQFI5QYCFa"
   },
   "outputs": [],
   "source": [
    "%%shell\n",
    "\n",
    "mkdir -p \"/content/.drive/My Drive/labo1\"\n",
    "mkdir -p \"/content/buckets\"\n",
    "ln -s \"/content/.drive/My Drive/labo1\" /content/buckets/b1\n",
    "\n",
    "mkdir -p ~/.kaggle\n",
    "cp /content/buckets/b1/kaggle/kaggle.json  ~/.kaggle\n",
    "chmod 600 ~/.kaggle/kaggle.json\n",
    "\n",
    "\n",
    "mkdir -p /content/buckets/b1/exp\n",
    "mkdir -p /content/buckets/b1/datasets\n",
    "mkdir -p /content/datasets\n",
    "\n",
    "\n",
    "\n",
    "archivo_origen=\"https://storage.googleapis.com/open-courses/austral2025-af91/dataset_pequeno.csv\"\n",
    "archivo_destino=\"/content/datasets/dataset_pequeno.csv\"\n",
    "archivo_destino_bucket=\"/content/buckets/b1/datasets/dataset_pequeno.csv\"\n",
    "\n",
    "if ! test -f $archivo_destino_bucket; then\n",
    "  wget  $archivo_origen  -O $archivo_destino_bucket\n",
    "fi\n",
    "\n",
    "\n",
    "if ! test -f $archivo_destino; then\n",
    "  cp  $archivo_destino_bucket  $archivo_destino\n",
    "fi\n",
    "\n"
   ]
  },
  {
   "cell_type": "markdown",
   "metadata": {
    "id": "SE94XRhWsxkX"
   },
   "source": [
    "limpio el ambiente de R"
   ]
  },
  {
   "cell_type": "code",
   "execution_count": 36,
   "metadata": {
    "id": "oZG_4br6szlT"
   },
   "outputs": [
    {
     "data": {
      "text/html": [
       "<table class=\"dataframe\">\n",
       "<caption>A matrix: 2 × 6 of type dbl</caption>\n",
       "<thead>\n",
       "\t<tr><th></th><th scope=col>used</th><th scope=col>(Mb)</th><th scope=col>gc trigger</th><th scope=col>(Mb)</th><th scope=col>max used</th><th scope=col>(Mb)</th></tr>\n",
       "</thead>\n",
       "<tbody>\n",
       "\t<tr><th scope=row>Ncells</th><td> 806219</td><td>43.1</td><td> 1439391</td><td> 76.9</td><td>  1439391</td><td> 76.9</td></tr>\n",
       "\t<tr><th scope=row>Vcells</th><td>1542072</td><td>11.8</td><td>54412084</td><td>415.2</td><td>103944742</td><td>793.1</td></tr>\n",
       "</tbody>\n",
       "</table>\n"
      ],
      "text/latex": [
       "A matrix: 2 × 6 of type dbl\n",
       "\\begin{tabular}{r|llllll}\n",
       "  & used & (Mb) & gc trigger & (Mb) & max used & (Mb)\\\\\n",
       "\\hline\n",
       "\tNcells &  806219 & 43.1 &  1439391 &  76.9 &   1439391 &  76.9\\\\\n",
       "\tVcells & 1542072 & 11.8 & 54412084 & 415.2 & 103944742 & 793.1\\\\\n",
       "\\end{tabular}\n"
      ],
      "text/markdown": [
       "\n",
       "A matrix: 2 × 6 of type dbl\n",
       "\n",
       "| <!--/--> | used | (Mb) | gc trigger | (Mb) | max used | (Mb) |\n",
       "|---|---|---|---|---|---|---|\n",
       "| Ncells |  806219 | 43.1 |  1439391 |  76.9 |   1439391 |  76.9 |\n",
       "| Vcells | 1542072 | 11.8 | 54412084 | 415.2 | 103944742 | 793.1 |\n",
       "\n"
      ],
      "text/plain": [
       "       used    (Mb) gc trigger (Mb)  max used  (Mb) \n",
       "Ncells  806219 43.1  1439391    76.9   1439391  76.9\n",
       "Vcells 1542072 11.8 54412084   415.2 103944742 793.1"
      ]
     },
     "metadata": {},
     "output_type": "display_data"
    }
   ],
   "source": [
    "# limpio la memoria\n",
    "rm(list=ls(all.names=TRUE)) # remove all objects\n",
    "gc(full=TRUE, verbose=FALSE) # garbage collection"
   ]
  },
  {
   "cell_type": "code",
   "execution_count": 37,
   "metadata": {
    "id": "JO-12d7YHkWy"
   },
   "outputs": [],
   "source": [
    "# cargo las librerias que necesito\n",
    "require(\"data.table\")\n",
    "require(\"rpart\")\n",
    "require(\"parallel\")\n",
    "if (!require(\"primes\")) install.packages(\"primes\")\n",
    "require(\"primes\")"
   ]
  },
  {
   "cell_type": "markdown",
   "metadata": {
    "id": "0MclPEJ6Q8Bp"
   },
   "source": [
    "Aqui debe poner SU semiila primigenia"
   ]
  },
  {
   "cell_type": "code",
   "execution_count": 38,
   "metadata": {
    "id": "Vt5fC6bWHu5r"
   },
   "outputs": [],
   "source": [
    "PARAM <- list()\n",
    "# reemplazar por su primer semilla\n",
    "PARAM$semilla_primigenia <- 31215\n",
    "PARAM$qsemillas <- 1\n",
    "\n",
    "PARAM$training_pct <- 70L  # entre  1L y 99L\n",
    "\n",
    "# elegir SU dataset comentando/ descomentando\n",
    "PARAM$dataset_nom <- \"~/datasets/dataset_pequeno.csv\""
   ]
  },
  {
   "cell_type": "code",
   "execution_count": 39,
   "metadata": {
    "id": "Z1dchsrWH4MD"
   },
   "outputs": [],
   "source": [
    "# particionar agrega una columna llamada fold a un dataset\n",
    "#  que consiste en una particion estratificada segun agrupa\n",
    "# particionar( data=dataset, division=c(70,30), agrupa=clase_ternaria, seed=semilla)\n",
    "#   crea una particion 70, 30\n",
    "\n",
    "particionar <- function(data, division, agrupa = \"\", campo = \"fold\", start = 1, seed = NA) {\n",
    "  if (!is.na(seed)) set.seed(seed)\n",
    "\n",
    "  bloque <- unlist(mapply(function(x, y) {\n",
    "    rep(y, x)\n",
    "  }, division, seq(from = start, length.out = length(division))))\n",
    "\n",
    "  data[, (campo) := sample(rep(bloque, ceiling(.N / length(bloque))))[1:.N],\n",
    "    by = agrupa\n",
    "  ]\n",
    "}\n"
   ]
  },
  {
   "cell_type": "code",
   "execution_count": 40,
   "metadata": {
    "id": "xsHwS1CzIA70"
   },
   "outputs": [],
   "source": [
    "ArbolEstimarGanancia <- function(semilla, training_pct, param_basicos) {\n",
    "  # particiono estratificadamente el dataset\n",
    "  particionar(dataset,\n",
    "    division = c(training_pct, 100L -training_pct),\n",
    "    agrupa = \"clase_ternaria\",\n",
    "    seed = semilla # aqui se usa SU semilla\n",
    "  )\n",
    "\n",
    "  # genero el modelo\n",
    "  # predecir clase_ternaria a partir del resto\n",
    "  modelo <- rpart(\"clase_ternaria ~ .\",\n",
    "    data = dataset[fold == 1], # fold==1  es training,  el 70% de los datos\n",
    "    xval = 0,\n",
    "    control = param_basicos\n",
    "  ) # aqui van los parametros del arbol\n",
    "\n",
    "  # aplico el modelo a los datos de testing\n",
    "  prediccion <- predict(modelo, # el modelo que genere recien\n",
    "    dataset[fold == 2], # fold==2  es testing, el 30% de los datos\n",
    "    type = \"prob\"\n",
    "  ) # type= \"prob\"  es que devuelva la probabilidad\n",
    "\n",
    "  # prediccion es una matriz con TRES columnas,\n",
    "  #  llamadas \"BAJA+1\", \"BAJA+2\"  y \"CONTINUA\"\n",
    "  # cada columna es el vector de probabilidades\n",
    "\n",
    "\n",
    "  # calculo la ganancia en testing  qu es fold==2\n",
    "  ganancia_test <- dataset[\n",
    "    fold == 2,\n",
    "    sum(ifelse(prediccion[, \"BAJA+2\"] > 0.025,\n",
    "      ifelse(clase_ternaria == \"BAJA+2\", 117000, -3000),\n",
    "      0\n",
    "    ))\n",
    "  ]\n",
    "\n",
    "  # escalo la ganancia como si fuera todo el dataset\n",
    "  ganancia_test_normalizada <- ganancia_test / (( 100 - PARAM$training_pct ) / 100 )\n",
    "\n",
    "  return(\n",
    "    c( list(\"semilla\" = semilla),\n",
    "      param_basicos,\n",
    "      list( \"ganancia_test\" = ganancia_test_normalizada )\n",
    "     )\n",
    "  )\n",
    "}\n"
   ]
  },
  {
   "cell_type": "code",
   "execution_count": 41,
   "metadata": {
    "id": "BvBVOuhqIEjD"
   },
   "outputs": [],
   "source": [
    "ArbolesMontecarlo <- function(semillas, param_basicos) {\n",
    "\n",
    "  # la funcion mcmapply  llama a la funcion ArbolEstimarGanancia\n",
    "  #  tantas veces como valores tenga el vector  PARAM$semillas\n",
    "  salida <- mcmapply(ArbolEstimarGanancia,\n",
    "    semillas, # paso el vector de semillas\n",
    "    MoreArgs = list(PARAM$training_pct, param_basicos), # aqui paso el segundo parametro\n",
    "    SIMPLIFY = FALSE,\n",
    "    mc.cores = detectCores()\n",
    "  )\n",
    "\n",
    "  return(salida)\n",
    "}\n"
   ]
  },
  {
   "cell_type": "code",
   "execution_count": 42,
   "metadata": {
    "id": "L-DOGHOjIG7G"
   },
   "outputs": [
    {
     "ename": "ERROR",
     "evalue": "Error in setwd(\"/content/buckets/b1/exp\"): cannot change working directory\n",
     "output_type": "error",
     "traceback": [
      "Error in setwd(\"/content/buckets/b1/exp\"): cannot change working directory\nTraceback:\n",
      "1. .handleSimpleError(function (cnd) \n . {\n .     watcher$capture_plot_and_output()\n .     cnd <- sanitize_call(cnd)\n .     watcher$push(cnd)\n .     switch(on_error, continue = invokeRestart(\"eval_continue\"), \n .         stop = invokeRestart(\"eval_stop\"), error = NULL)\n . }, \"cannot change working directory\", base::quote(setwd(\"/content/buckets/b1/exp\")))"
     ]
    }
   ],
   "source": [
    "# carpeta de trabajo\n",
    "# por fabor cambiar numero de experimento si se cambia el loop principal\n",
    "setwd(\"/content/buckets/b1/exp\")\n",
    "experimento <- \"HT2\"\n",
    "dir.create(experimento, showWarnings=FALSE)\n",
    "setwd( paste0(\"/content/buckets/b1/exp/\", experimento ))"
   ]
  },
  {
   "cell_type": "code",
   "execution_count": 43,
   "metadata": {
    "id": "NM-mrLWcIPo6"
   },
   "outputs": [],
   "source": [
    "# lectura del dataset\n",
    "dataset <- fread(\"/content/datasets/dataset_pequeno.csv\")\n",
    "\n",
    "# trabajo solo con los datos con clase, es decir 202107\n",
    "dataset <- dataset[clase_ternaria != \"\"]"
   ]
  },
  {
   "cell_type": "code",
   "execution_count": 44,
   "metadata": {
    "id": "tSlY0EcgIWdi"
   },
   "outputs": [],
   "source": [
    "\n",
    "# genero numeros primos\n",
    "primos <- generate_primes(min = 100000, max = 1000000)\n",
    "set.seed(PARAM$semilla_primigenia) # inicializo\n",
    "# me quedo con PARAM$qsemillas   semillas\n",
    "PARAM$semillas <- sample(primos, PARAM$qsemillas )\n"
   ]
  },
  {
   "cell_type": "code",
   "execution_count": 45,
   "metadata": {
    "id": "xxCAwIKyIaTl"
   },
   "outputs": [
    {
     "data": {
      "text/html": [
       "0"
      ],
      "text/latex": [
       "0"
      ],
      "text/markdown": [
       "0"
      ],
      "text/plain": [
       "[1] 0"
      ]
     },
     "metadata": {},
     "output_type": "display_data"
    }
   ],
   "source": [
    "# genero la data.table donde van los resultados detallados del Grid Search\n",
    "# un registro para cada combinacion de < semilla, parametros >\n",
    "\n",
    "if(file.exists(\"gridsearch_detalle.txt\")){\n",
    "  tb_grid_search_detalle <- fread(\"gridsearch_detalle.txt\")\n",
    "}else{\n",
    "  tb_grid_search_detalle <- data.table(\n",
    "    semilla = integer(),\n",
    "    cp = numeric(),\n",
    "    maxdepth = integer(),\n",
    "   minsplit = integer(),\n",
    "    minbucket = integer(),\n",
    "    ganancia_test = numeric()\n",
    "  )\n",
    "}\n",
    "\n",
    "nrow( tb_grid_search_detalle )"
   ]
  },
  {
   "cell_type": "markdown",
   "metadata": {
    "id": "eAuGBNL8IkOD"
   },
   "source": [
    "Esta es la parte del código que usted debe expandir a TODOS los hiperparámetros de rpart,\n",
    "<br>ya que actualmente apenas recorre  maxdepth y  minsplit  dejando fijos  cp=-0.5  y minbucket=5"
   ]
  },
  {
   "cell_type": "code",
   "execution_count": 46,
   "metadata": {
    "id": "ipLHm3STIfmb"
   },
   "outputs": [
    {
     "name": "stdout",
     "output_type": "stream",
     "text": [
      "1  "
     ]
    }
   ],
   "source": [
    "iter <- 0\n",
    "\n",
    "for (vmax_depth in c(6)) {\n",
    "\n",
    "  for (vmin_split in c(800)) {\n",
    "\n",
    "    for (cp in c(-0.5)) {\n",
    "\n",
    "      for (minbucket in c(267)) {\n",
    "\n",
    "        iter <- iter + 1\n",
    "        cat(iter, \" \")\n",
    "        flush.console()\n",
    "\n",
    "        if (iter * PARAM$qsemillas < nrow(tb_grid_search_detalle) + 1) next\n",
    "\n",
    "        param_basicos <- list(\n",
    "          \"cp\"        = cp,\n",
    "          \"maxdepth\"  = vmax_depth,\n",
    "          \"minsplit\"  = vmin_split,\n",
    "          \"minbucket\" = minbucket\n",
    "        )\n",
    "\n",
    "        ganancias <- ArbolesMontecarlo(PARAM$semillas, param_basicos)\n",
    "\n",
    "        tb_grid_search_detalle <- rbindlist(\n",
    "          list(tb_grid_search_detalle, rbindlist(ganancias)),\n",
    "          fill = TRUE, use.names = TRUE\n",
    "        )\n",
    "\n",
    "      } # fin for minbucket\n",
    "\n",
    "    } # fin for cp\n",
    "\n",
    "    fwrite(tb_grid_search_detalle,\n",
    "           file = \"gridsearch_detalle.txt\",\n",
    "           sep = \"\\t\")\n",
    "\n",
    "  } # fin for vmin_split\n",
    "\n",
    "} # fin for vmax_depth\n"
   ]
  },
  {
   "cell_type": "code",
   "execution_count": 47,
   "metadata": {
    "id": "WZaSqYBxiDFu"
   },
   "outputs": [],
   "source": [
    "fwrite( tb_grid_search_detalle,\n",
    "   file = \"gridsearch_detalle.txt\",\n",
    "   sep = \"\\t\"\n",
    ")"
   ]
  },
  {
   "cell_type": "code",
   "execution_count": 48,
   "metadata": {
    "id": "STp0duM-RYVJ"
   },
   "outputs": [
    {
     "data": {
      "text/html": [
       "1"
      ],
      "text/latex": [
       "1"
      ],
      "text/markdown": [
       "1"
      ],
      "text/plain": [
       "[1] 1"
      ]
     },
     "metadata": {},
     "output_type": "display_data"
    }
   ],
   "source": [
    "# cantidad de registros de la tabla\n",
    "nrow(tb_grid_search_detalle)"
   ]
  },
  {
   "cell_type": "code",
   "execution_count": 49,
   "metadata": {
    "id": "k7fhk_H0iNez"
   },
   "outputs": [
    {
     "data": {
      "text/html": [
       "<table class=\"dataframe\">\n",
       "<caption>A data.table: 1 × 6</caption>\n",
       "<thead>\n",
       "\t<tr><th scope=col>semilla</th><th scope=col>cp</th><th scope=col>maxdepth</th><th scope=col>minsplit</th><th scope=col>minbucket</th><th scope=col>ganancia_test</th></tr>\n",
       "\t<tr><th scope=col>&lt;int&gt;</th><th scope=col>&lt;dbl&gt;</th><th scope=col>&lt;dbl&gt;</th><th scope=col>&lt;dbl&gt;</th><th scope=col>&lt;dbl&gt;</th><th scope=col>&lt;dbl&gt;</th></tr>\n",
       "</thead>\n",
       "<tbody>\n",
       "\t<tr><td>821153</td><td>-0.5</td><td>6</td><td>800</td><td>267</td><td>48700000</td></tr>\n",
       "</tbody>\n",
       "</table>\n"
      ],
      "text/latex": [
       "A data.table: 1 × 6\n",
       "\\begin{tabular}{llllll}\n",
       " semilla & cp & maxdepth & minsplit & minbucket & ganancia\\_test\\\\\n",
       " <int> & <dbl> & <dbl> & <dbl> & <dbl> & <dbl>\\\\\n",
       "\\hline\n",
       "\t 821153 & -0.5 & 6 & 800 & 267 & 48700000\\\\\n",
       "\\end{tabular}\n"
      ],
      "text/markdown": [
       "\n",
       "A data.table: 1 × 6\n",
       "\n",
       "| semilla &lt;int&gt; | cp &lt;dbl&gt; | maxdepth &lt;dbl&gt; | minsplit &lt;dbl&gt; | minbucket &lt;dbl&gt; | ganancia_test &lt;dbl&gt; |\n",
       "|---|---|---|---|---|---|\n",
       "| 821153 | -0.5 | 6 | 800 | 267 | 48700000 |\n",
       "\n"
      ],
      "text/plain": [
       "  semilla cp   maxdepth minsplit minbucket ganancia_test\n",
       "1 821153  -0.5 6        800      267       48700000     "
      ]
     },
     "metadata": {},
     "output_type": "display_data"
    }
   ],
   "source": [
    "# muestro la tabla\n",
    "tb_grid_search_detalle"
   ]
  },
  {
   "cell_type": "code",
   "execution_count": 50,
   "metadata": {
    "id": "DjCxtx8bIsgl"
   },
   "outputs": [],
   "source": [
    "# genero y grabo el resumen\n",
    "tb_grid_search <- tb_grid_search_detalle[,\n",
    "  list( \"ganancia_mean\" = mean(ganancia_test),\n",
    "    \"qty\" = .N ),\n",
    "  list( cp, maxdepth, minsplit, minbucket )\n",
    "]\n"
   ]
  },
  {
   "cell_type": "code",
   "execution_count": 51,
   "metadata": {
    "id": "LU29UhL1Ivg5"
   },
   "outputs": [],
   "source": [
    "# ordeno descendente por ganancia\n",
    "setorder( tb_grid_search, -ganancia_mean )\n"
   ]
  },
  {
   "cell_type": "code",
   "execution_count": 52,
   "metadata": {
    "id": "g-EjGY7aIyWL"
   },
   "outputs": [
    {
     "data": {
      "text/html": [
       "<table class=\"dataframe\">\n",
       "<caption>A data.table: 10 × 6</caption>\n",
       "<thead>\n",
       "\t<tr><th scope=col>cp</th><th scope=col>maxdepth</th><th scope=col>minsplit</th><th scope=col>minbucket</th><th scope=col>ganancia_mean</th><th scope=col>qty</th></tr>\n",
       "\t<tr><th scope=col>&lt;dbl&gt;</th><th scope=col>&lt;dbl&gt;</th><th scope=col>&lt;dbl&gt;</th><th scope=col>&lt;dbl&gt;</th><th scope=col>&lt;dbl&gt;</th><th scope=col>&lt;int&gt;</th></tr>\n",
       "</thead>\n",
       "<tbody>\n",
       "\t<tr><td>-0.5</td><td> 6</td><td>800</td><td>267</td><td>48700000</td><td> 1</td></tr>\n",
       "\t<tr><td>  NA</td><td>NA</td><td> NA</td><td> NA</td><td>      NA</td><td>NA</td></tr>\n",
       "\t<tr><td>  NA</td><td>NA</td><td> NA</td><td> NA</td><td>      NA</td><td>NA</td></tr>\n",
       "\t<tr><td>  NA</td><td>NA</td><td> NA</td><td> NA</td><td>      NA</td><td>NA</td></tr>\n",
       "\t<tr><td>  NA</td><td>NA</td><td> NA</td><td> NA</td><td>      NA</td><td>NA</td></tr>\n",
       "\t<tr><td>  NA</td><td>NA</td><td> NA</td><td> NA</td><td>      NA</td><td>NA</td></tr>\n",
       "\t<tr><td>  NA</td><td>NA</td><td> NA</td><td> NA</td><td>      NA</td><td>NA</td></tr>\n",
       "\t<tr><td>  NA</td><td>NA</td><td> NA</td><td> NA</td><td>      NA</td><td>NA</td></tr>\n",
       "\t<tr><td>  NA</td><td>NA</td><td> NA</td><td> NA</td><td>      NA</td><td>NA</td></tr>\n",
       "\t<tr><td>  NA</td><td>NA</td><td> NA</td><td> NA</td><td>      NA</td><td>NA</td></tr>\n",
       "</tbody>\n",
       "</table>\n"
      ],
      "text/latex": [
       "A data.table: 10 × 6\n",
       "\\begin{tabular}{llllll}\n",
       " cp & maxdepth & minsplit & minbucket & ganancia\\_mean & qty\\\\\n",
       " <dbl> & <dbl> & <dbl> & <dbl> & <dbl> & <int>\\\\\n",
       "\\hline\n",
       "\t -0.5 &  6 & 800 & 267 & 48700000 &  1\\\\\n",
       "\t   NA & NA &  NA &  NA &       NA & NA\\\\\n",
       "\t   NA & NA &  NA &  NA &       NA & NA\\\\\n",
       "\t   NA & NA &  NA &  NA &       NA & NA\\\\\n",
       "\t   NA & NA &  NA &  NA &       NA & NA\\\\\n",
       "\t   NA & NA &  NA &  NA &       NA & NA\\\\\n",
       "\t   NA & NA &  NA &  NA &       NA & NA\\\\\n",
       "\t   NA & NA &  NA &  NA &       NA & NA\\\\\n",
       "\t   NA & NA &  NA &  NA &       NA & NA\\\\\n",
       "\t   NA & NA &  NA &  NA &       NA & NA\\\\\n",
       "\\end{tabular}\n"
      ],
      "text/markdown": [
       "\n",
       "A data.table: 10 × 6\n",
       "\n",
       "| cp &lt;dbl&gt; | maxdepth &lt;dbl&gt; | minsplit &lt;dbl&gt; | minbucket &lt;dbl&gt; | ganancia_mean &lt;dbl&gt; | qty &lt;int&gt; |\n",
       "|---|---|---|---|---|---|\n",
       "| -0.5 |  6 | 800 | 267 | 48700000 |  1 |\n",
       "|   NA | NA |  NA |  NA |       NA | NA |\n",
       "|   NA | NA |  NA |  NA |       NA | NA |\n",
       "|   NA | NA |  NA |  NA |       NA | NA |\n",
       "|   NA | NA |  NA |  NA |       NA | NA |\n",
       "|   NA | NA |  NA |  NA |       NA | NA |\n",
       "|   NA | NA |  NA |  NA |       NA | NA |\n",
       "|   NA | NA |  NA |  NA |       NA | NA |\n",
       "|   NA | NA |  NA |  NA |       NA | NA |\n",
       "|   NA | NA |  NA |  NA |       NA | NA |\n",
       "\n"
      ],
      "text/plain": [
       "   cp   maxdepth minsplit minbucket ganancia_mean qty\n",
       "1  -0.5  6       800      267       48700000       1 \n",
       "2    NA NA        NA       NA             NA      NA \n",
       "3    NA NA        NA       NA             NA      NA \n",
       "4    NA NA        NA       NA             NA      NA \n",
       "5    NA NA        NA       NA             NA      NA \n",
       "6    NA NA        NA       NA             NA      NA \n",
       "7    NA NA        NA       NA             NA      NA \n",
       "8    NA NA        NA       NA             NA      NA \n",
       "9    NA NA        NA       NA             NA      NA \n",
       "10   NA NA        NA       NA             NA      NA "
      ]
     },
     "metadata": {},
     "output_type": "display_data"
    }
   ],
   "source": [
    "# veo los 10 mejores hiperparámetros\n",
    "tb_grid_search[1:10]"
   ]
  },
  {
   "cell_type": "code",
   "execution_count": 53,
   "metadata": {
    "id": "K3S-I2PTI5ZE"
   },
   "outputs": [],
   "source": [
    "# genero un id a la tabla\n",
    "tb_grid_search[, id := .I ]\n",
    "\n",
    "fwrite( tb_grid_search,\n",
    "  file = \"gridsearch.txt\",\n",
    "  sep = \"\\t\"\n",
    ")\n"
   ]
  },
  {
   "cell_type": "markdown",
   "metadata": {
    "id": "1rYHk1YkI_9k"
   },
   "source": [
    "# 4.  Análisis de resultados de Grid Search"
   ]
  },
  {
   "cell_type": "markdown",
   "metadata": {
    "id": "ZTJgPhMWJHTk"
   },
   "source": [
    "La salida de la corrida anterior queda en ~/buckets/b1/exp/HT2900  que corresponde a su Google Drive\n",
    "<br>HT significa Hyperparameter Tuning\n",
    "<br>El Grid Search es un método de fuerza bruta de un altísimo costo computacional.\n",
    "<br>Queremos ver si es posible crear un algoritmo de optimización de hiperparámetros que se ahorre recorrer ciertas porciones muy malas del espacio de búsqueda. Algo del estilo “cada vez que pruebo una combinación de hiperparámetros donde  cp > 1 , la ganancia es muy mala, con lo cual ni vale la pena perder el tiempo explorando en esa region”\n"
   ]
  },
  {
   "cell_type": "markdown",
   "metadata": {
    "id": "IaVgMu4tPwyB"
   },
   "source": [
    "<br>Levante el archivo de salida gridsearch.txt  a una planilla tipo Excel y analícelo detenidamente\n",
    "<br>Ordene por ganancia_mean descendente\n",
    "<br>\n",
    "<br>El de mayor ganancia_mean  decimos que es el primero del ranking\n",
    "En Zulip, correspondiente channel  #Tarea Hogar 02 , topic Analisis Grid Search   intente contestar estas preguntas:\n",
    "\n",
    "* ¿Qué combinaciones de hiperparámetros poseen una ganancia muy buena?\n",
    "* ¿Hay algun hiperparámetro que para cierto valor siempre genera una ganancia muy mala, a independientemente de lo que valgan los otros hiperparámetros ?\n",
    "* ¿Que combinaciones de hiperparámetros es pésima y hubiera sido bueno ahorrarse esas corridas ?\n",
    "\n",
    "( tiempo estimado 30 minutos, dificultad media )"
   ]
  }
 ],
 "metadata": {
  "colab": {
   "provenance": []
  },
  "kernelspec": {
   "display_name": "R",
   "language": "R",
   "name": "ir"
  },
  "language_info": {
   "codemirror_mode": "r",
   "file_extension": ".r",
   "mimetype": "text/x-r-source",
   "name": "R",
   "pygments_lexer": "r",
   "version": "4.4.3"
  }
 },
 "nbformat": 4,
 "nbformat_minor": 4
}
